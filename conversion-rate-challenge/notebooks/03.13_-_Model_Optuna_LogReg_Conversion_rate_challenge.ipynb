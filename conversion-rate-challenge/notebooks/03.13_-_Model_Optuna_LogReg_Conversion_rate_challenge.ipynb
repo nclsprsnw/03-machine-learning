{
 "cells": [
  {
   "cell_type": "markdown",
   "metadata": {
    "colab_type": "text",
    "id": "0eiKSLYG8XvO"
   },
   "source": [
    "# Model: Logistic Regression with all the columns\n",
    "\n",
    "In this notebook, all the training/predictions steps are implemented for a very basic model (logistic regression with all the features). \n",
    "The goal is to get the best f1-score ! May the force be with you 🧨🧨  "
   ]
  },
  {
   "cell_type": "markdown",
   "metadata": {},
   "source": [
    "# Import libraries"
   ]
  },
  {
   "cell_type": "code",
   "execution_count": 25,
   "metadata": {
    "colab": {},
    "colab_type": "code",
    "id": "AGhdl7Bt2xZd"
   },
   "outputs": [],
   "source": [
    "import pandas as pd\n",
    "import numpy as np\n",
    "import optuna\n",
    "\n",
    "from sklearn.model_selection import train_test_split, StratifiedKFold, cross_val_score\n",
    "from sklearn.preprocessing import OneHotEncoder, StandardScaler\n",
    "from sklearn.compose import ColumnTransformer\n",
    "from sklearn.linear_model import LogisticRegression\n",
    "from sklearn.metrics import f1_score, confusion_matrix, accuracy_score, recall_score,precision_score, RocCurveDisplay\n",
    "from sklearn.pipeline import Pipeline\n",
    "\n",
    "import matplotlib.pyplot as plt\n",
    "\n",
    "from IPython.display import display"
   ]
  },
  {
   "cell_type": "markdown",
   "metadata": {
    "colab_type": "text",
    "id": "LHgro65rxKF7"
   },
   "source": [
    "# Read file with labels"
   ]
  },
  {
   "cell_type": "code",
   "execution_count": 26,
   "metadata": {
    "colab": {
     "base_uri": "https://localhost:8080/",
     "height": 34
    },
    "colab_type": "code",
    "id": "W1AU8AH8u0qd",
    "outputId": "00698a97-027b-493b-a2e4-33fdcc295abb"
   },
   "outputs": [
    {
     "name": "stdout",
     "output_type": "stream",
     "text": [
      "Set with labels (our train+test) : (284578, 6)\n"
     ]
    }
   ],
   "source": [
    "data = pd.read_csv('../data/processed/conversion_data_train_EDA_without_outliers_output.csv')\n",
    "print('Set with labels (our train+test) :', data.shape)"
   ]
  },
  {
   "cell_type": "code",
   "execution_count": 27,
   "metadata": {},
   "outputs": [
    {
     "data": {
      "text/html": [
       "<div>\n",
       "<style scoped>\n",
       "    .dataframe tbody tr th:only-of-type {\n",
       "        vertical-align: middle;\n",
       "    }\n",
       "\n",
       "    .dataframe tbody tr th {\n",
       "        vertical-align: top;\n",
       "    }\n",
       "\n",
       "    .dataframe thead th {\n",
       "        text-align: right;\n",
       "    }\n",
       "</style>\n",
       "<table border=\"1\" class=\"dataframe\">\n",
       "  <thead>\n",
       "    <tr style=\"text-align: right;\">\n",
       "      <th></th>\n",
       "      <th>country</th>\n",
       "      <th>age</th>\n",
       "      <th>new_user</th>\n",
       "      <th>source</th>\n",
       "      <th>total_pages_visited</th>\n",
       "      <th>converted</th>\n",
       "    </tr>\n",
       "  </thead>\n",
       "  <tbody>\n",
       "    <tr>\n",
       "      <th>0</th>\n",
       "      <td>China</td>\n",
       "      <td>22</td>\n",
       "      <td>1</td>\n",
       "      <td>Direct</td>\n",
       "      <td>2</td>\n",
       "      <td>0</td>\n",
       "    </tr>\n",
       "    <tr>\n",
       "      <th>1</th>\n",
       "      <td>UK</td>\n",
       "      <td>21</td>\n",
       "      <td>1</td>\n",
       "      <td>Ads</td>\n",
       "      <td>3</td>\n",
       "      <td>0</td>\n",
       "    </tr>\n",
       "    <tr>\n",
       "      <th>2</th>\n",
       "      <td>Germany</td>\n",
       "      <td>20</td>\n",
       "      <td>0</td>\n",
       "      <td>Seo</td>\n",
       "      <td>14</td>\n",
       "      <td>1</td>\n",
       "    </tr>\n",
       "    <tr>\n",
       "      <th>3</th>\n",
       "      <td>US</td>\n",
       "      <td>23</td>\n",
       "      <td>1</td>\n",
       "      <td>Seo</td>\n",
       "      <td>3</td>\n",
       "      <td>0</td>\n",
       "    </tr>\n",
       "    <tr>\n",
       "      <th>4</th>\n",
       "      <td>US</td>\n",
       "      <td>28</td>\n",
       "      <td>1</td>\n",
       "      <td>Direct</td>\n",
       "      <td>3</td>\n",
       "      <td>0</td>\n",
       "    </tr>\n",
       "  </tbody>\n",
       "</table>\n",
       "</div>"
      ],
      "text/plain": [
       "   country  age  new_user  source  total_pages_visited  converted\n",
       "0    China   22         1  Direct                    2          0\n",
       "1       UK   21         1     Ads                    3          0\n",
       "2  Germany   20         0     Seo                   14          1\n",
       "3       US   23         1     Seo                    3          0\n",
       "4       US   28         1  Direct                    3          0"
      ]
     },
     "execution_count": 27,
     "metadata": {},
     "output_type": "execute_result"
    }
   ],
   "source": [
    "data.head()"
   ]
  },
  {
   "cell_type": "markdown",
   "metadata": {
    "colab_type": "text",
    "id": "70MwsoCS3QD5"
   },
   "source": [
    "# Make your model"
   ]
  },
  {
   "cell_type": "markdown",
   "metadata": {
    "colab_type": "text",
    "id": "dPh1qPTf3wZU"
   },
   "source": [
    "## Choose variables to use in the model, and create train and test sets\n",
    "**From the EDA, we know that the most useful feature is total_pages_visited. Let's create a baseline model by using at first only this feature : in the next cells, we'll make preprocessings and train a simple (univariate) logistic regression.**"
   ]
  },
  {
   "cell_type": "code",
   "execution_count": 28,
   "metadata": {
    "colab": {
     "base_uri": "https://localhost:8080/",
     "height": 50
    },
    "colab_type": "code",
    "id": "SV5E9KMs4xcq",
    "outputId": "9d1ed76e-e82e-45e7-f3e5-6d47962caa5a"
   },
   "outputs": [
    {
     "name": "stdout",
     "output_type": "stream",
     "text": [
      "Explanatory variables :  Index(['country', 'age', 'new_user', 'source', 'total_pages_visited'], dtype='object')\n",
      "\n"
     ]
    }
   ],
   "source": [
    "target_variable = 'converted'\n",
    "X = data.drop(columns=[target_variable])\n",
    "Y = data.loc[:, target_variable]\n",
    "print('Explanatory variables : ', X.columns)\n",
    "print()"
   ]
  },
  {
   "cell_type": "code",
   "execution_count": 29,
   "metadata": {
    "colab": {
     "base_uri": "https://localhost:8080/",
     "height": 67
    },
    "colab_type": "code",
    "id": "W8K5DQEvvQgl",
    "outputId": "d280ebc9-4d4b-4723-b9fe-32513f898abc"
   },
   "outputs": [
    {
     "name": "stdout",
     "output_type": "stream",
     "text": [
      "Dividing into train and test sets...\n",
      "...Done.\n",
      "\n"
     ]
    }
   ],
   "source": [
    "# Divide dataset Train set & Test set \n",
    "print(\"Dividing into train and test sets...\")\n",
    "X_train, X_test, Y_train, Y_test = train_test_split(X, Y, test_size=0.2, random_state=925662591, stratify=Y)\n",
    "print(\"...Done.\")\n",
    "print()"
   ]
  },
  {
   "cell_type": "markdown",
   "metadata": {
    "colab_type": "text",
    "id": "7b_aU7ij7K3Q"
   },
   "source": [
    "## Training pipeline"
   ]
  },
  {
   "cell_type": "code",
   "execution_count": 30,
   "metadata": {},
   "outputs": [
    {
     "name": "stdout",
     "output_type": "stream",
     "text": [
      "Encoding categorical features and standardizing numerical features...\n"
     ]
    },
    {
     "data": {
      "text/html": [
       "<div>\n",
       "<style scoped>\n",
       "    .dataframe tbody tr th:only-of-type {\n",
       "        vertical-align: middle;\n",
       "    }\n",
       "\n",
       "    .dataframe tbody tr th {\n",
       "        vertical-align: top;\n",
       "    }\n",
       "\n",
       "    .dataframe thead th {\n",
       "        text-align: right;\n",
       "    }\n",
       "</style>\n",
       "<table border=\"1\" class=\"dataframe\">\n",
       "  <thead>\n",
       "    <tr style=\"text-align: right;\">\n",
       "      <th></th>\n",
       "      <th>age</th>\n",
       "      <th>new_user</th>\n",
       "      <th>total_pages_visited</th>\n",
       "    </tr>\n",
       "  </thead>\n",
       "  <tbody>\n",
       "    <tr>\n",
       "      <th>0</th>\n",
       "      <td>22</td>\n",
       "      <td>1</td>\n",
       "      <td>2</td>\n",
       "    </tr>\n",
       "    <tr>\n",
       "      <th>1</th>\n",
       "      <td>21</td>\n",
       "      <td>1</td>\n",
       "      <td>3</td>\n",
       "    </tr>\n",
       "    <tr>\n",
       "      <th>2</th>\n",
       "      <td>20</td>\n",
       "      <td>0</td>\n",
       "      <td>14</td>\n",
       "    </tr>\n",
       "    <tr>\n",
       "      <th>3</th>\n",
       "      <td>23</td>\n",
       "      <td>1</td>\n",
       "      <td>3</td>\n",
       "    </tr>\n",
       "    <tr>\n",
       "      <th>4</th>\n",
       "      <td>28</td>\n",
       "      <td>1</td>\n",
       "      <td>3</td>\n",
       "    </tr>\n",
       "    <tr>\n",
       "      <th>...</th>\n",
       "      <td>...</td>\n",
       "      <td>...</td>\n",
       "      <td>...</td>\n",
       "    </tr>\n",
       "    <tr>\n",
       "      <th>284573</th>\n",
       "      <td>36</td>\n",
       "      <td>1</td>\n",
       "      <td>1</td>\n",
       "    </tr>\n",
       "    <tr>\n",
       "      <th>284574</th>\n",
       "      <td>31</td>\n",
       "      <td>1</td>\n",
       "      <td>2</td>\n",
       "    </tr>\n",
       "    <tr>\n",
       "      <th>284575</th>\n",
       "      <td>41</td>\n",
       "      <td>1</td>\n",
       "      <td>5</td>\n",
       "    </tr>\n",
       "    <tr>\n",
       "      <th>284576</th>\n",
       "      <td>31</td>\n",
       "      <td>1</td>\n",
       "      <td>4</td>\n",
       "    </tr>\n",
       "    <tr>\n",
       "      <th>284577</th>\n",
       "      <td>26</td>\n",
       "      <td>0</td>\n",
       "      <td>3</td>\n",
       "    </tr>\n",
       "  </tbody>\n",
       "</table>\n",
       "<p>284578 rows × 3 columns</p>\n",
       "</div>"
      ],
      "text/plain": [
       "        age  new_user  total_pages_visited\n",
       "0        22         1                    2\n",
       "1        21         1                    3\n",
       "2        20         0                   14\n",
       "3        23         1                    3\n",
       "4        28         1                    3\n",
       "...     ...       ...                  ...\n",
       "284573   36         1                    1\n",
       "284574   31         1                    2\n",
       "284575   41         1                    5\n",
       "284576   31         1                    4\n",
       "284577   26         0                    3\n",
       "\n",
       "[284578 rows x 3 columns]"
      ]
     },
     "metadata": {},
     "output_type": "display_data"
    },
    {
     "data": {
      "text/html": [
       "<div>\n",
       "<style scoped>\n",
       "    .dataframe tbody tr th:only-of-type {\n",
       "        vertical-align: middle;\n",
       "    }\n",
       "\n",
       "    .dataframe tbody tr th {\n",
       "        vertical-align: top;\n",
       "    }\n",
       "\n",
       "    .dataframe thead th {\n",
       "        text-align: right;\n",
       "    }\n",
       "</style>\n",
       "<table border=\"1\" class=\"dataframe\">\n",
       "  <thead>\n",
       "    <tr style=\"text-align: right;\">\n",
       "      <th></th>\n",
       "      <th>country</th>\n",
       "      <th>source</th>\n",
       "    </tr>\n",
       "  </thead>\n",
       "  <tbody>\n",
       "    <tr>\n",
       "      <th>0</th>\n",
       "      <td>China</td>\n",
       "      <td>Direct</td>\n",
       "    </tr>\n",
       "    <tr>\n",
       "      <th>1</th>\n",
       "      <td>UK</td>\n",
       "      <td>Ads</td>\n",
       "    </tr>\n",
       "    <tr>\n",
       "      <th>2</th>\n",
       "      <td>Germany</td>\n",
       "      <td>Seo</td>\n",
       "    </tr>\n",
       "    <tr>\n",
       "      <th>3</th>\n",
       "      <td>US</td>\n",
       "      <td>Seo</td>\n",
       "    </tr>\n",
       "    <tr>\n",
       "      <th>4</th>\n",
       "      <td>US</td>\n",
       "      <td>Direct</td>\n",
       "    </tr>\n",
       "    <tr>\n",
       "      <th>...</th>\n",
       "      <td>...</td>\n",
       "      <td>...</td>\n",
       "    </tr>\n",
       "    <tr>\n",
       "      <th>284573</th>\n",
       "      <td>US</td>\n",
       "      <td>Ads</td>\n",
       "    </tr>\n",
       "    <tr>\n",
       "      <th>284574</th>\n",
       "      <td>US</td>\n",
       "      <td>Seo</td>\n",
       "    </tr>\n",
       "    <tr>\n",
       "      <th>284575</th>\n",
       "      <td>US</td>\n",
       "      <td>Seo</td>\n",
       "    </tr>\n",
       "    <tr>\n",
       "      <th>284576</th>\n",
       "      <td>US</td>\n",
       "      <td>Direct</td>\n",
       "    </tr>\n",
       "    <tr>\n",
       "      <th>284577</th>\n",
       "      <td>US</td>\n",
       "      <td>Ads</td>\n",
       "    </tr>\n",
       "  </tbody>\n",
       "</table>\n",
       "<p>284578 rows × 2 columns</p>\n",
       "</div>"
      ],
      "text/plain": [
       "        country  source\n",
       "0         China  Direct\n",
       "1            UK     Ads\n",
       "2       Germany     Seo\n",
       "3            US     Seo\n",
       "4            US  Direct\n",
       "...         ...     ...\n",
       "284573       US     Ads\n",
       "284574       US     Seo\n",
       "284575       US     Seo\n",
       "284576       US  Direct\n",
       "284577       US     Ads\n",
       "\n",
       "[284578 rows x 2 columns]"
      ]
     },
     "metadata": {},
     "output_type": "display_data"
    },
    {
     "name": "stdout",
     "output_type": "stream",
     "text": [
      "Performing preprocessings on train set...\n",
      "        country  age  new_user  source  total_pages_visited\n",
      "35058        US   49         1     Seo                    7\n",
      "169755  Germany   26         0  Direct                    4\n",
      "173120    China   39         0  Direct                    9\n",
      "249159       US   39         0     Seo                    4\n",
      "40032     China   33         1     Seo                    2\n",
      "...Done.\n",
      "[[ 2.23314291  0.67684511  0.63533212  0.          0.          1.\n",
      "   0.          1.        ]\n",
      " [-0.55155947 -1.47744289 -0.26180716  1.          0.          0.\n",
      "   1.          0.        ]\n",
      " [ 1.02240274 -1.47744289  1.23342498  0.          0.          0.\n",
      "   1.          0.        ]\n",
      " [ 1.02240274 -1.47744289 -0.26180716  0.          0.          1.\n",
      "   0.          1.        ]\n",
      " [ 0.29595865  0.67684511 -0.85990002  0.          0.          0.\n",
      "   0.          1.        ]]\n",
      "\n"
     ]
    }
   ],
   "source": [
    "# Put here all the preprocessings\n",
    "print(\"Encoding categorical features and standardizing numerical features...\")\n",
    "\n",
    "# Create pipeline for numeric features\n",
    "display(X.select_dtypes(exclude='object') )\n",
    "numeric_features = X.select_dtypes(exclude='object').columns  # Names of numeric columns in X_train/X_test\n",
    "numeric_transformer = Pipeline(\n",
    "    steps=[\n",
    "        (\n",
    "            \"scaler\", \n",
    "            StandardScaler()\n",
    "        ),\n",
    "    ]\n",
    ")\n",
    "\n",
    "display(X.select_dtypes(include='object') )\n",
    "\n",
    "# Create pipeline for categorical features\n",
    "categorical_features = X.select_dtypes(include='object').columns  # Names of categorical columns in X_train/X_test\n",
    "categorical_transformer = Pipeline(\n",
    "    steps=[\n",
    "        (\n",
    "            \"encoder\",\n",
    "            OneHotEncoder(drop=\"first\"),\n",
    "        ),  # first column will be dropped to avoid creating correlations between features\n",
    "    ]\n",
    ")\n",
    "\n",
    "preprocessor = ColumnTransformer(\n",
    "    transformers=[\n",
    "        (\"num\", numeric_transformer, numeric_features),\n",
    "        (\"cat\", categorical_transformer, categorical_features),\n",
    "    ]\n",
    ")\n",
    "\n",
    "# Preprocessings on train set\n",
    "print(\"Performing preprocessings on train set...\")\n",
    "print(X_train.head())\n",
    "preprocessor.fit(X_train)\n",
    "X_train = preprocessor.transform(X_train)\n",
    "print(\"...Done.\")\n",
    "print(\n",
    "    X_train[0:5]\n",
    ")  # MUST use this syntax because X_train is a numpy array and not a pandas DataFrame anymore\n",
    "print()"
   ]
  },
  {
   "cell_type": "code",
   "execution_count": 31,
   "metadata": {
    "colab": {
     "base_uri": "https://localhost:8080/",
     "height": 104
    },
    "colab_type": "code",
    "id": "1qhidLbq7o-5",
    "outputId": "6bfb746c-1ff4-41c9-b0d6-a98fd09a444d"
   },
   "outputs": [
    {
     "name": "stderr",
     "output_type": "stream",
     "text": [
      "[I 2025-06-11 20:49:30,523] A new study created in memory with name: no-name-2040acc6-13d0-4500-a344-d07d5bd0b1ac\n"
     ]
    },
    {
     "name": "stdout",
     "output_type": "stream",
     "text": [
      "Train model...\n"
     ]
    },
    {
     "name": "stderr",
     "output_type": "stream",
     "text": [
      "[I 2025-06-11 20:49:31,111] Trial 0 finished with value: 0.6730312118206407 and parameters: {'C': 0.0017485535205665403, 'penalty': 'l2', 'max_iter': 109}. Best is trial 0 with value: 0.6730312118206407.\n",
      "[I 2025-06-11 20:49:31,990] Trial 1 finished with value: 0.7641800346782917 and parameters: {'C': 35.8790286522727, 'penalty': 'l2', 'max_iter': 451}. Best is trial 1 with value: 0.7641800346782917.\n",
      "[I 2025-06-11 20:49:32,648] Trial 2 finished with value: 0.7385046021559651 and parameters: {'C': 0.012778224661975542, 'penalty': 'l2', 'max_iter': 127}. Best is trial 1 with value: 0.7641800346782917.\n",
      "[I 2025-06-11 20:49:33,161] Trial 3 finished with value: 0.605972438847127 and parameters: {'C': 0.0006833315806691468, 'penalty': 'l2', 'max_iter': 129}. Best is trial 1 with value: 0.7641800346782917.\n",
      "[I 2025-06-11 20:49:34,004] Trial 4 finished with value: 0.7641800346782917 and parameters: {'C': 16.618026123706965, 'penalty': 'l2', 'max_iter': 258}. Best is trial 1 with value: 0.7641800346782917.\n",
      "[I 2025-06-11 20:49:34,672] Trial 5 finished with value: 0.7571597797834362 and parameters: {'C': 0.06022953775631352, 'penalty': 'l2', 'max_iter': 170}. Best is trial 1 with value: 0.7641800346782917.\n",
      "[I 2025-06-11 20:49:37,797] Trial 6 finished with value: 0.764288664538994 and parameters: {'C': 0.3831657567063595, 'penalty': 'l1', 'max_iter': 248}. Best is trial 6 with value: 0.764288664538994.\n",
      "[I 2025-06-11 20:49:38,557] Trial 7 finished with value: 0.762989469400738 and parameters: {'C': 0.4260195568205014, 'penalty': 'l2', 'max_iter': 187}. Best is trial 6 with value: 0.764288664538994.\n",
      "[I 2025-06-11 20:49:41,018] Trial 8 finished with value: 0.763449695165866 and parameters: {'C': 0.0830014756527292, 'penalty': 'l1', 'max_iter': 140}. Best is trial 6 with value: 0.764288664538994.\n",
      "[I 2025-06-11 20:49:41,542] Trial 9 finished with value: 0.6815533304332579 and parameters: {'C': 0.002044583970418029, 'penalty': 'l2', 'max_iter': 63}. Best is trial 6 with value: 0.764288664538994.\n",
      "[I 2025-06-11 20:49:44,946] Trial 10 finished with value: 0.7642376069718839 and parameters: {'C': 2.3765826408126345, 'penalty': 'l1', 'max_iter': 398}. Best is trial 6 with value: 0.764288664538994.\n",
      "[I 2025-06-11 20:49:48,237] Trial 11 finished with value: 0.7642376069718839 and parameters: {'C': 3.7788561590756946, 'penalty': 'l1', 'max_iter': 409}. Best is trial 6 with value: 0.764288664538994.\n",
      "[I 2025-06-11 20:49:51,613] Trial 12 finished with value: 0.7642010995443507 and parameters: {'C': 1.6244823530565609, 'penalty': 'l1', 'max_iter': 331}. Best is trial 6 with value: 0.764288664538994.\n",
      "[I 2025-06-11 20:49:54,937] Trial 13 finished with value: 0.764373335448582 and parameters: {'C': 1.0208448983348326, 'penalty': 'l1', 'max_iter': 329}. Best is trial 13 with value: 0.764373335448582.\n",
      "[I 2025-06-11 20:49:58,036] Trial 14 finished with value: 0.7643251638105174 and parameters: {'C': 0.3997306154896664, 'penalty': 'l1', 'max_iter': 271}. Best is trial 13 with value: 0.764373335448582.\n",
      "[I 2025-06-11 20:49:59,554] Trial 15 finished with value: 0.7556717994573109 and parameters: {'C': 0.020159479333619525, 'penalty': 'l1', 'max_iter': 321}. Best is trial 13 with value: 0.764373335448582.\n",
      "[I 2025-06-11 20:50:02,701] Trial 16 finished with value: 0.7640114650168581 and parameters: {'C': 0.35830341393783427, 'penalty': 'l1', 'max_iter': 317}. Best is trial 13 with value: 0.764373335448582.\n",
      "[I 2025-06-11 20:50:03,091] Trial 17 finished with value: 0.005701732767931017 and parameters: {'C': 0.00010058779479690451, 'penalty': 'l1', 'max_iter': 227}. Best is trial 13 with value: 0.764373335448582.\n",
      "[I 2025-06-11 20:50:06,488] Trial 18 finished with value: 0.7641800346782917 and parameters: {'C': 82.48954262610664, 'penalty': 'l1', 'max_iter': 360}. Best is trial 13 with value: 0.764373335448582.\n",
      "[I 2025-06-11 20:50:09,862] Trial 19 finished with value: 0.7641800346782917 and parameters: {'C': 6.8723203280510266, 'penalty': 'l1', 'max_iter': 474}. Best is trial 13 with value: 0.764373335448582.\n",
      "[I 2025-06-11 20:50:13,147] Trial 20 finished with value: 0.764430834371552 and parameters: {'C': 0.8442234478755427, 'penalty': 'l1', 'max_iter': 274}. Best is trial 20 with value: 0.764430834371552.\n",
      "[I 2025-06-11 20:50:16,614] Trial 21 finished with value: 0.764430834371552 and parameters: {'C': 0.6987226904735777, 'penalty': 'l1', 'max_iter': 291}. Best is trial 20 with value: 0.764430834371552.\n",
      "[I 2025-06-11 20:50:20,327] Trial 22 finished with value: 0.764373335448582 and parameters: {'C': 1.1603176001428532, 'penalty': 'l1', 'max_iter': 307}. Best is trial 20 with value: 0.764430834371552.\n",
      "[I 2025-06-11 20:50:23,874] Trial 23 finished with value: 0.7641800346782917 and parameters: {'C': 9.830507497167332, 'penalty': 'l1', 'max_iter': 207}. Best is trial 20 with value: 0.764430834371552.\n",
      "[I 2025-06-11 20:50:27,668] Trial 24 finished with value: 0.764373335448582 and parameters: {'C': 1.1537804992553293, 'penalty': 'l1', 'max_iter': 377}. Best is trial 20 with value: 0.764430834371552.\n",
      "[I 2025-06-11 20:50:30,425] Trial 25 finished with value: 0.7636477320328066 and parameters: {'C': 0.14868919681955875, 'penalty': 'l1', 'max_iter': 280}. Best is trial 20 with value: 0.764430834371552.\n",
      "[I 2025-06-11 20:50:32,197] Trial 26 finished with value: 0.7599947420804033 and parameters: {'C': 0.03038886592457791, 'penalty': 'l1', 'max_iter': 300}. Best is trial 20 with value: 0.764430834371552.\n",
      "[I 2025-06-11 20:50:35,105] Trial 27 finished with value: 0.7637393144488728 and parameters: {'C': 0.17464604467031586, 'penalty': 'l1', 'max_iter': 344}. Best is trial 20 with value: 0.764430834371552.\n",
      "[I 2025-06-11 20:50:38,429] Trial 28 finished with value: 0.7642376069718839 and parameters: {'C': 4.776165553928582, 'penalty': 'l1', 'max_iter': 415}. Best is trial 20 with value: 0.764430834371552.\n",
      "[I 2025-06-11 20:50:42,042] Trial 29 finished with value: 0.764430834371552 and parameters: {'C': 0.8749541331854874, 'penalty': 'l1', 'max_iter': 226}. Best is trial 20 with value: 0.764430834371552.\n",
      "[I 2025-06-11 20:50:45,406] Trial 30 finished with value: 0.7641800346782917 and parameters: {'C': 18.038130904253574, 'penalty': 'l1', 'max_iter': 227}. Best is trial 20 with value: 0.764430834371552.\n",
      "[I 2025-06-11 20:50:48,578] Trial 31 finished with value: 0.764430834371552 and parameters: {'C': 0.7073217058094555, 'penalty': 'l1', 'max_iter': 287}. Best is trial 20 with value: 0.764430834371552.\n",
      "[I 2025-06-11 20:50:51,831] Trial 32 finished with value: 0.764430834371552 and parameters: {'C': 0.7150016112588852, 'penalty': 'l1', 'max_iter': 235}. Best is trial 20 with value: 0.764430834371552.\n",
      "[I 2025-06-11 20:50:55,179] Trial 33 finished with value: 0.7642376069718839 and parameters: {'C': 3.527864107358715, 'penalty': 'l1', 'max_iter': 289}. Best is trial 20 with value: 0.764430834371552.\n",
      "[I 2025-06-11 20:50:56,077] Trial 34 finished with value: 0.7374708359591085 and parameters: {'C': 0.006016221593384334, 'penalty': 'l1', 'max_iter': 196}. Best is trial 20 with value: 0.764430834371552.\n",
      "[I 2025-06-11 20:50:56,840] Trial 35 finished with value: 0.762020054997309 and parameters: {'C': 0.19442135180249537, 'penalty': 'l2', 'max_iter': 260}. Best is trial 20 with value: 0.764430834371552.\n",
      "[I 2025-06-11 20:50:59,158] Trial 36 finished with value: 0.7626996560483507 and parameters: {'C': 0.06489224774597141, 'penalty': 'l1', 'max_iter': 159}. Best is trial 20 with value: 0.764430834371552.\n",
      "[I 2025-06-11 20:51:00,030] Trial 37 finished with value: 0.7641800346782917 and parameters: {'C': 23.735525074176365, 'penalty': 'l2', 'max_iter': 92}. Best is trial 20 with value: 0.764430834371552.\n",
      "[I 2025-06-11 20:51:03,377] Trial 38 finished with value: 0.764430834371552 and parameters: {'C': 0.6276197628470659, 'penalty': 'l1', 'max_iter': 212}. Best is trial 20 with value: 0.764430834371552.\n",
      "[I 2025-06-11 20:51:04,221] Trial 39 finished with value: 0.7639906555844724 and parameters: {'C': 2.2114123190923447, 'penalty': 'l2', 'max_iter': 265}. Best is trial 20 with value: 0.764430834371552.\n",
      "[I 2025-06-11 20:51:06,180] Trial 40 finished with value: 0.7611801092013923 and parameters: {'C': 0.04097416533795879, 'penalty': 'l1', 'max_iter': 178}. Best is trial 20 with value: 0.764430834371552.\n",
      "[I 2025-06-11 20:51:09,495] Trial 41 finished with value: 0.764430834371552 and parameters: {'C': 0.6946891296917697, 'penalty': 'l1', 'max_iter': 246}. Best is trial 20 with value: 0.764430834371552.\n",
      "[I 2025-06-11 20:51:12,394] Trial 42 finished with value: 0.7642062907005379 and parameters: {'C': 0.23990569779366286, 'penalty': 'l1', 'max_iter': 244}. Best is trial 20 with value: 0.764430834371552.\n",
      "[I 2025-06-11 20:51:15,600] Trial 43 finished with value: 0.764336861702797 and parameters: {'C': 0.5549932312743889, 'penalty': 'l1', 'max_iter': 290}. Best is trial 20 with value: 0.764430834371552.\n",
      "[I 2025-06-11 20:51:18,916] Trial 44 finished with value: 0.7641800346782917 and parameters: {'C': 8.304694841114431, 'penalty': 'l1', 'max_iter': 227}. Best is trial 20 with value: 0.764430834371552.\n",
      "[I 2025-06-11 20:51:21,573] Trial 45 finished with value: 0.7639183059267287 and parameters: {'C': 0.11498720907421778, 'penalty': 'l1', 'max_iter': 142}. Best is trial 20 with value: 0.764430834371552.\n",
      "[I 2025-06-11 20:51:22,439] Trial 46 finished with value: 0.7640480398535583 and parameters: {'C': 1.8507464033272025, 'penalty': 'l2', 'max_iter': 347}. Best is trial 20 with value: 0.764430834371552.\n",
      "[I 2025-06-11 20:51:25,420] Trial 47 finished with value: 0.7642062907005379 and parameters: {'C': 0.2366898628079553, 'penalty': 'l1', 'max_iter': 243}. Best is trial 20 with value: 0.764430834371552.\n",
      "[I 2025-06-11 20:51:28,883] Trial 48 finished with value: 0.764373335448582 and parameters: {'C': 1.0134679681507928, 'penalty': 'l1', 'max_iter': 269}. Best is trial 20 with value: 0.764430834371552.\n",
      "[I 2025-06-11 20:51:32,680] Trial 49 finished with value: 0.7642376069718839 and parameters: {'C': 3.06789823852621, 'penalty': 'l1', 'max_iter': 306}. Best is trial 20 with value: 0.764430834371552.\n",
      "[I 2025-06-11 20:51:33,617] Trial 50 finished with value: 0.7629314444754748 and parameters: {'C': 0.3961852814379374, 'penalty': 'l2', 'max_iter': 196}. Best is trial 20 with value: 0.764430834371552.\n",
      "[I 2025-06-11 20:51:37,033] Trial 51 finished with value: 0.764430834371552 and parameters: {'C': 0.7254831620698166, 'penalty': 'l1', 'max_iter': 213}. Best is trial 20 with value: 0.764430834371552.\n",
      "[I 2025-06-11 20:51:40,289] Trial 52 finished with value: 0.7642010995443507 and parameters: {'C': 1.5205940980114083, 'penalty': 'l1', 'max_iter': 164}. Best is trial 20 with value: 0.764430834371552.\n",
      "[I 2025-06-11 20:51:43,536] Trial 53 finished with value: 0.764430834371552 and parameters: {'C': 0.6755852951211948, 'penalty': 'l1', 'max_iter': 215}. Best is trial 20 with value: 0.764430834371552.\n",
      "[I 2025-06-11 20:51:46,517] Trial 54 finished with value: 0.7639964003675275 and parameters: {'C': 0.32241369778643936, 'penalty': 'l1', 'max_iter': 234}. Best is trial 20 with value: 0.764430834371552.\n",
      "[I 2025-06-11 20:51:49,142] Trial 55 finished with value: 0.7633924743146661 and parameters: {'C': 0.09478717821837208, 'penalty': 'l1', 'max_iter': 258}. Best is trial 20 with value: 0.764430834371552.\n",
      "[I 2025-06-11 20:51:52,500] Trial 56 finished with value: 0.7642376069718839 and parameters: {'C': 6.252378498004883, 'penalty': 'l1', 'max_iter': 284}. Best is trial 20 with value: 0.764430834371552.\n",
      "[I 2025-06-11 20:51:55,822] Trial 57 finished with value: 0.7642376069718839 and parameters: {'C': 2.2821020806202474, 'penalty': 'l1', 'max_iter': 112}. Best is trial 20 with value: 0.764430834371552.\n",
      "[I 2025-06-11 20:51:59,191] Trial 58 finished with value: 0.764430834371552 and parameters: {'C': 0.8062438941609404, 'penalty': 'l1', 'max_iter': 190}. Best is trial 20 with value: 0.764430834371552.\n",
      "[I 2025-06-11 20:52:02,711] Trial 59 finished with value: 0.7641800346782917 and parameters: {'C': 11.681503043521825, 'penalty': 'l1', 'max_iter': 321}. Best is trial 20 with value: 0.764430834371552.\n",
      "[I 2025-06-11 20:52:05,966] Trial 60 finished with value: 0.7642675478519318 and parameters: {'C': 0.4787833403235123, 'penalty': 'l1', 'max_iter': 209}. Best is trial 20 with value: 0.764430834371552.\n",
      "[I 2025-06-11 20:52:09,263] Trial 61 finished with value: 0.7642010995443507 and parameters: {'C': 1.2262168736002481, 'penalty': 'l1', 'max_iter': 252}. Best is trial 20 with value: 0.764430834371552.\n",
      "[I 2025-06-11 20:52:12,235] Trial 62 finished with value: 0.7639964003675275 and parameters: {'C': 0.32666503459150964, 'penalty': 'l1', 'max_iter': 239}. Best is trial 20 with value: 0.764430834371552.\n",
      "[I 2025-06-11 20:52:15,573] Trial 63 finished with value: 0.764430834371552 and parameters: {'C': 0.6007714690117026, 'penalty': 'l1', 'max_iter': 272}. Best is trial 20 with value: 0.764430834371552.\n",
      "[I 2025-06-11 20:52:18,868] Trial 64 finished with value: 0.7642376069718839 and parameters: {'C': 3.266456382342024, 'penalty': 'l1', 'max_iter': 290}. Best is trial 20 with value: 0.764430834371552.\n",
      "[I 2025-06-11 20:52:21,638] Trial 65 finished with value: 0.7635780518523712 and parameters: {'C': 0.1280400170782856, 'penalty': 'l1', 'max_iter': 221}. Best is trial 20 with value: 0.764430834371552.\n",
      "[I 2025-06-11 20:52:25,025] Trial 66 finished with value: 0.7642010995443507 and parameters: {'C': 1.6370232699754574, 'penalty': 'l1', 'max_iter': 305}. Best is trial 20 with value: 0.764430834371552.\n",
      "[I 2025-06-11 20:52:25,601] Trial 67 finished with value: 0.62617509535973 and parameters: {'C': 0.00046621025762079226, 'penalty': 'l1', 'max_iter': 337}. Best is trial 20 with value: 0.764430834371552.\n",
      "[I 2025-06-11 20:52:28,557] Trial 68 finished with value: 0.76417142588145 and parameters: {'C': 0.2598943104759527, 'penalty': 'l1', 'max_iter': 370}. Best is trial 20 with value: 0.764430834371552.\n",
      "[I 2025-06-11 20:52:29,393] Trial 69 finished with value: 0.7641664265540156 and parameters: {'C': 4.724056253293563, 'penalty': 'l2', 'max_iter': 177}. Best is trial 20 with value: 0.764430834371552.\n",
      "[I 2025-06-11 20:52:32,639] Trial 70 finished with value: 0.764430834371552 and parameters: {'C': 0.9495848139425386, 'penalty': 'l1', 'max_iter': 248}. Best is trial 20 with value: 0.764430834371552.\n",
      "[I 2025-06-11 20:52:35,873] Trial 71 finished with value: 0.764430834371552 and parameters: {'C': 0.7733241154312702, 'penalty': 'l1', 'max_iter': 215}. Best is trial 20 with value: 0.764430834371552.\n",
      "[I 2025-06-11 20:52:39,075] Trial 72 finished with value: 0.764336861702797 and parameters: {'C': 0.5337482606722728, 'penalty': 'l1', 'max_iter': 277}. Best is trial 20 with value: 0.764430834371552.\n",
      "[I 2025-06-11 20:52:42,401] Trial 73 finished with value: 0.7642010995443507 and parameters: {'C': 1.4356807781188277, 'penalty': 'l1', 'max_iter': 203}. Best is trial 20 with value: 0.764430834371552.\n",
      "[I 2025-06-11 20:52:45,495] Trial 74 finished with value: 0.7636462073117907 and parameters: {'C': 0.182896874267602, 'penalty': 'l1', 'max_iter': 235}. Best is trial 20 with value: 0.764430834371552.\n",
      "[I 2025-06-11 20:52:47,695] Trial 75 finished with value: 0.7627577114025665 and parameters: {'C': 0.06262389024688739, 'penalty': 'l1', 'max_iter': 254}. Best is trial 20 with value: 0.764430834371552.\n",
      "[I 2025-06-11 20:52:50,983] Trial 76 finished with value: 0.7642376069718839 and parameters: {'C': 2.412071163416413, 'penalty': 'l1', 'max_iter': 149}. Best is trial 20 with value: 0.764430834371552.\n",
      "[I 2025-06-11 20:52:54,201] Trial 77 finished with value: 0.764430834371552 and parameters: {'C': 0.645580041342349, 'penalty': 'l1', 'max_iter': 497}. Best is trial 20 with value: 0.764430834371552.\n",
      "[I 2025-06-11 20:52:57,334] Trial 78 finished with value: 0.764288664538994 and parameters: {'C': 0.3834715311241398, 'penalty': 'l1', 'max_iter': 184}. Best is trial 20 with value: 0.764430834371552.\n",
      "[I 2025-06-11 20:53:00,708] Trial 79 finished with value: 0.764373335448582 and parameters: {'C': 1.0004696247861893, 'penalty': 'l1', 'max_iter': 316}. Best is trial 20 with value: 0.764430834371552.\n",
      "[I 2025-06-11 20:53:01,350] Trial 80 finished with value: 0.7413522117183928 and parameters: {'C': 0.013844224227766938, 'penalty': 'l2', 'max_iter': 297}. Best is trial 20 with value: 0.764430834371552.\n",
      "[I 2025-06-11 20:53:04,504] Trial 81 finished with value: 0.764430834371552 and parameters: {'C': 0.7490163673090545, 'penalty': 'l1', 'max_iter': 221}. Best is trial 20 with value: 0.764430834371552.\n",
      "[I 2025-06-11 20:53:07,676] Trial 82 finished with value: 0.764336861702797 and parameters: {'C': 0.5006734774529412, 'penalty': 'l1', 'max_iter': 205}. Best is trial 20 with value: 0.764430834371552.\n",
      "[I 2025-06-11 20:53:10,596] Trial 83 finished with value: 0.7640544085567831 and parameters: {'C': 0.2669841244553773, 'penalty': 'l1', 'max_iter': 267}. Best is trial 20 with value: 0.764430834371552.\n",
      "[I 2025-06-11 20:53:13,882] Trial 84 finished with value: 0.7642010995443507 and parameters: {'C': 1.3911686601251854, 'penalty': 'l1', 'max_iter': 227}. Best is trial 20 with value: 0.764430834371552.\n",
      "[I 2025-06-11 20:53:17,073] Trial 85 finished with value: 0.764430834371552 and parameters: {'C': 0.7254424402373593, 'penalty': 'l1', 'max_iter': 214}. Best is trial 20 with value: 0.764430834371552.\n",
      "[I 2025-06-11 20:53:20,021] Trial 86 finished with value: 0.7636462073117907 and parameters: {'C': 0.1780039954738569, 'penalty': 'l1', 'max_iter': 197}. Best is trial 20 with value: 0.764430834371552.\n",
      "[I 2025-06-11 20:53:23,329] Trial 87 finished with value: 0.7642376069718839 and parameters: {'C': 2.779001064676299, 'penalty': 'l1', 'max_iter': 262}. Best is trial 20 with value: 0.764430834371552.\n",
      "[I 2025-06-11 20:53:26,677] Trial 88 finished with value: 0.7642376069718839 and parameters: {'C': 4.654354706780926, 'penalty': 'l1', 'max_iter': 243}. Best is trial 20 with value: 0.764430834371552.\n",
      "[I 2025-06-11 20:53:30,096] Trial 89 finished with value: 0.7642010995443507 and parameters: {'C': 1.9691748899061938, 'penalty': 'l1', 'max_iter': 170}. Best is trial 20 with value: 0.764430834371552.\n",
      "[I 2025-06-11 20:53:33,322] Trial 90 finished with value: 0.7643251638105174 and parameters: {'C': 0.4225948089621077, 'penalty': 'l1', 'max_iter': 281}. Best is trial 20 with value: 0.764430834371552.\n",
      "[I 2025-06-11 20:53:36,518] Trial 91 finished with value: 0.764430834371552 and parameters: {'C': 0.9176648009765468, 'penalty': 'l1', 'max_iter': 196}. Best is trial 20 with value: 0.764430834371552.\n",
      "[I 2025-06-11 20:53:39,672] Trial 92 finished with value: 0.764430834371552 and parameters: {'C': 0.7393411611188025, 'penalty': 'l1', 'max_iter': 234}. Best is trial 20 with value: 0.764430834371552.\n",
      "[I 2025-06-11 20:53:42,947] Trial 93 finished with value: 0.7642010995443507 and parameters: {'C': 1.216063217277186, 'penalty': 'l1', 'max_iter': 192}. Best is trial 20 with value: 0.764430834371552.\n",
      "[I 2025-06-11 20:53:46,213] Trial 94 finished with value: 0.764336861702797 and parameters: {'C': 0.5295512635054771, 'penalty': 'l1', 'max_iter': 186}. Best is trial 20 with value: 0.764430834371552.\n",
      "[I 2025-06-11 20:53:49,184] Trial 95 finished with value: 0.7640544085567831 and parameters: {'C': 0.2972995373063834, 'penalty': 'l1', 'max_iter': 217}. Best is trial 20 with value: 0.764430834371552.\n",
      "[I 2025-06-11 20:53:52,720] Trial 96 finished with value: 0.7642010995443507 and parameters: {'C': 1.8298684783791728, 'penalty': 'l1', 'max_iter': 127}. Best is trial 20 with value: 0.764430834371552.\n",
      "[I 2025-06-11 20:53:53,746] Trial 97 finished with value: 0.7641800346782917 and parameters: {'C': 96.19834285238096, 'penalty': 'l2', 'max_iter': 251}. Best is trial 20 with value: 0.764430834371552.\n",
      "[I 2025-06-11 20:53:57,447] Trial 98 finished with value: 0.764430834371552 and parameters: {'C': 0.8717126480227662, 'penalty': 'l1', 'max_iter': 153}. Best is trial 20 with value: 0.764430834371552.\n",
      "[I 2025-06-11 20:53:59,850] Trial 99 finished with value: 0.7634142540036198 and parameters: {'C': 0.08226115634382855, 'penalty': 'l1', 'max_iter': 225}. Best is trial 20 with value: 0.764430834371552.\n",
      "[I 2025-06-11 20:54:02,711] Trial 100 finished with value: 0.7637612846239813 and parameters: {'C': 0.13689125355096582, 'penalty': 'l1', 'max_iter': 178}. Best is trial 20 with value: 0.764430834371552.\n",
      "[I 2025-06-11 20:54:05,809] Trial 101 finished with value: 0.764336861702797 and parameters: {'C': 0.512924065918234, 'penalty': 'l1', 'max_iter': 273}. Best is trial 20 with value: 0.764430834371552.\n",
      "[I 2025-06-11 20:54:09,103] Trial 102 finished with value: 0.764430834371552 and parameters: {'C': 0.6267319049345457, 'penalty': 'l1', 'max_iter': 293}. Best is trial 20 with value: 0.764430834371552.\n",
      "[I 2025-06-11 20:54:12,006] Trial 103 finished with value: 0.7641719128260003 and parameters: {'C': 0.22687704200180547, 'penalty': 'l1', 'max_iter': 272}. Best is trial 20 with value: 0.764430834371552.\n",
      "[I 2025-06-11 20:54:15,219] Trial 104 finished with value: 0.7642010995443507 and parameters: {'C': 1.2426790369078389, 'penalty': 'l1', 'max_iter': 259}. Best is trial 20 with value: 0.764430834371552.\n",
      "[I 2025-06-11 20:54:18,373] Trial 105 finished with value: 0.7640114650168581 and parameters: {'C': 0.3708612201532342, 'penalty': 'l1', 'max_iter': 237}. Best is trial 20 with value: 0.764430834371552.\n",
      "[I 2025-06-11 20:54:22,482] Trial 106 finished with value: 0.764430834371552 and parameters: {'C': 0.6231380434645363, 'penalty': 'l1', 'max_iter': 210}. Best is trial 20 with value: 0.764430834371552.\n",
      "[I 2025-06-11 20:54:26,498] Trial 107 finished with value: 0.7642010995443507 and parameters: {'C': 1.8280224028200271, 'penalty': 'l1', 'max_iter': 281}. Best is trial 20 with value: 0.764430834371552.\n",
      "[I 2025-06-11 20:54:30,524] Trial 108 finished with value: 0.764430834371552 and parameters: {'C': 0.9103535959571215, 'penalty': 'l1', 'max_iter': 244}. Best is trial 20 with value: 0.764430834371552.\n",
      "[I 2025-06-11 20:54:34,321] Trial 109 finished with value: 0.7639964003675275 and parameters: {'C': 0.32839224858529104, 'penalty': 'l1', 'max_iter': 328}. Best is trial 20 with value: 0.764430834371552.\n",
      "[I 2025-06-11 20:54:35,223] Trial 110 finished with value: 0.7641664265540156 and parameters: {'C': 4.038121209031435, 'penalty': 'l2', 'max_iter': 314}. Best is trial 20 with value: 0.764430834371552.\n",
      "[I 2025-06-11 20:54:38,533] Trial 111 finished with value: 0.764373335448582 and parameters: {'C': 1.0320874095317945, 'penalty': 'l1', 'max_iter': 232}. Best is trial 20 with value: 0.764430834371552.\n",
      "[I 2025-06-11 20:54:41,903] Trial 112 finished with value: 0.7642010995443507 and parameters: {'C': 1.3207430862411351, 'penalty': 'l1', 'max_iter': 245}. Best is trial 20 with value: 0.764430834371552.\n",
      "[I 2025-06-11 20:54:45,047] Trial 113 finished with value: 0.764430834371552 and parameters: {'C': 0.7852277210071574, 'penalty': 'l1', 'max_iter': 255}. Best is trial 20 with value: 0.764430834371552.\n",
      "[I 2025-06-11 20:54:48,161] Trial 114 finished with value: 0.7642675478519318 and parameters: {'C': 0.4772950242465439, 'penalty': 'l1', 'max_iter': 202}. Best is trial 20 with value: 0.764430834371552.\n",
      "[I 2025-06-11 20:54:51,513] Trial 115 finished with value: 0.7642376069718839 and parameters: {'C': 2.5796995407854544, 'penalty': 'l1', 'max_iter': 302}. Best is trial 20 with value: 0.764430834371552.\n",
      "[I 2025-06-11 20:54:54,840] Trial 116 finished with value: 0.7642010995443507 and parameters: {'C': 1.5823962204791209, 'penalty': 'l1', 'max_iter': 266}. Best is trial 20 with value: 0.764430834371552.\n",
      "[I 2025-06-11 20:54:58,949] Trial 117 finished with value: 0.764430834371552 and parameters: {'C': 0.6095063370796162, 'penalty': 'l1', 'max_iter': 288}. Best is trial 20 with value: 0.764430834371552.\n",
      "[I 2025-06-11 20:55:02,814] Trial 118 finished with value: 0.7643251638105174 and parameters: {'C': 0.39720980314330184, 'penalty': 'l1', 'max_iter': 219}. Best is trial 20 with value: 0.764430834371552.\n",
      "[I 2025-06-11 20:55:06,451] Trial 119 finished with value: 0.764373335448582 and parameters: {'C': 1.0649479249724367, 'penalty': 'l1', 'max_iter': 253}. Best is trial 20 with value: 0.764430834371552.\n",
      "[I 2025-06-11 20:55:09,373] Trial 120 finished with value: 0.76417142588145 and parameters: {'C': 0.2533610553281683, 'penalty': 'l1', 'max_iter': 54}. Best is trial 20 with value: 0.764430834371552.\n",
      "[I 2025-06-11 20:55:12,577] Trial 121 finished with value: 0.764430834371552 and parameters: {'C': 0.8225396898419555, 'penalty': 'l1', 'max_iter': 216}. Best is trial 20 with value: 0.764430834371552.\n",
      "[I 2025-06-11 20:55:15,709] Trial 122 finished with value: 0.764430834371552 and parameters: {'C': 0.7393471551324401, 'penalty': 'l1', 'max_iter': 210}. Best is trial 20 with value: 0.764430834371552.\n",
      "[I 2025-06-11 20:55:18,842] Trial 123 finished with value: 0.7642675478519318 and parameters: {'C': 0.45464238298052106, 'penalty': 'l1', 'max_iter': 229}. Best is trial 20 with value: 0.764430834371552.\n",
      "[I 2025-06-11 20:55:22,159] Trial 124 finished with value: 0.764373335448582 and parameters: {'C': 1.0003226363468674, 'penalty': 'l1', 'max_iter': 186}. Best is trial 20 with value: 0.764430834371552.\n",
      "[I 2025-06-11 20:55:25,478] Trial 125 finished with value: 0.7642010995443507 and parameters: {'C': 1.9987540206030905, 'penalty': 'l1', 'max_iter': 248}. Best is trial 20 with value: 0.764430834371552.\n",
      "[I 2025-06-11 20:55:28,682] Trial 126 finished with value: 0.764430834371552 and parameters: {'C': 0.648110972706114, 'penalty': 'l1', 'max_iter': 203}. Best is trial 20 with value: 0.764430834371552.\n",
      "[I 2025-06-11 20:55:31,994] Trial 127 finished with value: 0.7642010995443507 and parameters: {'C': 1.4895377595733916, 'penalty': 'l1', 'max_iter': 439}. Best is trial 20 with value: 0.764430834371552.\n",
      "[I 2025-06-11 20:55:34,987] Trial 128 finished with value: 0.7639964003675275 and parameters: {'C': 0.32730378415458444, 'penalty': 'l1', 'max_iter': 277}. Best is trial 20 with value: 0.764430834371552.\n",
      "[I 2025-06-11 20:55:35,846] Trial 129 finished with value: 0.7641664265540156 and parameters: {'C': 2.895842951433561, 'penalty': 'l2', 'max_iter': 170}. Best is trial 20 with value: 0.764430834371552.\n",
      "[I 2025-06-11 20:55:39,233] Trial 130 finished with value: 0.764373335448582 and parameters: {'C': 1.1608185204512997, 'penalty': 'l1', 'max_iter': 238}. Best is trial 20 with value: 0.764430834371552.\n",
      "[I 2025-06-11 20:55:42,428] Trial 131 finished with value: 0.764430834371552 and parameters: {'C': 0.6376208800733779, 'penalty': 'l1', 'max_iter': 378}. Best is trial 20 with value: 0.764430834371552.\n",
      "[I 2025-06-11 20:55:45,635] Trial 132 finished with value: 0.764430834371552 and parameters: {'C': 0.8489311542524686, 'penalty': 'l1', 'max_iter': 403}. Best is trial 20 with value: 0.764430834371552.\n",
      "[I 2025-06-11 20:55:49,238] Trial 133 finished with value: 0.764336861702797 and parameters: {'C': 0.5152596963329447, 'penalty': 'l1', 'max_iter': 472}. Best is trial 20 with value: 0.764430834371552.\n",
      "[I 2025-06-11 20:55:53,130] Trial 134 finished with value: 0.7640801484029097 and parameters: {'C': 0.20751793890819312, 'penalty': 'l1', 'max_iter': 499}. Best is trial 20 with value: 0.764430834371552.\n",
      "[I 2025-06-11 20:55:57,028] Trial 135 finished with value: 0.7643251638105174 and parameters: {'C': 0.40639753984498567, 'penalty': 'l1', 'max_iter': 428}. Best is trial 20 with value: 0.764430834371552.\n",
      "[I 2025-06-11 20:56:01,003] Trial 136 finished with value: 0.764430834371552 and parameters: {'C': 0.649337760947, 'penalty': 'l1', 'max_iter': 223}. Best is trial 20 with value: 0.764430834371552.\n",
      "[I 2025-06-11 20:56:05,011] Trial 137 finished with value: 0.7642010995443507 and parameters: {'C': 1.3668924378150644, 'penalty': 'l1', 'max_iter': 261}. Best is trial 20 with value: 0.764430834371552.\n",
      "[I 2025-06-11 20:56:08,716] Trial 138 finished with value: 0.7640544085567831 and parameters: {'C': 0.29085315170433607, 'penalty': 'l1', 'max_iter': 100}. Best is trial 20 with value: 0.764430834371552.\n",
      "[I 2025-06-11 20:56:12,774] Trial 139 finished with value: 0.764430834371552 and parameters: {'C': 0.828033893823267, 'penalty': 'l1', 'max_iter': 213}. Best is trial 20 with value: 0.764430834371552.\n",
      "[I 2025-06-11 20:56:16,918] Trial 140 finished with value: 0.7642010995443507 and parameters: {'C': 2.1619297825467862, 'penalty': 'l1', 'max_iter': 189}. Best is trial 20 with value: 0.764430834371552.\n",
      "[I 2025-06-11 20:56:20,518] Trial 141 finished with value: 0.764430834371552 and parameters: {'C': 0.7015496313949261, 'penalty': 'l1', 'max_iter': 224}. Best is trial 20 with value: 0.764430834371552.\n",
      "[I 2025-06-11 20:56:23,823] Trial 142 finished with value: 0.764373335448582 and parameters: {'C': 1.0190630302130685, 'penalty': 'l1', 'max_iter': 234}. Best is trial 20 with value: 0.764430834371552.\n",
      "[I 2025-06-11 20:56:27,071] Trial 143 finished with value: 0.7643027225016314 and parameters: {'C': 0.4964483367224637, 'penalty': 'l1', 'max_iter': 196}. Best is trial 20 with value: 0.764430834371552.\n",
      "[I 2025-06-11 20:56:30,461] Trial 144 finished with value: 0.7642010995443507 and parameters: {'C': 1.200055024050637, 'penalty': 'l1', 'max_iter': 217}. Best is trial 20 with value: 0.764430834371552.\n",
      "[I 2025-06-11 20:56:34,390] Trial 145 finished with value: 0.764430834371552 and parameters: {'C': 0.8124005736006245, 'penalty': 'l1', 'max_iter': 205}. Best is trial 20 with value: 0.764430834371552.\n",
      "[I 2025-06-11 20:56:34,850] Trial 146 finished with value: 0.02260504601167427 and parameters: {'C': 0.00010973708660964222, 'penalty': 'l1', 'max_iter': 246}. Best is trial 20 with value: 0.764430834371552.\n",
      "[I 2025-06-11 20:56:38,833] Trial 147 finished with value: 0.764288664538994 and parameters: {'C': 0.38402995761635805, 'penalty': 'l1', 'max_iter': 228}. Best is trial 20 with value: 0.764430834371552.\n",
      "[I 2025-06-11 20:56:42,982] Trial 148 finished with value: 0.764430834371552 and parameters: {'C': 0.5871398135522585, 'penalty': 'l1', 'max_iter': 260}. Best is trial 20 with value: 0.764430834371552.\n",
      "[I 2025-06-11 20:56:47,052] Trial 149 finished with value: 0.7642010995443507 and parameters: {'C': 1.754641912067984, 'penalty': 'l1', 'max_iter': 242}. Best is trial 20 with value: 0.764430834371552.\n",
      "[I 2025-06-11 20:56:48,047] Trial 150 finished with value: 0.7636951752033021 and parameters: {'C': 0.9508903027932634, 'penalty': 'l2', 'max_iter': 268}. Best is trial 20 with value: 0.764430834371552.\n",
      "[I 2025-06-11 20:56:52,041] Trial 151 finished with value: 0.764430834371552 and parameters: {'C': 0.6876436602784514, 'penalty': 'l1', 'max_iter': 215}. Best is trial 20 with value: 0.764430834371552.\n",
      "[I 2025-06-11 20:56:56,201] Trial 152 finished with value: 0.7641800346782917 and parameters: {'C': 58.727059283153224, 'penalty': 'l1', 'max_iter': 204}. Best is trial 20 with value: 0.764430834371552.\n",
      "[I 2025-06-11 20:56:59,783] Trial 153 finished with value: 0.764336861702797 and parameters: {'C': 0.5263080104450057, 'penalty': 'l1', 'max_iter': 222}. Best is trial 20 with value: 0.764430834371552.\n",
      "[I 2025-06-11 20:57:03,685] Trial 154 finished with value: 0.7642010995443507 and parameters: {'C': 1.34463044668175, 'penalty': 'l1', 'max_iter': 178}. Best is trial 20 with value: 0.764430834371552.\n",
      "[I 2025-06-11 20:57:04,671] Trial 155 finished with value: 0.7282573498581721 and parameters: {'C': 0.003571550723402271, 'penalty': 'l1', 'max_iter': 79}. Best is trial 20 with value: 0.764430834371552.\n",
      "[I 2025-06-11 20:57:08,596] Trial 156 finished with value: 0.764430834371552 and parameters: {'C': 0.7375030144982222, 'penalty': 'l1', 'max_iter': 210}. Best is trial 20 with value: 0.764430834371552.\n",
      "[I 2025-06-11 20:57:12,475] Trial 157 finished with value: 0.7643251638105174 and parameters: {'C': 0.4015208346724234, 'penalty': 'l1', 'max_iter': 235}. Best is trial 20 with value: 0.764430834371552.\n",
      "[I 2025-06-11 20:57:16,634] Trial 158 finished with value: 0.764373335448582 and parameters: {'C': 1.0278842498501262, 'penalty': 'l1', 'max_iter': 199}. Best is trial 20 with value: 0.764430834371552.\n",
      "[I 2025-06-11 20:57:20,286] Trial 159 finished with value: 0.7640544085567831 and parameters: {'C': 0.27755022558127385, 'penalty': 'l1', 'max_iter': 251}. Best is trial 20 with value: 0.764430834371552.\n",
      "[I 2025-06-11 20:57:23,648] Trial 160 finished with value: 0.764430834371552 and parameters: {'C': 0.5867015173960124, 'penalty': 'l1', 'max_iter': 286}. Best is trial 20 with value: 0.764430834371552.\n",
      "[I 2025-06-11 20:57:26,876] Trial 161 finished with value: 0.764430834371552 and parameters: {'C': 0.8593797587142575, 'penalty': 'l1', 'max_iter': 190}. Best is trial 20 with value: 0.764430834371552.\n",
      "[I 2025-06-11 20:57:30,275] Trial 162 finished with value: 0.764373335448582 and parameters: {'C': 1.1731291868317981, 'penalty': 'l1', 'max_iter': 210}. Best is trial 20 with value: 0.764430834371552.\n",
      "[I 2025-06-11 20:57:33,481] Trial 163 finished with value: 0.7642675478519318 and parameters: {'C': 0.4644925771073405, 'penalty': 'l1', 'max_iter': 220}. Best is trial 20 with value: 0.764430834371552.\n",
      "[I 2025-06-11 20:57:36,804] Trial 164 finished with value: 0.7642010995443507 and parameters: {'C': 1.5682200899615168, 'penalty': 'l1', 'max_iter': 195}. Best is trial 20 with value: 0.764430834371552.\n",
      "[I 2025-06-11 20:57:40,019] Trial 165 finished with value: 0.764430834371552 and parameters: {'C': 0.8134238982464879, 'penalty': 'l1', 'max_iter': 166}. Best is trial 20 with value: 0.764430834371552.\n",
      "[I 2025-06-11 20:57:43,264] Trial 166 finished with value: 0.764430834371552 and parameters: {'C': 0.6675118001941478, 'penalty': 'l1', 'max_iter': 181}. Best is trial 20 with value: 0.764430834371552.\n",
      "[I 2025-06-11 20:57:46,443] Trial 167 finished with value: 0.764430834371552 and parameters: {'C': 0.9509548421948686, 'penalty': 'l1', 'max_iter': 231}. Best is trial 20 with value: 0.764430834371552.\n",
      "[I 2025-06-11 20:57:49,497] Trial 168 finished with value: 0.7640114650168581 and parameters: {'C': 0.3565039645754567, 'penalty': 'l1', 'max_iter': 241}. Best is trial 20 with value: 0.764430834371552.\n",
      "[I 2025-06-11 20:57:52,828] Trial 169 finished with value: 0.7642010995443507 and parameters: {'C': 1.7199047213294805, 'penalty': 'l1', 'max_iter': 275}. Best is trial 20 with value: 0.764430834371552.\n",
      "[I 2025-06-11 20:57:54,767] Trial 170 finished with value: 0.7611801092013923 and parameters: {'C': 0.04051874026143045, 'penalty': 'l1', 'max_iter': 216}. Best is trial 20 with value: 0.764430834371552.\n",
      "[I 2025-06-11 20:57:57,892] Trial 171 finished with value: 0.764430834371552 and parameters: {'C': 0.7487926734156659, 'penalty': 'l1', 'max_iter': 231}. Best is trial 20 with value: 0.764430834371552.\n",
      "[I 2025-06-11 20:58:01,068] Trial 172 finished with value: 0.764336861702797 and parameters: {'C': 0.5362141038344818, 'penalty': 'l1', 'max_iter': 225}. Best is trial 20 with value: 0.764430834371552.\n",
      "[I 2025-06-11 20:58:04,415] Trial 173 finished with value: 0.7642010995443507 and parameters: {'C': 1.1931552167458233, 'penalty': 'l1', 'max_iter': 199}. Best is trial 20 with value: 0.764430834371552.\n",
      "[I 2025-06-11 20:58:07,592] Trial 174 finished with value: 0.764430834371552 and parameters: {'C': 0.7093320107555569, 'penalty': 'l1', 'max_iter': 294}. Best is trial 20 with value: 0.764430834371552.\n",
      "[I 2025-06-11 20:58:10,664] Trial 175 finished with value: 0.7642675478519318 and parameters: {'C': 0.462008554376726, 'penalty': 'l1', 'max_iter': 253}. Best is trial 20 with value: 0.764430834371552.\n",
      "[I 2025-06-11 20:58:13,940] Trial 176 finished with value: 0.764430834371552 and parameters: {'C': 0.9822580536678153, 'penalty': 'l1', 'max_iter': 236}. Best is trial 20 with value: 0.764430834371552.\n",
      "[I 2025-06-11 20:58:17,233] Trial 177 finished with value: 0.764430834371552 and parameters: {'C': 0.625809144004918, 'penalty': 'l1', 'max_iter': 357}. Best is trial 20 with value: 0.764430834371552.\n",
      "[I 2025-06-11 20:58:18,072] Trial 178 finished with value: 0.7639193637569612 and parameters: {'C': 1.4720848141452003, 'penalty': 'l2', 'max_iter': 210}. Best is trial 20 with value: 0.764430834371552.\n",
      "[I 2025-06-11 20:58:21,076] Trial 179 finished with value: 0.7639964003675275 and parameters: {'C': 0.32573261866657305, 'penalty': 'l1', 'max_iter': 387}. Best is trial 20 with value: 0.764430834371552.\n",
      "[I 2025-06-11 20:58:24,302] Trial 180 finished with value: 0.764430834371552 and parameters: {'C': 0.8840282720257162, 'penalty': 'l1', 'max_iter': 222}. Best is trial 20 with value: 0.764430834371552.\n",
      "[I 2025-06-11 20:58:27,944] Trial 181 finished with value: 0.764430834371552 and parameters: {'C': 0.8343029371138351, 'penalty': 'l1', 'max_iter': 160}. Best is trial 20 with value: 0.764430834371552.\n",
      "[I 2025-06-11 20:58:31,637] Trial 182 finished with value: 0.764373335448582 and parameters: {'C': 1.1264161361961031, 'penalty': 'l1', 'max_iter': 155}. Best is trial 20 with value: 0.764430834371552.\n",
      "[I 2025-06-11 20:58:35,564] Trial 183 finished with value: 0.764336861702797 and parameters: {'C': 0.5209572510341384, 'penalty': 'l1', 'max_iter': 310}. Best is trial 20 with value: 0.764430834371552.\n",
      "[I 2025-06-11 20:58:39,777] Trial 184 finished with value: 0.7642376069718839 and parameters: {'C': 2.253020845322726, 'penalty': 'l1', 'max_iter': 266}. Best is trial 20 with value: 0.764430834371552.\n",
      "[I 2025-06-11 20:58:43,745] Trial 185 finished with value: 0.764430834371552 and parameters: {'C': 0.643653760975988, 'penalty': 'l1', 'max_iter': 136}. Best is trial 20 with value: 0.764430834371552.\n",
      "[I 2025-06-11 20:58:47,321] Trial 186 finished with value: 0.7642675478519318 and parameters: {'C': 0.4351381258777972, 'penalty': 'l1', 'max_iter': 246}. Best is trial 20 with value: 0.764430834371552.\n",
      "[I 2025-06-11 20:58:50,796] Trial 187 finished with value: 0.764430834371552 and parameters: {'C': 0.8187186402598765, 'penalty': 'l1', 'max_iter': 191}. Best is trial 20 with value: 0.764430834371552.\n",
      "[I 2025-06-11 20:58:54,414] Trial 188 finished with value: 0.7642010995443507 and parameters: {'C': 1.2738725596761322, 'penalty': 'l1', 'max_iter': 146}. Best is trial 20 with value: 0.764430834371552.\n",
      "[I 2025-06-11 20:58:58,477] Trial 189 finished with value: 0.764373335448582 and parameters: {'C': 1.0002512315169543, 'penalty': 'l1', 'max_iter': 205}. Best is trial 20 with value: 0.764430834371552.\n",
      "[I 2025-06-11 20:59:02,184] Trial 190 finished with value: 0.764336861702797 and parameters: {'C': 0.5820360290289524, 'penalty': 'l1', 'max_iter': 229}. Best is trial 20 with value: 0.764430834371552.\n",
      "[I 2025-06-11 20:59:05,701] Trial 191 finished with value: 0.764430834371552 and parameters: {'C': 0.7258343433573317, 'penalty': 'l1', 'max_iter': 117}. Best is trial 20 with value: 0.764430834371552.\n",
      "[I 2025-06-11 20:59:09,200] Trial 192 finished with value: 0.764430834371552 and parameters: {'C': 0.6208058306499754, 'penalty': 'l1', 'max_iter': 300}. Best is trial 20 with value: 0.764430834371552.\n",
      "[I 2025-06-11 20:59:12,510] Trial 193 finished with value: 0.7642675478519318 and parameters: {'C': 0.44592796200216084, 'penalty': 'l1', 'max_iter': 286}. Best is trial 20 with value: 0.764430834371552.\n",
      "[I 2025-06-11 20:59:15,922] Trial 194 finished with value: 0.764430834371552 and parameters: {'C': 0.877772008597466, 'penalty': 'l1', 'max_iter': 277}. Best is trial 20 with value: 0.764430834371552.\n",
      "[I 2025-06-11 20:59:19,453] Trial 195 finished with value: 0.7642010995443507 and parameters: {'C': 1.4224733104798424, 'penalty': 'l1', 'max_iter': 217}. Best is trial 20 with value: 0.764430834371552.\n",
      "[I 2025-06-11 20:59:22,734] Trial 196 finished with value: 0.7640114650168581 and parameters: {'C': 0.37123573640802754, 'penalty': 'l1', 'max_iter': 292}. Best is trial 20 with value: 0.764430834371552.\n",
      "[I 2025-06-11 20:59:26,257] Trial 197 finished with value: 0.764430834371552 and parameters: {'C': 0.5983548190976533, 'penalty': 'l1', 'max_iter': 238}. Best is trial 20 with value: 0.764430834371552.\n",
      "[I 2025-06-11 20:59:29,779] Trial 198 finished with value: 0.764373335448582 and parameters: {'C': 1.0684939477784154, 'penalty': 'l1', 'max_iter': 259}. Best is trial 20 with value: 0.764430834371552.\n",
      "[I 2025-06-11 20:59:33,139] Trial 199 finished with value: 0.764430834371552 and parameters: {'C': 0.7729558362148023, 'penalty': 'l1', 'max_iter': 212}. Best is trial 20 with value: 0.764430834371552.\n",
      "[I 2025-06-11 20:59:36,804] Trial 200 finished with value: 0.7642010995443507 and parameters: {'C': 1.7934851183495346, 'penalty': 'l1', 'max_iter': 224}. Best is trial 20 with value: 0.764430834371552.\n",
      "[I 2025-06-11 20:59:40,338] Trial 201 finished with value: 0.764430834371552 and parameters: {'C': 0.5914413970063803, 'penalty': 'l1', 'max_iter': 202}. Best is trial 20 with value: 0.764430834371552.\n",
      "[I 2025-06-11 20:59:43,621] Trial 202 finished with value: 0.7642675478519318 and parameters: {'C': 0.4682489138449181, 'penalty': 'l1', 'max_iter': 210}. Best is trial 20 with value: 0.764430834371552.\n",
      "[I 2025-06-11 20:59:47,168] Trial 203 finished with value: 0.764430834371552 and parameters: {'C': 0.7292898048853627, 'penalty': 'l1', 'max_iter': 469}. Best is trial 20 with value: 0.764430834371552.\n",
      "[I 2025-06-11 20:59:50,778] Trial 204 finished with value: 0.764373335448582 and parameters: {'C': 1.0614079093395403, 'penalty': 'l1', 'max_iter': 196}. Best is trial 20 with value: 0.764430834371552.\n",
      "[I 2025-06-11 20:59:54,220] Trial 205 finished with value: 0.764336861702797 and parameters: {'C': 0.5587540568481035, 'penalty': 'l1', 'max_iter': 216}. Best is trial 20 with value: 0.764430834371552.\n",
      "[I 2025-06-11 20:59:57,624] Trial 206 finished with value: 0.764430834371552 and parameters: {'C': 0.8876996624919807, 'penalty': 'l1', 'max_iter': 231}. Best is trial 20 with value: 0.764430834371552.\n",
      "[I 2025-06-11 20:59:58,393] Trial 207 finished with value: 0.7627005806442881 and parameters: {'C': 0.27604878327982957, 'penalty': 'l2', 'max_iter': 242}. Best is trial 20 with value: 0.764430834371552.\n",
      "[I 2025-06-11 21:00:01,969] Trial 208 finished with value: 0.7642010995443507 and parameters: {'C': 1.2149787129363283, 'penalty': 'l1', 'max_iter': 176}. Best is trial 20 with value: 0.764430834371552.\n",
      "[I 2025-06-11 21:00:05,348] Trial 209 finished with value: 0.764430834371552 and parameters: {'C': 0.7138116062374008, 'penalty': 'l1', 'max_iter': 496}. Best is trial 20 with value: 0.764430834371552.\n",
      "[I 2025-06-11 21:00:08,713] Trial 210 finished with value: 0.7640114650168581 and parameters: {'C': 0.36871162853340944, 'penalty': 'l1', 'max_iter': 271}. Best is trial 20 with value: 0.764430834371552.\n",
      "[I 2025-06-11 21:00:12,117] Trial 211 finished with value: 0.764430834371552 and parameters: {'C': 0.8923808181337115, 'penalty': 'l1', 'max_iter': 249}. Best is trial 20 with value: 0.764430834371552.\n",
      "[I 2025-06-11 21:00:15,519] Trial 212 finished with value: 0.764336861702797 and parameters: {'C': 0.5268025776920221, 'penalty': 'l1', 'max_iter': 223}. Best is trial 20 with value: 0.764430834371552.\n",
      "[I 2025-06-11 21:00:18,943] Trial 213 finished with value: 0.764430834371552 and parameters: {'C': 0.7239415689742477, 'penalty': 'l1', 'max_iter': 236}. Best is trial 20 with value: 0.764430834371552.\n",
      "[I 2025-06-11 21:00:22,456] Trial 214 finished with value: 0.764373335448582 and parameters: {'C': 1.0240159296405729, 'penalty': 'l1', 'max_iter': 209}. Best is trial 20 with value: 0.764430834371552.\n",
      "[I 2025-06-11 21:00:26,018] Trial 215 finished with value: 0.7642010995443507 and parameters: {'C': 1.3045417227343707, 'penalty': 'l1', 'max_iter': 256}. Best is trial 20 with value: 0.764430834371552.\n",
      "[I 2025-06-11 21:00:29,423] Trial 216 finished with value: 0.764430834371552 and parameters: {'C': 0.6574504725675465, 'penalty': 'l1', 'max_iter': 244}. Best is trial 20 with value: 0.764430834371552.\n",
      "[I 2025-06-11 21:00:32,805] Trial 217 finished with value: 0.764430834371552 and parameters: {'C': 0.9447169370264584, 'penalty': 'l1', 'max_iter': 418}. Best is trial 20 with value: 0.764430834371552.\n",
      "[I 2025-06-11 21:00:36,246] Trial 218 finished with value: 0.7642675478519318 and parameters: {'C': 0.4817156973391508, 'penalty': 'l1', 'max_iter': 228}. Best is trial 20 with value: 0.764430834371552.\n",
      "[I 2025-06-11 21:00:39,721] Trial 219 finished with value: 0.7642010995443507 and parameters: {'C': 1.5082595863019315, 'penalty': 'l1', 'max_iter': 189}. Best is trial 20 with value: 0.764430834371552.\n",
      "[I 2025-06-11 21:00:43,157] Trial 220 finished with value: 0.764430834371552 and parameters: {'C': 0.8441424166342474, 'penalty': 'l1', 'max_iter': 281}. Best is trial 20 with value: 0.764430834371552.\n",
      "[I 2025-06-11 21:00:46,579] Trial 221 finished with value: 0.764430834371552 and parameters: {'C': 0.7136352853182348, 'penalty': 'l1', 'max_iter': 250}. Best is trial 20 with value: 0.764430834371552.\n",
      "[I 2025-06-11 21:00:49,973] Trial 222 finished with value: 0.764336861702797 and parameters: {'C': 0.5447298964513156, 'penalty': 'l1', 'max_iter': 264}. Best is trial 20 with value: 0.764430834371552.\n",
      "[I 2025-06-11 21:00:53,499] Trial 223 finished with value: 0.764430834371552 and parameters: {'C': 0.858901458853262, 'penalty': 'l1', 'max_iter': 255}. Best is trial 20 with value: 0.764430834371552.\n",
      "[I 2025-06-11 21:00:56,913] Trial 224 finished with value: 0.7643251638105174 and parameters: {'C': 0.4212819501065967, 'penalty': 'l1', 'max_iter': 219}. Best is trial 20 with value: 0.764430834371552.\n",
      "[I 2025-06-11 21:01:00,518] Trial 225 finished with value: 0.764373335448582 and parameters: {'C': 1.1270387346594783, 'penalty': 'l1', 'max_iter': 237}. Best is trial 20 with value: 0.764430834371552.\n",
      "[I 2025-06-11 21:01:03,933] Trial 226 finished with value: 0.764430834371552 and parameters: {'C': 0.647800895314847, 'penalty': 'l1', 'max_iter': 269}. Best is trial 20 with value: 0.764430834371552.\n",
      "[I 2025-06-11 21:01:07,345] Trial 227 finished with value: 0.764430834371552 and parameters: {'C': 0.8186014613614339, 'penalty': 'l1', 'max_iter': 202}. Best is trial 20 with value: 0.764430834371552.\n",
      "[I 2025-06-11 21:01:10,922] Trial 228 finished with value: 0.7642010995443507 and parameters: {'C': 1.1998244060540728, 'penalty': 'l1', 'max_iter': 296}. Best is trial 20 with value: 0.764430834371552.\n",
      "[I 2025-06-11 21:01:14,376] Trial 229 finished with value: 0.764336861702797 and parameters: {'C': 0.5565944639947393, 'penalty': 'l1', 'max_iter': 229}. Best is trial 20 with value: 0.764430834371552.\n",
      "[I 2025-06-11 21:01:17,626] Trial 230 finished with value: 0.7640114650168581 and parameters: {'C': 0.3606304891337309, 'penalty': 'l1', 'max_iter': 243}. Best is trial 20 with value: 0.764430834371552.\n",
      "[I 2025-06-11 21:01:21,090] Trial 231 finished with value: 0.764430834371552 and parameters: {'C': 0.6415252194053044, 'penalty': 'l1', 'max_iter': 304}. Best is trial 20 with value: 0.764430834371552.\n",
      "[I 2025-06-11 21:01:24,515] Trial 232 finished with value: 0.764430834371552 and parameters: {'C': 0.8131838243841414, 'penalty': 'l1', 'max_iter': 281}. Best is trial 20 with value: 0.764430834371552.\n",
      "[I 2025-06-11 21:01:27,931] Trial 233 finished with value: 0.764336861702797 and parameters: {'C': 0.57398059767877, 'penalty': 'l1', 'max_iter': 289}. Best is trial 20 with value: 0.764430834371552.\n",
      "[I 2025-06-11 21:01:31,406] Trial 234 finished with value: 0.764430834371552 and parameters: {'C': 0.9729487330095749, 'penalty': 'l1', 'max_iter': 275}. Best is trial 20 with value: 0.764430834371552.\n",
      "[I 2025-06-11 21:01:34,746] Trial 235 finished with value: 0.7642675478519318 and parameters: {'C': 0.4366144145809119, 'penalty': 'l1', 'max_iter': 214}. Best is trial 20 with value: 0.764430834371552.\n",
      "[I 2025-06-11 21:01:38,151] Trial 236 finished with value: 0.764430834371552 and parameters: {'C': 0.6951049446142171, 'penalty': 'l1', 'max_iter': 258}. Best is trial 20 with value: 0.764430834371552.\n",
      "[I 2025-06-11 21:01:41,676] Trial 237 finished with value: 0.7642010995443507 and parameters: {'C': 1.3668981331965369, 'penalty': 'l1', 'max_iter': 293}. Best is trial 20 with value: 0.764430834371552.\n",
      "[I 2025-06-11 21:01:45,098] Trial 238 finished with value: 0.764430834371552 and parameters: {'C': 0.9284945868227494, 'penalty': 'l1', 'max_iter': 208}. Best is trial 20 with value: 0.764430834371552.\n",
      "[I 2025-06-11 21:01:48,421] Trial 239 finished with value: 0.7642675478519318 and parameters: {'C': 0.4708239429630213, 'penalty': 'l1', 'max_iter': 326}. Best is trial 20 with value: 0.764430834371552.\n",
      "[I 2025-06-11 21:01:51,913] Trial 240 finished with value: 0.764430834371552 and parameters: {'C': 0.6883021202778834, 'penalty': 'l1', 'max_iter': 222}. Best is trial 20 with value: 0.764430834371552.\n",
      "[I 2025-06-11 21:01:55,334] Trial 241 finished with value: 0.764430834371552 and parameters: {'C': 0.8363606992266636, 'penalty': 'l1', 'max_iter': 215}. Best is trial 20 with value: 0.764430834371552.\n",
      "[I 2025-06-11 21:01:58,746] Trial 242 finished with value: 0.764373335448582 and parameters: {'C': 1.102200949483736, 'penalty': 'l1', 'max_iter': 198}. Best is trial 20 with value: 0.764430834371552.\n",
      "[I 2025-06-11 21:02:02,278] Trial 243 finished with value: 0.764336861702797 and parameters: {'C': 0.5797430484989934, 'penalty': 'l1', 'max_iter': 233}. Best is trial 20 with value: 0.764430834371552.\n",
      "[I 2025-06-11 21:02:03,139] Trial 244 finished with value: 0.7633801688414252 and parameters: {'C': 0.8249050144116109, 'penalty': 'l2', 'max_iter': 222}. Best is trial 20 with value: 0.764430834371552.\n",
      "[I 2025-06-11 21:02:06,509] Trial 245 finished with value: 0.764430834371552 and parameters: {'C': 0.6762539434026863, 'penalty': 'l1', 'max_iter': 206}. Best is trial 20 with value: 0.764430834371552.\n",
      "[I 2025-06-11 21:02:10,022] Trial 246 finished with value: 0.764373335448582 and parameters: {'C': 1.094998512551929, 'penalty': 'l1', 'max_iter': 284}. Best is trial 20 with value: 0.764430834371552.\n",
      "[I 2025-06-11 21:02:13,322] Trial 247 finished with value: 0.764336861702797 and parameters: {'C': 0.5093216271955618, 'penalty': 'l1', 'max_iter': 247}. Best is trial 20 with value: 0.764430834371552.\n",
      "[I 2025-06-11 21:02:16,806] Trial 248 finished with value: 0.7642010995443507 and parameters: {'C': 1.58765809098829, 'penalty': 'l1', 'max_iter': 265}. Best is trial 20 with value: 0.764430834371552.\n",
      "[I 2025-06-11 21:02:20,189] Trial 249 finished with value: 0.764430834371552 and parameters: {'C': 0.7597934081899927, 'penalty': 'l1', 'max_iter': 218}. Best is trial 20 with value: 0.764430834371552.\n"
     ]
    },
    {
     "name": "stdout",
     "output_type": "stream",
     "text": [
      "Best hyperparameters (LogisticRegression):  {'C': 0.8442234478755427, 'penalty': 'l1', 'max_iter': 274}\n",
      "Best validation F1-score (LogisticRegression):  0.764430834371552\n",
      "...Done.\n"
     ]
    }
   ],
   "source": [
    "# Train model\n",
    "print(\"Train model...\")\n",
    "\n",
    "def objective_simplified(trial):\n",
    "    # Fixed solver for simplicity, as it supports both l1 and l2 penalties\n",
    "    solver = 'liblinear'\n",
    "\n",
    "    # Define the hyperparameter search space\n",
    "    # C: Inverse of regularization strength; must be a positive float.\n",
    "    C = trial.suggest_float('C', 1e-4, 1e2, log = True)\n",
    "\n",
    "    # penalty: Used to specify the norm of the penalty. 'liblinear' supports 'l1' and 'l2'.\n",
    "    penalty = trial.suggest_categorical('penalty', ['l1', 'l2'])\n",
    "\n",
    "    # max_iter: Maximum number of iterations taken for the solvers to converge.\n",
    "    max_iter = trial.suggest_int('max_iter', 50, 500) # 'liblinear' is generally faster, so lower max_iter is fine\n",
    "\n",
    "    # Create the Logistic Regression model\n",
    "    model = LogisticRegression(\n",
    "        C=C,\n",
    "        solver=solver,\n",
    "        penalty=penalty,\n",
    "        max_iter=max_iter,\n",
    "        random_state=42, # For reproducibility\n",
    "    )\n",
    "\n",
    "    # Use cross-validation to get a more robust estimate of model performance\n",
    "    kf = StratifiedKFold(n_splits=5, shuffle=True, random_state=42)\n",
    "    \n",
    "    # We will maximize ROC AUC as our objective metric\n",
    "    scores = cross_val_score(model, X_train, Y_train, cv=kf, scoring='f1', n_jobs=-1)\n",
    "\n",
    "    # Return the mean ROC AUC score\n",
    "    return scores.mean()\n",
    "\n",
    "study_rf = optuna.create_study(direction='maximize', pruner=optuna.pruners.MedianPruner(\n",
    "    n_startup_trials=5, # Number of trials to run without pruning\n",
    "    n_warmup_steps=0,   # Number of intermediate reports to wait for before starting pruning\n",
    "    interval_steps=1    # Check for pruning at every 'interval_steps' intermediate reports\n",
    "))\n",
    "\n",
    "study_rf.optimize(objective_simplified, n_trials=250) \n",
    "\n",
    "print(\"Best hyperparameters (LogisticRegression): \", study_rf.best_params)\n",
    "print(\"Best validation F1-score (LogisticRegression): \", study_rf.best_value)\n",
    "\n",
    "classifier = LogisticRegression(**study_rf.best_params, solver='liblinear', random_state=42)\n",
    "classifier.fit(X_train, Y_train)\n",
    "print(\"...Done.\")"
   ]
  },
  {
   "cell_type": "code",
   "execution_count": 32,
   "metadata": {
    "colab": {
     "base_uri": "https://localhost:8080/",
     "height": 84
    },
    "colab_type": "code",
    "id": "Au2TK_vw7rD-",
    "outputId": "702789a8-4631-4c29-f297-e4b2901f3195"
   },
   "outputs": [
    {
     "name": "stdout",
     "output_type": "stream",
     "text": [
      "Predictions on training set...\n",
      "...Done.\n",
      "[0 0 0 ... 0 0 0]\n",
      "\n"
     ]
    }
   ],
   "source": [
    "# Predictions on training set\n",
    "print(\"Predictions on training set...\")\n",
    "Y_train_pred = classifier.predict(X_train)\n",
    "print(\"...Done.\")\n",
    "print(Y_train_pred)\n",
    "print()"
   ]
  },
  {
   "cell_type": "markdown",
   "metadata": {
    "colab_type": "text",
    "id": "7TY_v9uH_CE7"
   },
   "source": [
    "## Test pipeline"
   ]
  },
  {
   "cell_type": "code",
   "execution_count": 33,
   "metadata": {
    "colab": {
     "base_uri": "https://localhost:8080/",
     "height": 134
    },
    "colab_type": "code",
    "id": "ngOSdG6-_Cvb",
    "outputId": "1e19e8ee-222f-413b-9bc0-e9f41dcca1c0"
   },
   "outputs": [
    {
     "name": "stdout",
     "output_type": "stream",
     "text": [
      "Encoding categorical features and standardizing numerical features...\n",
      "Performing preprocessings on test set...\n",
      "       country  age  new_user  source  total_pages_visited\n",
      "35367    China   30         1  Direct                    8\n",
      "236725      US   41         1     Seo                    1\n",
      "41000       UK   29         0     Seo                    2\n",
      "41435       US   45         1     Seo                    2\n",
      "18633    China   33         1     Seo                    8\n",
      "...Done.\n",
      "[[-0.0672634   0.67684511  0.93437855  0.          0.          0.\n",
      "   1.          0.        ]\n",
      " [ 1.26455078  0.67684511 -1.15894645  0.          0.          1.\n",
      "   0.          1.        ]\n",
      " [-0.18833742 -1.47744289 -0.85990002  0.          1.          0.\n",
      "   0.          1.        ]\n",
      " [ 1.74884684  0.67684511 -0.85990002  0.          0.          1.\n",
      "   0.          1.        ]\n",
      " [ 0.29595865  0.67684511  0.93437855  0.          0.          0.\n",
      "   0.          1.        ]]\n",
      "\n"
     ]
    }
   ],
   "source": [
    "# Use X_test, and the same preprocessings as in training pipeline, \n",
    "# but call \"transform()\" instead of \"fit_transform\" methods (see example below)\n",
    "\n",
    "print(\"Encoding categorical features and standardizing numerical features...\")\n",
    "\n",
    "# Preprocessings on test set\n",
    "print(\"Performing preprocessings on test set...\")\n",
    "print(X_test.head())\n",
    "X_test = preprocessor.transform(\n",
    "    X_test\n",
    ")  # Don't fit again !! The test set is used for validating decisions\n",
    "# we made based on the training set, therefore we can only apply transformations that were parametered using the training set.\n",
    "# Otherwise this creates what is called a leak from the test set which will introduce a bias in all your results.\n",
    "print(\"...Done.\")\n",
    "print(\n",
    "    X_test[0:5, :]\n",
    ")  # MUST use this syntax because X_test is a numpy array and not a pandas DataFrame anymore\n",
    "print()"
   ]
  },
  {
   "cell_type": "code",
   "execution_count": 34,
   "metadata": {
    "colab": {
     "base_uri": "https://localhost:8080/",
     "height": 84
    },
    "colab_type": "code",
    "id": "QS1XrzzE_jQI",
    "outputId": "866a96d2-4180-4bd1-ce54-ba052e75d485"
   },
   "outputs": [
    {
     "name": "stdout",
     "output_type": "stream",
     "text": [
      "Predictions on test set...\n",
      "...Done.\n",
      "[0 0 0 ... 0 0 1]\n",
      "\n"
     ]
    }
   ],
   "source": [
    "# Predictions on test set\n",
    "print(\"Predictions on test set...\")\n",
    "Y_test_pred = classifier.predict(X_test)\n",
    "print(\"...Done.\")\n",
    "print(Y_test_pred)\n",
    "print()"
   ]
  },
  {
   "cell_type": "markdown",
   "metadata": {
    "colab_type": "text",
    "id": "zxJCTlz0_2it"
   },
   "source": [
    "## Performance assessment"
   ]
  },
  {
   "cell_type": "code",
   "execution_count": 35,
   "metadata": {},
   "outputs": [
    {
     "name": "stdout",
     "output_type": "stream",
     "text": [
      "Names of columns corresponding to each coefficient:  ['age', 'new_user', 'total_pages_visited', 'country_Germany', 'country_UK', 'country_US', 'source_Direct', 'source_Seo']\n"
     ]
    },
    {
     "data": {
      "application/vnd.plotly.v1+json": {
       "config": {
        "plotlyServerURL": "https://plot.ly"
       },
       "data": [
        {
         "hovertemplate": "variable=coefficients<br>value=%{x}<br>index=%{y}<extra></extra>",
         "legendgroup": "coefficients",
         "marker": {
          "color": "#636efa",
          "pattern": {
           "shape": ""
          }
         },
         "name": "coefficients",
         "orientation": "h",
         "showlegend": true,
         "textposition": "auto",
         "type": "bar",
         "x": {
          "bdata": "3UHdirxQjT8JzZSD/8nEP5ndSqtUpeM/eh8nVyAz6j+KJDmZJEYEQC/pCfgxjwhAs+k6uBpdC0DpFs34RPgMQA==",
          "dtype": "f8"
         },
         "xaxis": "x",
         "y": [
          "source_Seo",
          "source_Direct",
          "age",
          "new_user",
          "total_pages_visited",
          "country_US",
          "country_UK",
          "country_Germany"
         ],
         "yaxis": "y"
        }
       ],
       "layout": {
        "barmode": "relative",
        "legend": {
         "title": {
          "text": "variable"
         },
         "tracegroupgap": 0
        },
        "margin": {
         "l": 120,
         "t": 60
        },
        "showlegend": false,
        "template": {
         "data": {
          "bar": [
           {
            "error_x": {
             "color": "#2a3f5f"
            },
            "error_y": {
             "color": "#2a3f5f"
            },
            "marker": {
             "line": {
              "color": "#E5ECF6",
              "width": 0.5
             },
             "pattern": {
              "fillmode": "overlay",
              "size": 10,
              "solidity": 0.2
             }
            },
            "type": "bar"
           }
          ],
          "barpolar": [
           {
            "marker": {
             "line": {
              "color": "#E5ECF6",
              "width": 0.5
             },
             "pattern": {
              "fillmode": "overlay",
              "size": 10,
              "solidity": 0.2
             }
            },
            "type": "barpolar"
           }
          ],
          "carpet": [
           {
            "aaxis": {
             "endlinecolor": "#2a3f5f",
             "gridcolor": "white",
             "linecolor": "white",
             "minorgridcolor": "white",
             "startlinecolor": "#2a3f5f"
            },
            "baxis": {
             "endlinecolor": "#2a3f5f",
             "gridcolor": "white",
             "linecolor": "white",
             "minorgridcolor": "white",
             "startlinecolor": "#2a3f5f"
            },
            "type": "carpet"
           }
          ],
          "choropleth": [
           {
            "colorbar": {
             "outlinewidth": 0,
             "ticks": ""
            },
            "type": "choropleth"
           }
          ],
          "contour": [
           {
            "colorbar": {
             "outlinewidth": 0,
             "ticks": ""
            },
            "colorscale": [
             [
              0,
              "#0d0887"
             ],
             [
              0.1111111111111111,
              "#46039f"
             ],
             [
              0.2222222222222222,
              "#7201a8"
             ],
             [
              0.3333333333333333,
              "#9c179e"
             ],
             [
              0.4444444444444444,
              "#bd3786"
             ],
             [
              0.5555555555555556,
              "#d8576b"
             ],
             [
              0.6666666666666666,
              "#ed7953"
             ],
             [
              0.7777777777777778,
              "#fb9f3a"
             ],
             [
              0.8888888888888888,
              "#fdca26"
             ],
             [
              1,
              "#f0f921"
             ]
            ],
            "type": "contour"
           }
          ],
          "contourcarpet": [
           {
            "colorbar": {
             "outlinewidth": 0,
             "ticks": ""
            },
            "type": "contourcarpet"
           }
          ],
          "heatmap": [
           {
            "colorbar": {
             "outlinewidth": 0,
             "ticks": ""
            },
            "colorscale": [
             [
              0,
              "#0d0887"
             ],
             [
              0.1111111111111111,
              "#46039f"
             ],
             [
              0.2222222222222222,
              "#7201a8"
             ],
             [
              0.3333333333333333,
              "#9c179e"
             ],
             [
              0.4444444444444444,
              "#bd3786"
             ],
             [
              0.5555555555555556,
              "#d8576b"
             ],
             [
              0.6666666666666666,
              "#ed7953"
             ],
             [
              0.7777777777777778,
              "#fb9f3a"
             ],
             [
              0.8888888888888888,
              "#fdca26"
             ],
             [
              1,
              "#f0f921"
             ]
            ],
            "type": "heatmap"
           }
          ],
          "histogram": [
           {
            "marker": {
             "pattern": {
              "fillmode": "overlay",
              "size": 10,
              "solidity": 0.2
             }
            },
            "type": "histogram"
           }
          ],
          "histogram2d": [
           {
            "colorbar": {
             "outlinewidth": 0,
             "ticks": ""
            },
            "colorscale": [
             [
              0,
              "#0d0887"
             ],
             [
              0.1111111111111111,
              "#46039f"
             ],
             [
              0.2222222222222222,
              "#7201a8"
             ],
             [
              0.3333333333333333,
              "#9c179e"
             ],
             [
              0.4444444444444444,
              "#bd3786"
             ],
             [
              0.5555555555555556,
              "#d8576b"
             ],
             [
              0.6666666666666666,
              "#ed7953"
             ],
             [
              0.7777777777777778,
              "#fb9f3a"
             ],
             [
              0.8888888888888888,
              "#fdca26"
             ],
             [
              1,
              "#f0f921"
             ]
            ],
            "type": "histogram2d"
           }
          ],
          "histogram2dcontour": [
           {
            "colorbar": {
             "outlinewidth": 0,
             "ticks": ""
            },
            "colorscale": [
             [
              0,
              "#0d0887"
             ],
             [
              0.1111111111111111,
              "#46039f"
             ],
             [
              0.2222222222222222,
              "#7201a8"
             ],
             [
              0.3333333333333333,
              "#9c179e"
             ],
             [
              0.4444444444444444,
              "#bd3786"
             ],
             [
              0.5555555555555556,
              "#d8576b"
             ],
             [
              0.6666666666666666,
              "#ed7953"
             ],
             [
              0.7777777777777778,
              "#fb9f3a"
             ],
             [
              0.8888888888888888,
              "#fdca26"
             ],
             [
              1,
              "#f0f921"
             ]
            ],
            "type": "histogram2dcontour"
           }
          ],
          "mesh3d": [
           {
            "colorbar": {
             "outlinewidth": 0,
             "ticks": ""
            },
            "type": "mesh3d"
           }
          ],
          "parcoords": [
           {
            "line": {
             "colorbar": {
              "outlinewidth": 0,
              "ticks": ""
             }
            },
            "type": "parcoords"
           }
          ],
          "pie": [
           {
            "automargin": true,
            "type": "pie"
           }
          ],
          "scatter": [
           {
            "fillpattern": {
             "fillmode": "overlay",
             "size": 10,
             "solidity": 0.2
            },
            "type": "scatter"
           }
          ],
          "scatter3d": [
           {
            "line": {
             "colorbar": {
              "outlinewidth": 0,
              "ticks": ""
             }
            },
            "marker": {
             "colorbar": {
              "outlinewidth": 0,
              "ticks": ""
             }
            },
            "type": "scatter3d"
           }
          ],
          "scattercarpet": [
           {
            "marker": {
             "colorbar": {
              "outlinewidth": 0,
              "ticks": ""
             }
            },
            "type": "scattercarpet"
           }
          ],
          "scattergeo": [
           {
            "marker": {
             "colorbar": {
              "outlinewidth": 0,
              "ticks": ""
             }
            },
            "type": "scattergeo"
           }
          ],
          "scattergl": [
           {
            "marker": {
             "colorbar": {
              "outlinewidth": 0,
              "ticks": ""
             }
            },
            "type": "scattergl"
           }
          ],
          "scattermap": [
           {
            "marker": {
             "colorbar": {
              "outlinewidth": 0,
              "ticks": ""
             }
            },
            "type": "scattermap"
           }
          ],
          "scattermapbox": [
           {
            "marker": {
             "colorbar": {
              "outlinewidth": 0,
              "ticks": ""
             }
            },
            "type": "scattermapbox"
           }
          ],
          "scatterpolar": [
           {
            "marker": {
             "colorbar": {
              "outlinewidth": 0,
              "ticks": ""
             }
            },
            "type": "scatterpolar"
           }
          ],
          "scatterpolargl": [
           {
            "marker": {
             "colorbar": {
              "outlinewidth": 0,
              "ticks": ""
             }
            },
            "type": "scatterpolargl"
           }
          ],
          "scatterternary": [
           {
            "marker": {
             "colorbar": {
              "outlinewidth": 0,
              "ticks": ""
             }
            },
            "type": "scatterternary"
           }
          ],
          "surface": [
           {
            "colorbar": {
             "outlinewidth": 0,
             "ticks": ""
            },
            "colorscale": [
             [
              0,
              "#0d0887"
             ],
             [
              0.1111111111111111,
              "#46039f"
             ],
             [
              0.2222222222222222,
              "#7201a8"
             ],
             [
              0.3333333333333333,
              "#9c179e"
             ],
             [
              0.4444444444444444,
              "#bd3786"
             ],
             [
              0.5555555555555556,
              "#d8576b"
             ],
             [
              0.6666666666666666,
              "#ed7953"
             ],
             [
              0.7777777777777778,
              "#fb9f3a"
             ],
             [
              0.8888888888888888,
              "#fdca26"
             ],
             [
              1,
              "#f0f921"
             ]
            ],
            "type": "surface"
           }
          ],
          "table": [
           {
            "cells": {
             "fill": {
              "color": "#EBF0F8"
             },
             "line": {
              "color": "white"
             }
            },
            "header": {
             "fill": {
              "color": "#C8D4E3"
             },
             "line": {
              "color": "white"
             }
            },
            "type": "table"
           }
          ]
         },
         "layout": {
          "annotationdefaults": {
           "arrowcolor": "#2a3f5f",
           "arrowhead": 0,
           "arrowwidth": 1
          },
          "autotypenumbers": "strict",
          "coloraxis": {
           "colorbar": {
            "outlinewidth": 0,
            "ticks": ""
           }
          },
          "colorscale": {
           "diverging": [
            [
             0,
             "#8e0152"
            ],
            [
             0.1,
             "#c51b7d"
            ],
            [
             0.2,
             "#de77ae"
            ],
            [
             0.3,
             "#f1b6da"
            ],
            [
             0.4,
             "#fde0ef"
            ],
            [
             0.5,
             "#f7f7f7"
            ],
            [
             0.6,
             "#e6f5d0"
            ],
            [
             0.7,
             "#b8e186"
            ],
            [
             0.8,
             "#7fbc41"
            ],
            [
             0.9,
             "#4d9221"
            ],
            [
             1,
             "#276419"
            ]
           ],
           "sequential": [
            [
             0,
             "#0d0887"
            ],
            [
             0.1111111111111111,
             "#46039f"
            ],
            [
             0.2222222222222222,
             "#7201a8"
            ],
            [
             0.3333333333333333,
             "#9c179e"
            ],
            [
             0.4444444444444444,
             "#bd3786"
            ],
            [
             0.5555555555555556,
             "#d8576b"
            ],
            [
             0.6666666666666666,
             "#ed7953"
            ],
            [
             0.7777777777777778,
             "#fb9f3a"
            ],
            [
             0.8888888888888888,
             "#fdca26"
            ],
            [
             1,
             "#f0f921"
            ]
           ],
           "sequentialminus": [
            [
             0,
             "#0d0887"
            ],
            [
             0.1111111111111111,
             "#46039f"
            ],
            [
             0.2222222222222222,
             "#7201a8"
            ],
            [
             0.3333333333333333,
             "#9c179e"
            ],
            [
             0.4444444444444444,
             "#bd3786"
            ],
            [
             0.5555555555555556,
             "#d8576b"
            ],
            [
             0.6666666666666666,
             "#ed7953"
            ],
            [
             0.7777777777777778,
             "#fb9f3a"
            ],
            [
             0.8888888888888888,
             "#fdca26"
            ],
            [
             1,
             "#f0f921"
            ]
           ]
          },
          "colorway": [
           "#636efa",
           "#EF553B",
           "#00cc96",
           "#ab63fa",
           "#FFA15A",
           "#19d3f3",
           "#FF6692",
           "#B6E880",
           "#FF97FF",
           "#FECB52"
          ],
          "font": {
           "color": "#2a3f5f"
          },
          "geo": {
           "bgcolor": "white",
           "lakecolor": "white",
           "landcolor": "#E5ECF6",
           "showlakes": true,
           "showland": true,
           "subunitcolor": "white"
          },
          "hoverlabel": {
           "align": "left"
          },
          "hovermode": "closest",
          "mapbox": {
           "style": "light"
          },
          "paper_bgcolor": "white",
          "plot_bgcolor": "#E5ECF6",
          "polar": {
           "angularaxis": {
            "gridcolor": "white",
            "linecolor": "white",
            "ticks": ""
           },
           "bgcolor": "#E5ECF6",
           "radialaxis": {
            "gridcolor": "white",
            "linecolor": "white",
            "ticks": ""
           }
          },
          "scene": {
           "xaxis": {
            "backgroundcolor": "#E5ECF6",
            "gridcolor": "white",
            "gridwidth": 2,
            "linecolor": "white",
            "showbackground": true,
            "ticks": "",
            "zerolinecolor": "white"
           },
           "yaxis": {
            "backgroundcolor": "#E5ECF6",
            "gridcolor": "white",
            "gridwidth": 2,
            "linecolor": "white",
            "showbackground": true,
            "ticks": "",
            "zerolinecolor": "white"
           },
           "zaxis": {
            "backgroundcolor": "#E5ECF6",
            "gridcolor": "white",
            "gridwidth": 2,
            "linecolor": "white",
            "showbackground": true,
            "ticks": "",
            "zerolinecolor": "white"
           }
          },
          "shapedefaults": {
           "line": {
            "color": "#2a3f5f"
           }
          },
          "ternary": {
           "aaxis": {
            "gridcolor": "white",
            "linecolor": "white",
            "ticks": ""
           },
           "baxis": {
            "gridcolor": "white",
            "linecolor": "white",
            "ticks": ""
           },
           "bgcolor": "#E5ECF6",
           "caxis": {
            "gridcolor": "white",
            "linecolor": "white",
            "ticks": ""
           }
          },
          "title": {
           "x": 0.05
          },
          "xaxis": {
           "automargin": true,
           "gridcolor": "white",
           "linecolor": "white",
           "ticks": "",
           "title": {
            "standoff": 15
           },
           "zerolinecolor": "white",
           "zerolinewidth": 2
          },
          "yaxis": {
           "automargin": true,
           "gridcolor": "white",
           "linecolor": "white",
           "ticks": "",
           "title": {
            "standoff": 15
           },
           "zerolinecolor": "white",
           "zerolinewidth": 2
          }
         }
        },
        "xaxis": {
         "anchor": "y",
         "domain": [
          0,
          1
         ],
         "title": {
          "text": "value"
         }
        },
        "yaxis": {
         "anchor": "x",
         "domain": [
          0,
          1
         ],
         "title": {
          "text": "index"
         }
        }
       }
      }
     },
     "metadata": {},
     "output_type": "display_data"
    }
   ],
   "source": [
    "import plotly.express as px\n",
    "\n",
    "column_names = [col.split('__')[1] for col in preprocessor.get_feature_names_out()]\n",
    "print(\"Names of columns corresponding to each coefficient: \", column_names)\n",
    "coefs = pd.DataFrame(index = column_names, data = classifier.coef_[0].transpose(), columns=[\"coefficients\"])\n",
    "coefs\n",
    "feature_importance = abs(coefs).sort_values(by = 'coefficients')\n",
    "feature_importance\n",
    "fig = px.bar(feature_importance, orientation = 'h')\n",
    "fig.update_layout(showlegend = False, \n",
    "                  margin = {'l': 120} # to avoid cropping of column names\n",
    "                 )\n",
    "fig.show()"
   ]
  },
  {
   "cell_type": "code",
   "execution_count": 36,
   "metadata": {},
   "outputs": [
    {
     "name": "stdout",
     "output_type": "stream",
     "text": [
      "f1-score:\n",
      "\n",
      "* f1-score on training set:  0.7642619981889526\n",
      "* f1-score on test set:  0.7583485124468731\n",
      "\n",
      "accuracy:\n",
      "\n",
      "* accuracy on training set :  0.9862779032073864\n",
      "* accuracy on test set :  0.986014477475578\n",
      "\n",
      "recall:\n",
      "\n",
      "* recall-score on training set:  0.6897303187142468\n",
      "* recall-score on training set:  0.6802832244008714\n",
      "\n",
      "precision:\n",
      "\n",
      "* precision-score on training set:  0.8568527918781725\n",
      "* precision-score on test set:  0.8566529492455418\n"
     ]
    }
   ],
   "source": [
    "print(\"f1-score:\")\n",
    "print()\n",
    "print(\"* f1-score on training set: \", f1_score(Y_train, Y_train_pred))\n",
    "print(\"* f1-score on test set: \", f1_score(Y_test,Y_test_pred))\n",
    "print()\n",
    "\n",
    "print(\"accuracy:\")\n",
    "print()\n",
    "print(\"* accuracy on training set : \", accuracy_score(Y_train, Y_train_pred))\n",
    "print(\"* accuracy on test set : \", accuracy_score(Y_test, Y_test_pred))\n",
    "print()\n",
    "\n",
    "print(\"recall:\")\n",
    "print()\n",
    "print(\"* recall-score on training set: \", recall_score(Y_train, Y_train_pred))\n",
    "print(\"* recall-score on training set: \", recall_score(Y_test, Y_test_pred))\n",
    "print()\n",
    "\n",
    "print(\"precision:\")\n",
    "print()\n",
    "print(\"* precision-score on training set: \", precision_score(Y_train, Y_train_pred))\n",
    "print(\"* precision-score on test set: \", precision_score(Y_test, Y_test_pred))"
   ]
  },
  {
   "cell_type": "code",
   "execution_count": 37,
   "metadata": {
    "colab": {
     "base_uri": "https://localhost:8080/",
     "height": 151
    },
    "colab_type": "code",
    "id": "KhDTCeBy__JK",
    "outputId": "72c82d66-d765-437e-e9ef-4ccc80e7183f"
   },
   "outputs": [
    {
     "name": "stdout",
     "output_type": "stream",
     "text": [
      "Confusion matrix on train set : \n",
      "[[219474    846]\n",
      " [  2278   5064]]\n",
      "\n",
      "Confusion matrix on test set : \n",
      "[[54871   209]\n",
      " [  587  1249]]\n",
      "\n"
     ]
    }
   ],
   "source": [
    "# You can also check more performance metrics to better understand what your model is doing\n",
    "print(\"Confusion matrix on train set : \")\n",
    "print(confusion_matrix(Y_train, Y_train_pred))\n",
    "print()\n",
    "print(\"Confusion matrix on test set : \")\n",
    "print(confusion_matrix(Y_test, Y_test_pred))\n",
    "print()"
   ]
  },
  {
   "cell_type": "code",
   "execution_count": 38,
   "metadata": {},
   "outputs": [
    {
     "data": {
      "image/png": "[encoded data removed]",
      "text/plain": [
       "<Figure size 640x480 with 1 Axes>"
      ]
     },
     "metadata": {},
     "output_type": "display_data"
    },
    {
     "data": {
      "image/png": "[encoded data removed]",
      "text/plain": [
       "<Figure size 640x480 with 1 Axes>"
      ]
     },
     "metadata": {},
     "output_type": "display_data"
    }
   ],
   "source": [
    "_, ax = plt.subplots()\n",
    "ax.set(\n",
    "    title=\"ROC Curve on Train set\"\n",
    ")  # Set a title that we will add into ConfusionMatrixDisplay\n",
    "RocCurveDisplay.from_estimator(\n",
    "    classifier, X_train, Y_train, ax=ax\n",
    ")  # RocCurveDisplay from sklearn\n",
    "plt.show()\n",
    "\n",
    "_, ax = plt.subplots()  # Get subplot from matplotlib\n",
    "ax.set(\n",
    "    title=\"ROC Curve on Test set\"\n",
    ")  # Set a title that we will add into ConfusionMatrixDisplay\n",
    "RocCurveDisplay.from_estimator(\n",
    "    classifier, X_test, Y_test, ax=ax\n",
    ")  # RocCurveDisplay from sklearn\n",
    "plt.show()"
   ]
  },
  {
   "cell_type": "markdown",
   "metadata": {},
   "source": [
    "**We improved our f1-score at 76% on the test and train sets. 🚀🚀**"
   ]
  },
  {
   "cell_type": "markdown",
   "metadata": {
    "colab_type": "text",
    "id": "6tVVDRABv91O"
   },
   "source": [
    "# Train best classifier on all data and use it to make predictions on X_without_labels\n",
    "**Before making predictions on the file conversion_data_test.csv, let's train our model on ALL the data that was in conversion_data_train.csv. Sometimes, this allows to make tiny improvements in the score because we're using more examples to train the model.**"
   ]
  },
  {
   "cell_type": "code",
   "execution_count": 39,
   "metadata": {
    "colab": {
     "base_uri": "https://localhost:8080/",
     "height": 154
    },
    "colab_type": "code",
    "id": "M14RHUadzE2p",
    "outputId": "abcfcfec-9461-4579-adbd-f23270f984eb"
   },
   "outputs": [
    {
     "data": {
      "text/html": [
       "<style>#sk-container-id-1 {\n",
       "  /* Definition of color scheme common for light and dark mode */\n",
       "  --sklearn-color-text: #000;\n",
       "  --sklearn-color-text-muted: #666;\n",
       "  --sklearn-color-line: gray;\n",
       "  /* Definition of color scheme for unfitted estimators */\n",
       "  --sklearn-color-unfitted-level-0: #fff5e6;\n",
       "  --sklearn-color-unfitted-level-1: #f6e4d2;\n",
       "  --sklearn-color-unfitted-level-2: #ffe0b3;\n",
       "  --sklearn-color-unfitted-level-3: chocolate;\n",
       "  /* Definition of color scheme for fitted estimators */\n",
       "  --sklearn-color-fitted-level-0: #f0f8ff;\n",
       "  --sklearn-color-fitted-level-1: #d4ebff;\n",
       "  --sklearn-color-fitted-level-2: #b3dbfd;\n",
       "  --sklearn-color-fitted-level-3: cornflowerblue;\n",
       "\n",
       "  /* Specific color for light theme */\n",
       "  --sklearn-color-text-on-default-background: var(--sg-text-color, var(--theme-code-foreground, var(--jp-content-font-color1, black)));\n",
       "  --sklearn-color-background: var(--sg-background-color, var(--theme-background, var(--jp-layout-color0, white)));\n",
       "  --sklearn-color-border-box: var(--sg-text-color, var(--theme-code-foreground, var(--jp-content-font-color1, black)));\n",
       "  --sklearn-color-icon: #696969;\n",
       "\n",
       "  @media (prefers-color-scheme: dark) {\n",
       "    /* Redefinition of color scheme for dark theme */\n",
       "    --sklearn-color-text-on-default-background: var(--sg-text-color, var(--theme-code-foreground, var(--jp-content-font-color1, white)));\n",
       "    --sklearn-color-background: var(--sg-background-color, var(--theme-background, var(--jp-layout-color0, #111)));\n",
       "    --sklearn-color-border-box: var(--sg-text-color, var(--theme-code-foreground, var(--jp-content-font-color1, white)));\n",
       "    --sklearn-color-icon: #878787;\n",
       "  }\n",
       "}\n",
       "\n",
       "#sk-container-id-1 {\n",
       "  color: var(--sklearn-color-text);\n",
       "}\n",
       "\n",
       "#sk-container-id-1 pre {\n",
       "  padding: 0;\n",
       "}\n",
       "\n",
       "#sk-container-id-1 input.sk-hidden--visually {\n",
       "  border: 0;\n",
       "  clip: rect(1px 1px 1px 1px);\n",
       "  clip: rect(1px, 1px, 1px, 1px);\n",
       "  height: 1px;\n",
       "  margin: -1px;\n",
       "  overflow: hidden;\n",
       "  padding: 0;\n",
       "  position: absolute;\n",
       "  width: 1px;\n",
       "}\n",
       "\n",
       "#sk-container-id-1 div.sk-dashed-wrapped {\n",
       "  border: 1px dashed var(--sklearn-color-line);\n",
       "  margin: 0 0.4em 0.5em 0.4em;\n",
       "  box-sizing: border-box;\n",
       "  padding-bottom: 0.4em;\n",
       "  background-color: var(--sklearn-color-background);\n",
       "}\n",
       "\n",
       "#sk-container-id-1 div.sk-container {\n",
       "  /* jupyter's `normalize.less` sets `[hidden] { display: none; }`\n",
       "     but bootstrap.min.css set `[hidden] { display: none !important; }`\n",
       "     so we also need the `!important` here to be able to override the\n",
       "     default hidden behavior on the sphinx rendered scikit-learn.org.\n",
       "     See: https://github.com/scikit-learn/scikit-learn/issues/21755 */\n",
       "  display: inline-block !important;\n",
       "  position: relative;\n",
       "}\n",
       "\n",
       "#sk-container-id-1 div.sk-text-repr-fallback {\n",
       "  display: none;\n",
       "}\n",
       "\n",
       "div.sk-parallel-item,\n",
       "div.sk-serial,\n",
       "div.sk-item {\n",
       "  /* draw centered vertical line to link estimators */\n",
       "  background-image: linear-gradient(var(--sklearn-color-text-on-default-background), var(--sklearn-color-text-on-default-background));\n",
       "  background-size: 2px 100%;\n",
       "  background-repeat: no-repeat;\n",
       "  background-position: center center;\n",
       "}\n",
       "\n",
       "/* Parallel-specific style estimator block */\n",
       "\n",
       "#sk-container-id-1 div.sk-parallel-item::after {\n",
       "  content: \"\";\n",
       "  width: 100%;\n",
       "  border-bottom: 2px solid var(--sklearn-color-text-on-default-background);\n",
       "  flex-grow: 1;\n",
       "}\n",
       "\n",
       "#sk-container-id-1 div.sk-parallel {\n",
       "  display: flex;\n",
       "  align-items: stretch;\n",
       "  justify-content: center;\n",
       "  background-color: var(--sklearn-color-background);\n",
       "  position: relative;\n",
       "}\n",
       "\n",
       "#sk-container-id-1 div.sk-parallel-item {\n",
       "  display: flex;\n",
       "  flex-direction: column;\n",
       "}\n",
       "\n",
       "#sk-container-id-1 div.sk-parallel-item:first-child::after {\n",
       "  align-self: flex-end;\n",
       "  width: 50%;\n",
       "}\n",
       "\n",
       "#sk-container-id-1 div.sk-parallel-item:last-child::after {\n",
       "  align-self: flex-start;\n",
       "  width: 50%;\n",
       "}\n",
       "\n",
       "#sk-container-id-1 div.sk-parallel-item:only-child::after {\n",
       "  width: 0;\n",
       "}\n",
       "\n",
       "/* Serial-specific style estimator block */\n",
       "\n",
       "#sk-container-id-1 div.sk-serial {\n",
       "  display: flex;\n",
       "  flex-direction: column;\n",
       "  align-items: center;\n",
       "  background-color: var(--sklearn-color-background);\n",
       "  padding-right: 1em;\n",
       "  padding-left: 1em;\n",
       "}\n",
       "\n",
       "\n",
       "/* Toggleable style: style used for estimator/Pipeline/ColumnTransformer box that is\n",
       "clickable and can be expanded/collapsed.\n",
       "- Pipeline and ColumnTransformer use this feature and define the default style\n",
       "- Estimators will overwrite some part of the style using the `sk-estimator` class\n",
       "*/\n",
       "\n",
       "/* Pipeline and ColumnTransformer style (default) */\n",
       "\n",
       "#sk-container-id-1 div.sk-toggleable {\n",
       "  /* Default theme specific background. It is overwritten whether we have a\n",
       "  specific estimator or a Pipeline/ColumnTransformer */\n",
       "  background-color: var(--sklearn-color-background);\n",
       "}\n",
       "\n",
       "/* Toggleable label */\n",
       "#sk-container-id-1 label.sk-toggleable__label {\n",
       "  cursor: pointer;\n",
       "  display: flex;\n",
       "  width: 100%;\n",
       "  margin-bottom: 0;\n",
       "  padding: 0.5em;\n",
       "  box-sizing: border-box;\n",
       "  text-align: center;\n",
       "  align-items: start;\n",
       "  justify-content: space-between;\n",
       "  gap: 0.5em;\n",
       "}\n",
       "\n",
       "#sk-container-id-1 label.sk-toggleable__label .caption {\n",
       "  font-size: 0.6rem;\n",
       "  font-weight: lighter;\n",
       "  color: var(--sklearn-color-text-muted);\n",
       "}\n",
       "\n",
       "#sk-container-id-1 label.sk-toggleable__label-arrow:before {\n",
       "  /* Arrow on the left of the label */\n",
       "  content: \"▸\";\n",
       "  float: left;\n",
       "  margin-right: 0.25em;\n",
       "  color: var(--sklearn-color-icon);\n",
       "}\n",
       "\n",
       "#sk-container-id-1 label.sk-toggleable__label-arrow:hover:before {\n",
       "  color: var(--sklearn-color-text);\n",
       "}\n",
       "\n",
       "/* Toggleable content - dropdown */\n",
       "\n",
       "#sk-container-id-1 div.sk-toggleable__content {\n",
       "  max-height: 0;\n",
       "  max-width: 0;\n",
       "  overflow: hidden;\n",
       "  text-align: left;\n",
       "  /* unfitted */\n",
       "  background-color: var(--sklearn-color-unfitted-level-0);\n",
       "}\n",
       "\n",
       "#sk-container-id-1 div.sk-toggleable__content.fitted {\n",
       "  /* fitted */\n",
       "  background-color: var(--sklearn-color-fitted-level-0);\n",
       "}\n",
       "\n",
       "#sk-container-id-1 div.sk-toggleable__content pre {\n",
       "  margin: 0.2em;\n",
       "  border-radius: 0.25em;\n",
       "  color: var(--sklearn-color-text);\n",
       "  /* unfitted */\n",
       "  background-color: var(--sklearn-color-unfitted-level-0);\n",
       "}\n",
       "\n",
       "#sk-container-id-1 div.sk-toggleable__content.fitted pre {\n",
       "  /* unfitted */\n",
       "  background-color: var(--sklearn-color-fitted-level-0);\n",
       "}\n",
       "\n",
       "#sk-container-id-1 input.sk-toggleable__control:checked~div.sk-toggleable__content {\n",
       "  /* Expand drop-down */\n",
       "  max-height: 200px;\n",
       "  max-width: 100%;\n",
       "  overflow: auto;\n",
       "}\n",
       "\n",
       "#sk-container-id-1 input.sk-toggleable__control:checked~label.sk-toggleable__label-arrow:before {\n",
       "  content: \"▾\";\n",
       "}\n",
       "\n",
       "/* Pipeline/ColumnTransformer-specific style */\n",
       "\n",
       "#sk-container-id-1 div.sk-label input.sk-toggleable__control:checked~label.sk-toggleable__label {\n",
       "  color: var(--sklearn-color-text);\n",
       "  background-color: var(--sklearn-color-unfitted-level-2);\n",
       "}\n",
       "\n",
       "#sk-container-id-1 div.sk-label.fitted input.sk-toggleable__control:checked~label.sk-toggleable__label {\n",
       "  background-color: var(--sklearn-color-fitted-level-2);\n",
       "}\n",
       "\n",
       "/* Estimator-specific style */\n",
       "\n",
       "/* Colorize estimator box */\n",
       "#sk-container-id-1 div.sk-estimator input.sk-toggleable__control:checked~label.sk-toggleable__label {\n",
       "  /* unfitted */\n",
       "  background-color: var(--sklearn-color-unfitted-level-2);\n",
       "}\n",
       "\n",
       "#sk-container-id-1 div.sk-estimator.fitted input.sk-toggleable__control:checked~label.sk-toggleable__label {\n",
       "  /* fitted */\n",
       "  background-color: var(--sklearn-color-fitted-level-2);\n",
       "}\n",
       "\n",
       "#sk-container-id-1 div.sk-label label.sk-toggleable__label,\n",
       "#sk-container-id-1 div.sk-label label {\n",
       "  /* The background is the default theme color */\n",
       "  color: var(--sklearn-color-text-on-default-background);\n",
       "}\n",
       "\n",
       "/* On hover, darken the color of the background */\n",
       "#sk-container-id-1 div.sk-label:hover label.sk-toggleable__label {\n",
       "  color: var(--sklearn-color-text);\n",
       "  background-color: var(--sklearn-color-unfitted-level-2);\n",
       "}\n",
       "\n",
       "/* Label box, darken color on hover, fitted */\n",
       "#sk-container-id-1 div.sk-label.fitted:hover label.sk-toggleable__label.fitted {\n",
       "  color: var(--sklearn-color-text);\n",
       "  background-color: var(--sklearn-color-fitted-level-2);\n",
       "}\n",
       "\n",
       "/* Estimator label */\n",
       "\n",
       "#sk-container-id-1 div.sk-label label {\n",
       "  font-family: monospace;\n",
       "  font-weight: bold;\n",
       "  display: inline-block;\n",
       "  line-height: 1.2em;\n",
       "}\n",
       "\n",
       "#sk-container-id-1 div.sk-label-container {\n",
       "  text-align: center;\n",
       "}\n",
       "\n",
       "/* Estimator-specific */\n",
       "#sk-container-id-1 div.sk-estimator {\n",
       "  font-family: monospace;\n",
       "  border: 1px dotted var(--sklearn-color-border-box);\n",
       "  border-radius: 0.25em;\n",
       "  box-sizing: border-box;\n",
       "  margin-bottom: 0.5em;\n",
       "  /* unfitted */\n",
       "  background-color: var(--sklearn-color-unfitted-level-0);\n",
       "}\n",
       "\n",
       "#sk-container-id-1 div.sk-estimator.fitted {\n",
       "  /* fitted */\n",
       "  background-color: var(--sklearn-color-fitted-level-0);\n",
       "}\n",
       "\n",
       "/* on hover */\n",
       "#sk-container-id-1 div.sk-estimator:hover {\n",
       "  /* unfitted */\n",
       "  background-color: var(--sklearn-color-unfitted-level-2);\n",
       "}\n",
       "\n",
       "#sk-container-id-1 div.sk-estimator.fitted:hover {\n",
       "  /* fitted */\n",
       "  background-color: var(--sklearn-color-fitted-level-2);\n",
       "}\n",
       "\n",
       "/* Specification for estimator info (e.g. \"i\" and \"?\") */\n",
       "\n",
       "/* Common style for \"i\" and \"?\" */\n",
       "\n",
       ".sk-estimator-doc-link,\n",
       "a:link.sk-estimator-doc-link,\n",
       "a:visited.sk-estimator-doc-link {\n",
       "  float: right;\n",
       "  font-size: smaller;\n",
       "  line-height: 1em;\n",
       "  font-family: monospace;\n",
       "  background-color: var(--sklearn-color-background);\n",
       "  border-radius: 1em;\n",
       "  height: 1em;\n",
       "  width: 1em;\n",
       "  text-decoration: none !important;\n",
       "  margin-left: 0.5em;\n",
       "  text-align: center;\n",
       "  /* unfitted */\n",
       "  border: var(--sklearn-color-unfitted-level-1) 1pt solid;\n",
       "  color: var(--sklearn-color-unfitted-level-1);\n",
       "}\n",
       "\n",
       ".sk-estimator-doc-link.fitted,\n",
       "a:link.sk-estimator-doc-link.fitted,\n",
       "a:visited.sk-estimator-doc-link.fitted {\n",
       "  /* fitted */\n",
       "  border: var(--sklearn-color-fitted-level-1) 1pt solid;\n",
       "  color: var(--sklearn-color-fitted-level-1);\n",
       "}\n",
       "\n",
       "/* On hover */\n",
       "div.sk-estimator:hover .sk-estimator-doc-link:hover,\n",
       ".sk-estimator-doc-link:hover,\n",
       "div.sk-label-container:hover .sk-estimator-doc-link:hover,\n",
       ".sk-estimator-doc-link:hover {\n",
       "  /* unfitted */\n",
       "  background-color: var(--sklearn-color-unfitted-level-3);\n",
       "  color: var(--sklearn-color-background);\n",
       "  text-decoration: none;\n",
       "}\n",
       "\n",
       "div.sk-estimator.fitted:hover .sk-estimator-doc-link.fitted:hover,\n",
       ".sk-estimator-doc-link.fitted:hover,\n",
       "div.sk-label-container:hover .sk-estimator-doc-link.fitted:hover,\n",
       ".sk-estimator-doc-link.fitted:hover {\n",
       "  /* fitted */\n",
       "  background-color: var(--sklearn-color-fitted-level-3);\n",
       "  color: var(--sklearn-color-background);\n",
       "  text-decoration: none;\n",
       "}\n",
       "\n",
       "/* Span, style for the box shown on hovering the info icon */\n",
       ".sk-estimator-doc-link span {\n",
       "  display: none;\n",
       "  z-index: 9999;\n",
       "  position: relative;\n",
       "  font-weight: normal;\n",
       "  right: .2ex;\n",
       "  padding: .5ex;\n",
       "  margin: .5ex;\n",
       "  width: min-content;\n",
       "  min-width: 20ex;\n",
       "  max-width: 50ex;\n",
       "  color: var(--sklearn-color-text);\n",
       "  box-shadow: 2pt 2pt 4pt #999;\n",
       "  /* unfitted */\n",
       "  background: var(--sklearn-color-unfitted-level-0);\n",
       "  border: .5pt solid var(--sklearn-color-unfitted-level-3);\n",
       "}\n",
       "\n",
       ".sk-estimator-doc-link.fitted span {\n",
       "  /* fitted */\n",
       "  background: var(--sklearn-color-fitted-level-0);\n",
       "  border: var(--sklearn-color-fitted-level-3);\n",
       "}\n",
       "\n",
       ".sk-estimator-doc-link:hover span {\n",
       "  display: block;\n",
       "}\n",
       "\n",
       "/* \"?\"-specific style due to the `<a>` HTML tag */\n",
       "\n",
       "#sk-container-id-1 a.estimator_doc_link {\n",
       "  float: right;\n",
       "  font-size: 1rem;\n",
       "  line-height: 1em;\n",
       "  font-family: monospace;\n",
       "  background-color: var(--sklearn-color-background);\n",
       "  border-radius: 1rem;\n",
       "  height: 1rem;\n",
       "  width: 1rem;\n",
       "  text-decoration: none;\n",
       "  /* unfitted */\n",
       "  color: var(--sklearn-color-unfitted-level-1);\n",
       "  border: var(--sklearn-color-unfitted-level-1) 1pt solid;\n",
       "}\n",
       "\n",
       "#sk-container-id-1 a.estimator_doc_link.fitted {\n",
       "  /* fitted */\n",
       "  border: var(--sklearn-color-fitted-level-1) 1pt solid;\n",
       "  color: var(--sklearn-color-fitted-level-1);\n",
       "}\n",
       "\n",
       "/* On hover */\n",
       "#sk-container-id-1 a.estimator_doc_link:hover {\n",
       "  /* unfitted */\n",
       "  background-color: var(--sklearn-color-unfitted-level-3);\n",
       "  color: var(--sklearn-color-background);\n",
       "  text-decoration: none;\n",
       "}\n",
       "\n",
       "#sk-container-id-1 a.estimator_doc_link.fitted:hover {\n",
       "  /* fitted */\n",
       "  background-color: var(--sklearn-color-fitted-level-3);\n",
       "}\n",
       "</style><div id=\"sk-container-id-1\" class=\"sk-top-container\"><div class=\"sk-text-repr-fallback\"><pre>LogisticRegression(C=0.8442234478755427, max_iter=274, penalty=&#x27;l1&#x27;,\n",
       "                   random_state=42, solver=&#x27;liblinear&#x27;)</pre><b>In a Jupyter environment, please rerun this cell to show the HTML representation or trust the notebook. <br />On GitHub, the HTML representation is unable to render, please try loading this page with nbviewer.org.</b></div><div class=\"sk-container\" hidden><div class=\"sk-item\"><div class=\"sk-estimator fitted sk-toggleable\"><input class=\"sk-toggleable__control sk-hidden--visually\" id=\"sk-estimator-id-1\" type=\"checkbox\" checked><label for=\"sk-estimator-id-1\" class=\"sk-toggleable__label fitted sk-toggleable__label-arrow\"><div><div>LogisticRegression</div></div><div><a class=\"sk-estimator-doc-link fitted\" rel=\"noreferrer\" target=\"_blank\" href=\"https://scikit-learn.org/1.6/modules/generated/sklearn.linear_model.LogisticRegression.html\">?<span>Documentation for LogisticRegression</span></a><span class=\"sk-estimator-doc-link fitted\">i<span>Fitted</span></span></div></label><div class=\"sk-toggleable__content fitted\"><pre>LogisticRegression(C=0.8442234478755427, max_iter=274, penalty=&#x27;l1&#x27;,\n",
       "                   random_state=42, solver=&#x27;liblinear&#x27;)</pre></div> </div></div></div></div>"
      ],
      "text/plain": [
       "LogisticRegression(C=0.8442234478755427, max_iter=274, penalty='l1',\n",
       "                   random_state=42, solver='liblinear')"
      ]
     },
     "execution_count": 39,
     "metadata": {},
     "output_type": "execute_result"
    }
   ],
   "source": [
    "# Concatenate our train and test set to train your best classifier on all data with labels\n",
    "X = np.append(X_train,X_test, axis=0)\n",
    "Y = np.append(Y_train,Y_test)\n",
    "\n",
    "classifier.fit(X,Y)"
   ]
  },
  {
   "cell_type": "code",
   "execution_count": 40,
   "metadata": {
    "colab": {
     "base_uri": "https://localhost:8080/",
     "height": 151
    },
    "colab_type": "code",
    "id": "Tr4CEaPzzbP-",
    "outputId": "f0d1c8ed-be4b-4974-d7b9-f23a49344d9d"
   },
   "outputs": [
    {
     "name": "stdout",
     "output_type": "stream",
     "text": [
      "Prediction set (without labels) : (31620, 5)\n"
     ]
    }
   ],
   "source": [
    "# Read data without labels\n",
    "data_without_labels = pd.read_csv('../data/raw/conversion_data_test.csv')\n",
    "print('Prediction set (without labels) :', data_without_labels.shape)"
   ]
  },
  {
   "cell_type": "code",
   "execution_count": 41,
   "metadata": {
    "colab": {
     "base_uri": "https://localhost:8080/",
     "height": 134
    },
    "colab_type": "code",
    "id": "LoUISfsT0HMR",
    "outputId": "e42dc389-5e77-4e13-ccbc-1fef4aa2c0ca"
   },
   "outputs": [
    {
     "name": "stdout",
     "output_type": "stream",
     "text": [
      "Encoding categorical features and standardizing numerical features...\n",
      "...Done\n",
      "[[-0.30941143 -1.47744289  3.32674998  0.          1.          0.\n",
      "   0.          1.        ]\n",
      " [-1.03585553  0.67684511  0.03723927  0.          1.          0.\n",
      "   1.          0.        ]\n",
      " [ 0.17488463  0.67684511 -1.15894645  0.          0.          0.\n",
      "   0.          1.        ]\n",
      " [ 0.17488463  0.67684511  0.3362857   0.          0.          1.\n",
      "   0.          0.        ]\n",
      " [-0.67263348 -1.47744289 -0.56085359  0.          0.          0.\n",
      "   0.          1.        ]]\n"
     ]
    }
   ],
   "source": [
    "# WARNING : PUT HERE THE SAME PREPROCESSING AS FOR YOUR TEST SET\n",
    "# CHECK YOU ARE USING X_without_labels\n",
    "print(\"Encoding categorical features and standardizing numerical features...\")\n",
    "\n",
    "X_without_labels = preprocessor.transform(data_without_labels)\n",
    "print(\"...Done\")\n",
    "print(X_without_labels[0:5,:])"
   ]
  },
  {
   "cell_type": "code",
   "execution_count": 42,
   "metadata": {
    "colab": {},
    "colab_type": "code",
    "id": "7DuWSEHuwEQJ"
   },
   "outputs": [],
   "source": [
    "# Make predictions and dump to file\n",
    "# WARNING : MAKE SURE THE FILE IS A CSV WITH ONE COLUMN NAMED 'converted' AND NO INDEX !\n",
    "# WARNING : FILE NAME MUST HAVE FORMAT 'conversion_data_test_predictions_[name].csv'\n",
    "# where [name] is the name of your team/model separated by a '-'\n",
    "# For example : [name] = AURELIE-model1\n",
    "data = {\n",
    "    'converted': classifier.predict(X_without_labels)\n",
    "}\n",
    "\n",
    "Y_predictions = pd.DataFrame(columns=['converted'],data=data)\n",
    "Y_predictions.to_csv('../data/processed/conversion_data_test_predictions_Nicolas-Optuna-LogReg.csv', index=False)\n"
   ]
  }
 ],
 "metadata": {
  "colab": {
   "collapsed_sections": [],
   "name": "Projets_template.ipynb",
   "provenance": []
  },
  "kernelspec": {
   "display_name": "conversion-rate-challenge",
   "language": "python",
   "name": "python3"
  },
  "language_info": {
   "codemirror_mode": {
    "name": "ipython",
    "version": 3
   },
   "file_extension": ".py",
   "mimetype": "text/x-python",
   "name": "python",
   "nbconvert_exporter": "python",
   "pygments_lexer": "ipython3",
   "version": "3.13.3"
  }
 },
 "nbformat": 4,
 "nbformat_minor": 4
}
