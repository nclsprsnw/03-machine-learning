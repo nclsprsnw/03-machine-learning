{
 "cells": [
  {
   "cell_type": "markdown",
   "metadata": {
    "colab_type": "text",
    "id": "0eiKSLYG8XvO"
   },
   "source": [
    "# Model: Logistic Regression with all the columns\n",
    "\n",
    "In this notebook, all the training/predictions steps are implemented for a very basic model (logistic regression with all the features). \n",
    "The goal is to get the best f1-score ! May the force be with you 🧨🧨  "
   ]
  },
  {
   "cell_type": "markdown",
   "metadata": {},
   "source": [
    "# Import libraries"
   ]
  },
  {
   "cell_type": "code",
   "execution_count": 1,
   "metadata": {
    "colab": {},
    "colab_type": "code",
    "id": "AGhdl7Bt2xZd"
   },
   "outputs": [
    {
     "name": "stderr",
     "output_type": "stream",
     "text": [
      "/home/nick/.virtualenvs/conversion-rate-challenge/lib/python3.13/site-packages/tqdm/auto.py:21: TqdmWarning: IProgress not found. Please update jupyter and ipywidgets. See https://ipywidgets.readthedocs.io/en/stable/user_install.html\n",
      "  from .autonotebook import tqdm as notebook_tqdm\n"
     ]
    }
   ],
   "source": [
    "import pandas as pd\n",
    "import numpy as np\n",
    "import optuna\n",
    "\n",
    "from sklearn.model_selection import train_test_split, StratifiedKFold, cross_val_score\n",
    "from sklearn.preprocessing import OneHotEncoder, StandardScaler\n",
    "from sklearn.compose import ColumnTransformer\n",
    "from sklearn.linear_model import LogisticRegression\n",
    "from sklearn.metrics import f1_score, confusion_matrix, accuracy_score, recall_score,precision_score, RocCurveDisplay\n",
    "from sklearn.pipeline import Pipeline\n",
    "\n",
    "import matplotlib.pyplot as plt\n",
    "\n",
    "from IPython.display import display"
   ]
  },
  {
   "cell_type": "markdown",
   "metadata": {
    "colab_type": "text",
    "id": "LHgro65rxKF7"
   },
   "source": [
    "# Read file with labels"
   ]
  },
  {
   "cell_type": "code",
   "execution_count": 2,
   "metadata": {
    "colab": {
     "base_uri": "https://localhost:8080/",
     "height": 34
    },
    "colab_type": "code",
    "id": "W1AU8AH8u0qd",
    "outputId": "00698a97-027b-493b-a2e4-33fdcc295abb"
   },
   "outputs": [
    {
     "name": "stdout",
     "output_type": "stream",
     "text": [
      "Set with labels (our train+test) : (284578, 9)\n"
     ]
    }
   ],
   "source": [
    "data = pd.read_csv('../data/processed/conversion_data_train_EDA_without_outliers_fe_output.csv')\n",
    "print('Set with labels (our train+test) :', data.shape)"
   ]
  },
  {
   "cell_type": "code",
   "execution_count": 3,
   "metadata": {},
   "outputs": [
    {
     "data": {
      "text/html": [
       "<div>\n",
       "<style scoped>\n",
       "    .dataframe tbody tr th:only-of-type {\n",
       "        vertical-align: middle;\n",
       "    }\n",
       "\n",
       "    .dataframe tbody tr th {\n",
       "        vertical-align: top;\n",
       "    }\n",
       "\n",
       "    .dataframe thead th {\n",
       "        text-align: right;\n",
       "    }\n",
       "</style>\n",
       "<table border=\"1\" class=\"dataframe\">\n",
       "  <thead>\n",
       "    <tr style=\"text-align: right;\">\n",
       "      <th></th>\n",
       "      <th>country</th>\n",
       "      <th>age</th>\n",
       "      <th>new_user</th>\n",
       "      <th>source</th>\n",
       "      <th>total_pages_visited</th>\n",
       "      <th>converted</th>\n",
       "      <th>total_pages_visited_x2</th>\n",
       "      <th>total_pages_visited_age</th>\n",
       "      <th>total_pages_visited_age_x2</th>\n",
       "    </tr>\n",
       "  </thead>\n",
       "  <tbody>\n",
       "    <tr>\n",
       "      <th>0</th>\n",
       "      <td>China</td>\n",
       "      <td>22</td>\n",
       "      <td>1</td>\n",
       "      <td>Direct</td>\n",
       "      <td>2</td>\n",
       "      <td>0</td>\n",
       "      <td>4</td>\n",
       "      <td>44</td>\n",
       "      <td>1936</td>\n",
       "    </tr>\n",
       "    <tr>\n",
       "      <th>1</th>\n",
       "      <td>UK</td>\n",
       "      <td>21</td>\n",
       "      <td>1</td>\n",
       "      <td>Ads</td>\n",
       "      <td>3</td>\n",
       "      <td>0</td>\n",
       "      <td>9</td>\n",
       "      <td>63</td>\n",
       "      <td>3969</td>\n",
       "    </tr>\n",
       "    <tr>\n",
       "      <th>2</th>\n",
       "      <td>Germany</td>\n",
       "      <td>20</td>\n",
       "      <td>0</td>\n",
       "      <td>Seo</td>\n",
       "      <td>14</td>\n",
       "      <td>1</td>\n",
       "      <td>196</td>\n",
       "      <td>280</td>\n",
       "      <td>78400</td>\n",
       "    </tr>\n",
       "    <tr>\n",
       "      <th>3</th>\n",
       "      <td>US</td>\n",
       "      <td>23</td>\n",
       "      <td>1</td>\n",
       "      <td>Seo</td>\n",
       "      <td>3</td>\n",
       "      <td>0</td>\n",
       "      <td>9</td>\n",
       "      <td>69</td>\n",
       "      <td>4761</td>\n",
       "    </tr>\n",
       "    <tr>\n",
       "      <th>4</th>\n",
       "      <td>US</td>\n",
       "      <td>28</td>\n",
       "      <td>1</td>\n",
       "      <td>Direct</td>\n",
       "      <td>3</td>\n",
       "      <td>0</td>\n",
       "      <td>9</td>\n",
       "      <td>84</td>\n",
       "      <td>7056</td>\n",
       "    </tr>\n",
       "  </tbody>\n",
       "</table>\n",
       "</div>"
      ],
      "text/plain": [
       "   country  age  new_user  source  total_pages_visited  converted  \\\n",
       "0    China   22         1  Direct                    2          0   \n",
       "1       UK   21         1     Ads                    3          0   \n",
       "2  Germany   20         0     Seo                   14          1   \n",
       "3       US   23         1     Seo                    3          0   \n",
       "4       US   28         1  Direct                    3          0   \n",
       "\n",
       "   total_pages_visited_x2  total_pages_visited_age  total_pages_visited_age_x2  \n",
       "0                       4                       44                        1936  \n",
       "1                       9                       63                        3969  \n",
       "2                     196                      280                       78400  \n",
       "3                       9                       69                        4761  \n",
       "4                       9                       84                        7056  "
      ]
     },
     "execution_count": 3,
     "metadata": {},
     "output_type": "execute_result"
    }
   ],
   "source": [
    "data.head()"
   ]
  },
  {
   "cell_type": "markdown",
   "metadata": {
    "colab_type": "text",
    "id": "70MwsoCS3QD5"
   },
   "source": [
    "# Make your model"
   ]
  },
  {
   "cell_type": "markdown",
   "metadata": {
    "colab_type": "text",
    "id": "dPh1qPTf3wZU"
   },
   "source": [
    "## Choose variables to use in the model, and create train and test sets\n",
    "**From the EDA, we know that the most useful feature is total_pages_visited. Let's create a baseline model by using at first only this feature : in the next cells, we'll make preprocessings and train a simple (univariate) logistic regression.**"
   ]
  },
  {
   "cell_type": "code",
   "execution_count": 4,
   "metadata": {
    "colab": {
     "base_uri": "https://localhost:8080/",
     "height": 50
    },
    "colab_type": "code",
    "id": "SV5E9KMs4xcq",
    "outputId": "9d1ed76e-e82e-45e7-f3e5-6d47962caa5a"
   },
   "outputs": [
    {
     "name": "stdout",
     "output_type": "stream",
     "text": [
      "Explanatory variables :  Index(['country', 'age', 'new_user', 'source', 'total_pages_visited',\n",
      "       'total_pages_visited_x2', 'total_pages_visited_age',\n",
      "       'total_pages_visited_age_x2'],\n",
      "      dtype='object')\n",
      "\n"
     ]
    }
   ],
   "source": [
    "target_variable = 'converted'\n",
    "X = data.drop(columns=[target_variable])\n",
    "Y = data.loc[:, target_variable]\n",
    "print('Explanatory variables : ', X.columns)\n",
    "print()"
   ]
  },
  {
   "cell_type": "code",
   "execution_count": 5,
   "metadata": {
    "colab": {
     "base_uri": "https://localhost:8080/",
     "height": 67
    },
    "colab_type": "code",
    "id": "W8K5DQEvvQgl",
    "outputId": "d280ebc9-4d4b-4723-b9fe-32513f898abc"
   },
   "outputs": [
    {
     "name": "stdout",
     "output_type": "stream",
     "text": [
      "Dividing into train and test sets...\n",
      "...Done.\n",
      "\n"
     ]
    }
   ],
   "source": [
    "# Divide dataset Train set & Test set \n",
    "print(\"Dividing into train and test sets...\")\n",
    "X_train, X_test, Y_train, Y_test = train_test_split(X, Y, test_size=0.2, random_state=925662591, stratify=Y)\n",
    "print(\"...Done.\")\n",
    "print()"
   ]
  },
  {
   "cell_type": "markdown",
   "metadata": {
    "colab_type": "text",
    "id": "7b_aU7ij7K3Q"
   },
   "source": [
    "## Training pipeline"
   ]
  },
  {
   "cell_type": "code",
   "execution_count": 6,
   "metadata": {},
   "outputs": [
    {
     "name": "stdout",
     "output_type": "stream",
     "text": [
      "Encoding categorical features and standardizing numerical features...\n"
     ]
    },
    {
     "data": {
      "text/html": [
       "<div>\n",
       "<style scoped>\n",
       "    .dataframe tbody tr th:only-of-type {\n",
       "        vertical-align: middle;\n",
       "    }\n",
       "\n",
       "    .dataframe tbody tr th {\n",
       "        vertical-align: top;\n",
       "    }\n",
       "\n",
       "    .dataframe thead th {\n",
       "        text-align: right;\n",
       "    }\n",
       "</style>\n",
       "<table border=\"1\" class=\"dataframe\">\n",
       "  <thead>\n",
       "    <tr style=\"text-align: right;\">\n",
       "      <th></th>\n",
       "      <th>age</th>\n",
       "      <th>new_user</th>\n",
       "      <th>total_pages_visited</th>\n",
       "      <th>total_pages_visited_x2</th>\n",
       "      <th>total_pages_visited_age</th>\n",
       "      <th>total_pages_visited_age_x2</th>\n",
       "    </tr>\n",
       "  </thead>\n",
       "  <tbody>\n",
       "    <tr>\n",
       "      <th>0</th>\n",
       "      <td>22</td>\n",
       "      <td>1</td>\n",
       "      <td>2</td>\n",
       "      <td>4</td>\n",
       "      <td>44</td>\n",
       "      <td>1936</td>\n",
       "    </tr>\n",
       "    <tr>\n",
       "      <th>1</th>\n",
       "      <td>21</td>\n",
       "      <td>1</td>\n",
       "      <td>3</td>\n",
       "      <td>9</td>\n",
       "      <td>63</td>\n",
       "      <td>3969</td>\n",
       "    </tr>\n",
       "    <tr>\n",
       "      <th>2</th>\n",
       "      <td>20</td>\n",
       "      <td>0</td>\n",
       "      <td>14</td>\n",
       "      <td>196</td>\n",
       "      <td>280</td>\n",
       "      <td>78400</td>\n",
       "    </tr>\n",
       "    <tr>\n",
       "      <th>3</th>\n",
       "      <td>23</td>\n",
       "      <td>1</td>\n",
       "      <td>3</td>\n",
       "      <td>9</td>\n",
       "      <td>69</td>\n",
       "      <td>4761</td>\n",
       "    </tr>\n",
       "    <tr>\n",
       "      <th>4</th>\n",
       "      <td>28</td>\n",
       "      <td>1</td>\n",
       "      <td>3</td>\n",
       "      <td>9</td>\n",
       "      <td>84</td>\n",
       "      <td>7056</td>\n",
       "    </tr>\n",
       "    <tr>\n",
       "      <th>...</th>\n",
       "      <td>...</td>\n",
       "      <td>...</td>\n",
       "      <td>...</td>\n",
       "      <td>...</td>\n",
       "      <td>...</td>\n",
       "      <td>...</td>\n",
       "    </tr>\n",
       "    <tr>\n",
       "      <th>284573</th>\n",
       "      <td>36</td>\n",
       "      <td>1</td>\n",
       "      <td>1</td>\n",
       "      <td>1</td>\n",
       "      <td>36</td>\n",
       "      <td>1296</td>\n",
       "    </tr>\n",
       "    <tr>\n",
       "      <th>284574</th>\n",
       "      <td>31</td>\n",
       "      <td>1</td>\n",
       "      <td>2</td>\n",
       "      <td>4</td>\n",
       "      <td>62</td>\n",
       "      <td>3844</td>\n",
       "    </tr>\n",
       "    <tr>\n",
       "      <th>284575</th>\n",
       "      <td>41</td>\n",
       "      <td>1</td>\n",
       "      <td>5</td>\n",
       "      <td>25</td>\n",
       "      <td>205</td>\n",
       "      <td>42025</td>\n",
       "    </tr>\n",
       "    <tr>\n",
       "      <th>284576</th>\n",
       "      <td>31</td>\n",
       "      <td>1</td>\n",
       "      <td>4</td>\n",
       "      <td>16</td>\n",
       "      <td>124</td>\n",
       "      <td>15376</td>\n",
       "    </tr>\n",
       "    <tr>\n",
       "      <th>284577</th>\n",
       "      <td>26</td>\n",
       "      <td>0</td>\n",
       "      <td>3</td>\n",
       "      <td>9</td>\n",
       "      <td>78</td>\n",
       "      <td>6084</td>\n",
       "    </tr>\n",
       "  </tbody>\n",
       "</table>\n",
       "<p>284578 rows × 6 columns</p>\n",
       "</div>"
      ],
      "text/plain": [
       "        age  new_user  total_pages_visited  total_pages_visited_x2  \\\n",
       "0        22         1                    2                       4   \n",
       "1        21         1                    3                       9   \n",
       "2        20         0                   14                     196   \n",
       "3        23         1                    3                       9   \n",
       "4        28         1                    3                       9   \n",
       "...     ...       ...                  ...                     ...   \n",
       "284573   36         1                    1                       1   \n",
       "284574   31         1                    2                       4   \n",
       "284575   41         1                    5                      25   \n",
       "284576   31         1                    4                      16   \n",
       "284577   26         0                    3                       9   \n",
       "\n",
       "        total_pages_visited_age  total_pages_visited_age_x2  \n",
       "0                            44                        1936  \n",
       "1                            63                        3969  \n",
       "2                           280                       78400  \n",
       "3                            69                        4761  \n",
       "4                            84                        7056  \n",
       "...                         ...                         ...  \n",
       "284573                       36                        1296  \n",
       "284574                       62                        3844  \n",
       "284575                      205                       42025  \n",
       "284576                      124                       15376  \n",
       "284577                       78                        6084  \n",
       "\n",
       "[284578 rows x 6 columns]"
      ]
     },
     "metadata": {},
     "output_type": "display_data"
    },
    {
     "data": {
      "text/html": [
       "<div>\n",
       "<style scoped>\n",
       "    .dataframe tbody tr th:only-of-type {\n",
       "        vertical-align: middle;\n",
       "    }\n",
       "\n",
       "    .dataframe tbody tr th {\n",
       "        vertical-align: top;\n",
       "    }\n",
       "\n",
       "    .dataframe thead th {\n",
       "        text-align: right;\n",
       "    }\n",
       "</style>\n",
       "<table border=\"1\" class=\"dataframe\">\n",
       "  <thead>\n",
       "    <tr style=\"text-align: right;\">\n",
       "      <th></th>\n",
       "      <th>country</th>\n",
       "      <th>source</th>\n",
       "    </tr>\n",
       "  </thead>\n",
       "  <tbody>\n",
       "    <tr>\n",
       "      <th>0</th>\n",
       "      <td>China</td>\n",
       "      <td>Direct</td>\n",
       "    </tr>\n",
       "    <tr>\n",
       "      <th>1</th>\n",
       "      <td>UK</td>\n",
       "      <td>Ads</td>\n",
       "    </tr>\n",
       "    <tr>\n",
       "      <th>2</th>\n",
       "      <td>Germany</td>\n",
       "      <td>Seo</td>\n",
       "    </tr>\n",
       "    <tr>\n",
       "      <th>3</th>\n",
       "      <td>US</td>\n",
       "      <td>Seo</td>\n",
       "    </tr>\n",
       "    <tr>\n",
       "      <th>4</th>\n",
       "      <td>US</td>\n",
       "      <td>Direct</td>\n",
       "    </tr>\n",
       "    <tr>\n",
       "      <th>...</th>\n",
       "      <td>...</td>\n",
       "      <td>...</td>\n",
       "    </tr>\n",
       "    <tr>\n",
       "      <th>284573</th>\n",
       "      <td>US</td>\n",
       "      <td>Ads</td>\n",
       "    </tr>\n",
       "    <tr>\n",
       "      <th>284574</th>\n",
       "      <td>US</td>\n",
       "      <td>Seo</td>\n",
       "    </tr>\n",
       "    <tr>\n",
       "      <th>284575</th>\n",
       "      <td>US</td>\n",
       "      <td>Seo</td>\n",
       "    </tr>\n",
       "    <tr>\n",
       "      <th>284576</th>\n",
       "      <td>US</td>\n",
       "      <td>Direct</td>\n",
       "    </tr>\n",
       "    <tr>\n",
       "      <th>284577</th>\n",
       "      <td>US</td>\n",
       "      <td>Ads</td>\n",
       "    </tr>\n",
       "  </tbody>\n",
       "</table>\n",
       "<p>284578 rows × 2 columns</p>\n",
       "</div>"
      ],
      "text/plain": [
       "        country  source\n",
       "0         China  Direct\n",
       "1            UK     Ads\n",
       "2       Germany     Seo\n",
       "3            US     Seo\n",
       "4            US  Direct\n",
       "...         ...     ...\n",
       "284573       US     Ads\n",
       "284574       US     Seo\n",
       "284575       US     Seo\n",
       "284576       US  Direct\n",
       "284577       US     Ads\n",
       "\n",
       "[284578 rows x 2 columns]"
      ]
     },
     "metadata": {},
     "output_type": "display_data"
    },
    {
     "name": "stdout",
     "output_type": "stream",
     "text": [
      "Performing preprocessings on train set...\n",
      "        country  age  new_user  source  total_pages_visited  \\\n",
      "35058        US   49         1     Seo                    7   \n",
      "169755  Germany   26         0  Direct                    4   \n",
      "173120    China   39         0  Direct                    9   \n",
      "249159       US   39         0     Seo                    4   \n",
      "40032     China   33         1     Seo                    2   \n",
      "\n",
      "        total_pages_visited_x2  total_pages_visited_age  \\\n",
      "35058                       49                      343   \n",
      "169755                      16                      104   \n",
      "173120                      81                      351   \n",
      "249159                      16                      156   \n",
      "40032                        4                       66   \n",
      "\n",
      "        total_pages_visited_age_x2  \n",
      "35058                       117649  \n",
      "169755                       10816  \n",
      "173120                      123201  \n",
      "249159                       24336  \n",
      "40032                         4356  \n",
      "...Done.\n",
      "[[ 2.23314291  0.67684511  0.63533212  0.26682815  1.81003768  1.55839633\n",
      "   0.          0.          1.          0.          1.        ]\n",
      " [-0.55155947 -1.47744289 -0.26180716 -0.35998934 -0.40535886 -0.41922035\n",
      "   1.          0.          0.          1.          0.        ]\n",
      " [ 1.02240274 -1.47744289  1.23342498  0.87465117  1.88419321  1.66117102\n",
      "   0.          0.          0.          1.          0.        ]\n",
      " [ 1.02240274 -1.47744289 -0.26180716 -0.35998934  0.0766521  -0.16894771\n",
      "   0.          0.          1.          0.          1.        ]\n",
      " [ 0.29595865  0.67684511 -0.85990002 -0.58792297 -0.75759764 -0.53880329\n",
      "   0.          0.          0.          0.          1.        ]]\n",
      "\n"
     ]
    }
   ],
   "source": [
    "# Put here all the preprocessings\n",
    "print(\"Encoding categorical features and standardizing numerical features...\")\n",
    "\n",
    "# Create pipeline for numeric features\n",
    "display(X.select_dtypes(exclude='object') )\n",
    "numeric_features = X.select_dtypes(exclude='object').columns  # Names of numeric columns in X_train/X_test\n",
    "numeric_transformer = Pipeline(\n",
    "    steps=[\n",
    "        (\n",
    "            \"scaler\", \n",
    "            StandardScaler()\n",
    "        ),\n",
    "    ]\n",
    ")\n",
    "\n",
    "display(X.select_dtypes(include='object') )\n",
    "\n",
    "# Create pipeline for categorical features\n",
    "categorical_features = X.select_dtypes(include='object').columns  # Names of categorical columns in X_train/X_test\n",
    "categorical_transformer = Pipeline(\n",
    "    steps=[\n",
    "        (\n",
    "            \"encoder\",\n",
    "            OneHotEncoder(drop=\"first\"),\n",
    "        ),  # first column will be dropped to avoid creating correlations between features\n",
    "    ]\n",
    ")\n",
    "\n",
    "preprocessor = ColumnTransformer(\n",
    "    transformers=[\n",
    "        (\"num\", numeric_transformer, numeric_features),\n",
    "        (\"cat\", categorical_transformer, categorical_features),\n",
    "    ]\n",
    ")\n",
    "\n",
    "# Preprocessings on train set\n",
    "print(\"Performing preprocessings on train set...\")\n",
    "print(X_train.head())\n",
    "preprocessor.fit(X_train)\n",
    "X_train = preprocessor.transform(X_train)\n",
    "print(\"...Done.\")\n",
    "print(\n",
    "    X_train[0:5]\n",
    ")  # MUST use this syntax because X_train is a numpy array and not a pandas DataFrame anymore\n",
    "print()"
   ]
  },
  {
   "cell_type": "code",
   "execution_count": 7,
   "metadata": {
    "colab": {
     "base_uri": "https://localhost:8080/",
     "height": 104
    },
    "colab_type": "code",
    "id": "1qhidLbq7o-5",
    "outputId": "6bfb746c-1ff4-41c9-b0d6-a98fd09a444d"
   },
   "outputs": [
    {
     "name": "stderr",
     "output_type": "stream",
     "text": [
      "[I 2025-06-11 23:13:56,804] A new study created in memory with name: no-name-512c327b-9f31-455d-9c6a-55a56d16a779\n"
     ]
    },
    {
     "name": "stdout",
     "output_type": "stream",
     "text": [
      "Train model...\n"
     ]
    },
    {
     "name": "stderr",
     "output_type": "stream",
     "text": [
      "[I 2025-06-11 23:13:59,139] Trial 0 finished with value: 0.6932707470163382 and parameters: {'C': 0.0009213947987780145, 'penalty': 'l1', 'max_iter': 318}. Best is trial 0 with value: 0.6932707470163382.\n",
      "[I 2025-06-11 23:14:00,468] Trial 1 finished with value: 0.37703597019938606 and parameters: {'C': 0.00010441058456351357, 'penalty': 'l1', 'max_iter': 622}. Best is trial 0 with value: 0.6932707470163382.\n",
      "[I 2025-06-11 23:14:06,820] Trial 2 finished with value: 0.7372335062775058 and parameters: {'C': 0.006722988054121752, 'penalty': 'l1', 'max_iter': 817}. Best is trial 2 with value: 0.7372335062775058.\n",
      "[I 2025-06-11 23:14:08,103] Trial 3 finished with value: 0.7144229678189745 and parameters: {'C': 0.0027228194304146696, 'penalty': 'l2', 'max_iter': 415}. Best is trial 2 with value: 0.7372335062775058.\n",
      "[I 2025-06-11 23:14:09,119] Trial 4 finished with value: 0.6948298533880959 and parameters: {'C': 0.001304895388061082, 'penalty': 'l1', 'max_iter': 305}. Best is trial 2 with value: 0.7372335062775058.\n",
      "[I 2025-06-11 23:14:19,681] Trial 5 finished with value: 0.7594571303959693 and parameters: {'C': 0.030154492717272358, 'penalty': 'l1', 'max_iter': 209}. Best is trial 5 with value: 0.7594571303959693.\n",
      "[I 2025-06-11 23:14:22,427] Trial 6 finished with value: 0.7250658484955357 and parameters: {'C': 0.002350240322592948, 'penalty': 'l1', 'max_iter': 429}. Best is trial 5 with value: 0.7594571303959693.\n",
      "[I 2025-06-11 23:14:23,713] Trial 7 finished with value: 0.764299387063841 and parameters: {'C': 68.25607264209422, 'penalty': 'l2', 'max_iter': 944}. Best is trial 7 with value: 0.764299387063841.\n",
      "[I 2025-06-11 23:14:31,838] Trial 8 finished with value: 0.7525178290435152 and parameters: {'C': 0.016540730550459286, 'penalty': 'l1', 'max_iter': 373}. Best is trial 7 with value: 0.764299387063841.\n",
      "[I 2025-06-11 23:14:32,698] Trial 9 finished with value: 0.7470377828043536 and parameters: {'C': 0.019793974327108492, 'penalty': 'l2', 'max_iter': 990}. Best is trial 7 with value: 0.764299387063841.\n",
      "[I 2025-06-11 23:14:33,928] Trial 10 finished with value: 0.764299387063841 and parameters: {'C': 98.51018657770312, 'penalty': 'l2', 'max_iter': 972}. Best is trial 7 with value: 0.764299387063841.\n",
      "[I 2025-06-11 23:14:35,168] Trial 11 finished with value: 0.764299387063841 and parameters: {'C': 78.46577114097609, 'penalty': 'l2', 'max_iter': 990}. Best is trial 7 with value: 0.764299387063841.\n",
      "[I 2025-06-11 23:14:36,380] Trial 12 finished with value: 0.764299387063841 and parameters: {'C': 78.44335260661619, 'penalty': 'l2', 'max_iter': 813}. Best is trial 7 with value: 0.764299387063841.\n",
      "[I 2025-06-11 23:14:37,563] Trial 13 finished with value: 0.7641923817494576 and parameters: {'C': 3.8133467948776874, 'penalty': 'l2', 'max_iter': 827}. Best is trial 7 with value: 0.764299387063841.\n",
      "[I 2025-06-11 23:14:38,794] Trial 14 finished with value: 0.7639304450727725 and parameters: {'C': 1.808177017156996, 'penalty': 'l2', 'max_iter': 684}. Best is trial 7 with value: 0.764299387063841.\n",
      "[I 2025-06-11 23:14:39,982] Trial 15 finished with value: 0.7643079152377205 and parameters: {'C': 3.3153904074121443, 'penalty': 'l2', 'max_iter': 883}. Best is trial 15 with value: 0.7643079152377205.\n",
      "[I 2025-06-11 23:14:41,184] Trial 16 finished with value: 0.7637229109078059 and parameters: {'C': 2.241486205796517, 'penalty': 'l2', 'max_iter': 877}. Best is trial 15 with value: 0.7643079152377205.\n",
      "[I 2025-06-11 23:14:42,373] Trial 17 finished with value: 0.7641923817494576 and parameters: {'C': 11.732145855238015, 'penalty': 'l2', 'max_iter': 730}. Best is trial 15 with value: 0.7643079152377205.\n",
      "[I 2025-06-11 23:14:43,594] Trial 18 finished with value: 0.7627108887689501 and parameters: {'C': 0.3094906043847649, 'penalty': 'l2', 'max_iter': 556}. Best is trial 15 with value: 0.7643079152377205.\n",
      "[I 2025-06-11 23:14:44,822] Trial 19 finished with value: 0.7623965413078846 and parameters: {'C': 0.2680212395851335, 'penalty': 'l2', 'max_iter': 891}. Best is trial 15 with value: 0.7643079152377205.\n",
      "[I 2025-06-11 23:14:46,021] Trial 20 finished with value: 0.7642078434654482 and parameters: {'C': 15.103873344303336, 'penalty': 'l2', 'max_iter': 744}. Best is trial 15 with value: 0.7643079152377205.\n",
      "[I 2025-06-11 23:14:47,210] Trial 21 finished with value: 0.764299387063841 and parameters: {'C': 26.59113649327005, 'penalty': 'l2', 'max_iter': 922}. Best is trial 15 with value: 0.7643079152377205.\n",
      "[I 2025-06-11 23:14:48,402] Trial 22 finished with value: 0.764286297047841 and parameters: {'C': 6.596916769841301, 'penalty': 'l2', 'max_iter': 1000}. Best is trial 15 with value: 0.7643079152377205.\n",
      "[I 2025-06-11 23:14:49,633] Trial 23 finished with value: 0.7637153809327807 and parameters: {'C': 0.7790327824624916, 'penalty': 'l2', 'max_iter': 922}. Best is trial 15 with value: 0.7643079152377205.\n",
      "[I 2025-06-11 23:14:50,835] Trial 24 finished with value: 0.764299387063841 and parameters: {'C': 44.88006969424024, 'penalty': 'l2', 'max_iter': 543}. Best is trial 15 with value: 0.7643079152377205.\n",
      "[I 2025-06-11 23:14:52,049] Trial 25 finished with value: 0.764299387063841 and parameters: {'C': 20.078083784326886, 'penalty': 'l2', 'max_iter': 919}. Best is trial 15 with value: 0.7643079152377205.\n",
      "[I 2025-06-11 23:14:53,341] Trial 26 finished with value: 0.7637142921518034 and parameters: {'C': 0.8282928563617626, 'penalty': 'l2', 'max_iter': 747}. Best is trial 15 with value: 0.7643079152377205.\n",
      "[I 2025-06-11 23:14:54,347] Trial 27 finished with value: 0.764286297047841 and parameters: {'C': 6.843715830818451, 'penalty': 'l2', 'max_iter': 845}. Best is trial 15 with value: 0.7643079152377205.\n",
      "[I 2025-06-11 23:14:55,427] Trial 28 finished with value: 0.764299387063841 and parameters: {'C': 96.1992998381094, 'penalty': 'l2', 'max_iter': 969}. Best is trial 15 with value: 0.7643079152377205.\n",
      "[I 2025-06-11 23:14:56,472] Trial 29 finished with value: 0.764299387063841 and parameters: {'C': 28.877728145289115, 'penalty': 'l2', 'max_iter': 797}. Best is trial 15 with value: 0.7643079152377205.\n",
      "[I 2025-06-11 23:14:57,449] Trial 30 finished with value: 0.7585512773983257 and parameters: {'C': 0.08981300122170746, 'penalty': 'l2', 'max_iter': 642}. Best is trial 15 with value: 0.7643079152377205.\n",
      "[I 2025-06-11 23:14:58,445] Trial 31 finished with value: 0.764299387063841 and parameters: {'C': 84.65173812676062, 'penalty': 'l2', 'max_iter': 951}. Best is trial 15 with value: 0.7643079152377205.\n",
      "[I 2025-06-11 23:14:59,551] Trial 32 finished with value: 0.764299387063841 and parameters: {'C': 42.893757063491186, 'penalty': 'l2', 'max_iter': 874}. Best is trial 15 with value: 0.7643079152377205.\n",
      "[I 2025-06-11 23:15:00,745] Trial 33 finished with value: 0.764286297047841 and parameters: {'C': 7.25823633079383, 'penalty': 'l2', 'max_iter': 948}. Best is trial 15 with value: 0.7643079152377205.\n",
      "[I 2025-06-11 23:15:45,490] Trial 34 finished with value: 0.7643358904105787 and parameters: {'C': 42.022414200860155, 'penalty': 'l1', 'max_iter': 986}. Best is trial 34 with value: 0.7643358904105787.\n",
      "[I 2025-06-11 23:16:26,730] Trial 35 finished with value: 0.7643887975624006 and parameters: {'C': 12.730775447619534, 'penalty': 'l1', 'max_iter': 775}. Best is trial 35 with value: 0.7643887975624006.\n",
      "[I 2025-06-11 23:17:03,953] Trial 36 finished with value: 0.7644678277039259 and parameters: {'C': 2.577122347277371, 'penalty': 'l1', 'max_iter': 861}. Best is trial 36 with value: 0.7644678277039259.\n",
      "[I 2025-06-11 23:17:38,996] Trial 37 finished with value: 0.7645686030690323 and parameters: {'C': 1.6113876358381898, 'penalty': 'l1', 'max_iter': 778}. Best is trial 37 with value: 0.7645686030690323.\n",
      "[I 2025-06-11 23:17:39,548] Trial 38 finished with value: 0.5648661309148951 and parameters: {'C': 0.00025504858395123975, 'penalty': 'l1', 'max_iter': 679}. Best is trial 37 with value: 0.7645686030690323.\n",
      "[I 2025-06-11 23:18:06,095] Trial 39 finished with value: 0.7646262328200033 and parameters: {'C': 0.8726047198377073, 'penalty': 'l1', 'max_iter': 790}. Best is trial 39 with value: 0.7646262328200033.\n",
      "[I 2025-06-11 23:18:32,390] Trial 40 finished with value: 0.7641819259987804 and parameters: {'C': 0.599014655774782, 'penalty': 'l1', 'max_iter': 784}. Best is trial 39 with value: 0.7646262328200033.\n",
      "[I 2025-06-11 23:19:09,566] Trial 41 finished with value: 0.7645686030690323 and parameters: {'C': 1.4823508218081594, 'penalty': 'l1', 'max_iter': 766}. Best is trial 39 with value: 0.7646262328200033.\n",
      "[I 2025-06-11 23:19:40,330] Trial 42 finished with value: 0.7645686030690323 and parameters: {'C': 1.2642220081579012, 'penalty': 'l1', 'max_iter': 769}. Best is trial 39 with value: 0.7646262328200033.\n",
      "[I 2025-06-11 23:19:54,965] Trial 43 finished with value: 0.763762207171466 and parameters: {'C': 0.14173232248212272, 'penalty': 'l1', 'max_iter': 673}. Best is trial 39 with value: 0.7646262328200033.\n",
      "[I 2025-06-11 23:20:30,961] Trial 44 finished with value: 0.7645686030690323 and parameters: {'C': 1.731904903014134, 'penalty': 'l1', 'max_iter': 602}. Best is trial 39 with value: 0.7646262328200033.\n",
      "[I 2025-06-11 23:21:01,941] Trial 45 finished with value: 0.7646262328200033 and parameters: {'C': 1.1719587923162318, 'penalty': 'l1', 'max_iter': 567}. Best is trial 39 with value: 0.7646262328200033.\n",
      "[I 2025-06-11 23:21:22,127] Trial 46 finished with value: 0.7641702101327108 and parameters: {'C': 0.38871083267463213, 'penalty': 'l1', 'max_iter': 489}. Best is trial 39 with value: 0.7646262328200033.\n",
      "[I 2025-06-11 23:21:31,330] Trial 47 finished with value: 0.7626824283120481 and parameters: {'C': 0.07543552252690232, 'penalty': 'l1', 'max_iter': 721}. Best is trial 39 with value: 0.7646262328200033.\n",
      "[I 2025-06-11 23:21:56,844] Trial 48 finished with value: 0.7645686030690323 and parameters: {'C': 1.210724291314481, 'penalty': 'l1', 'max_iter': 556}. Best is trial 39 with value: 0.7646262328200033.\n",
      "[I 2025-06-11 23:22:04,533] Trial 49 finished with value: 0.7614403712935351 and parameters: {'C': 0.04156685446065241, 'penalty': 'l1', 'max_iter': 644}. Best is trial 39 with value: 0.7646262328200033.\n",
      "[I 2025-06-11 23:22:16,187] Trial 50 finished with value: 0.7637757119005947 and parameters: {'C': 0.17771077425034748, 'penalty': 'l1', 'max_iter': 496}. Best is trial 39 with value: 0.7646262328200033.\n",
      "[I 2025-06-11 23:22:39,141] Trial 51 finished with value: 0.7645686030690323 and parameters: {'C': 1.2189824631023607, 'penalty': 'l1', 'max_iter': 602}. Best is trial 39 with value: 0.7646262328200033.\n",
      "[I 2025-06-11 23:23:03,938] Trial 52 finished with value: 0.7645686030690323 and parameters: {'C': 1.4247479807783117, 'penalty': 'l1', 'max_iter': 201}. Best is trial 39 with value: 0.7646262328200033.\n",
      "[I 2025-06-11 23:23:19,544] Trial 53 finished with value: 0.7640531668163766 and parameters: {'C': 0.4850312474861776, 'penalty': 'l1', 'max_iter': 711}. Best is trial 39 with value: 0.7646262328200033.\n",
      "[I 2025-06-11 23:24:03,372] Trial 54 finished with value: 0.7646208417457556 and parameters: {'C': 4.63836631413251, 'penalty': 'l1', 'max_iter': 365}. Best is trial 39 with value: 0.7646262328200033.\n",
      "[I 2025-06-11 23:24:49,510] Trial 55 finished with value: 0.7645634297941099 and parameters: {'C': 5.029106950994968, 'penalty': 'l1', 'max_iter': 265}. Best is trial 39 with value: 0.7646262328200033.\n",
      "[I 2025-06-11 23:25:35,546] Trial 56 finished with value: 0.7645632418926238 and parameters: {'C': 3.910918417703393, 'penalty': 'l1', 'max_iter': 445}. Best is trial 39 with value: 0.7646262328200033.\n",
      "[I 2025-06-11 23:25:41,360] Trial 57 finished with value: 0.7370649048127877 and parameters: {'C': 0.006568025048721577, 'penalty': 'l1', 'max_iter': 290}. Best is trial 39 with value: 0.7646262328200033.\n",
      "[I 2025-06-11 23:26:00,235] Trial 58 finished with value: 0.7638920873219494 and parameters: {'C': 0.26923392083792524, 'penalty': 'l1', 'max_iter': 377}. Best is trial 39 with value: 0.7646262328200033.\n",
      "[I 2025-06-11 23:26:45,854] Trial 59 finished with value: 0.7645038093671782 and parameters: {'C': 2.7799566538083655, 'penalty': 'l1', 'max_iter': 764}. Best is trial 39 with value: 0.7646262328200033.\n",
      "[I 2025-06-11 23:27:10,760] Trial 60 finished with value: 0.7644065247294749 and parameters: {'C': 0.7952511771507353, 'penalty': 'l1', 'max_iter': 842}. Best is trial 39 with value: 0.7646262328200033.\n",
      "[I 2025-06-11 23:27:50,164] Trial 61 finished with value: 0.7646403245222796 and parameters: {'C': 1.993327899763547, 'penalty': 'l1', 'max_iter': 812}. Best is trial 61 with value: 0.7646403245222796.\n",
      "[I 2025-06-11 23:28:19,522] Trial 62 finished with value: 0.7646262328200033 and parameters: {'C': 1.0530598684662722, 'penalty': 'l1', 'max_iter': 818}. Best is trial 61 with value: 0.7646403245222796.\n",
      "[I 2025-06-11 23:29:01,298] Trial 63 finished with value: 0.7646403245222796 and parameters: {'C': 2.291745187879496, 'penalty': 'l1', 'max_iter': 809}. Best is trial 61 with value: 0.7646403245222796.\n",
      "[I 2025-06-11 23:29:45,675] Trial 64 finished with value: 0.764505829940978 and parameters: {'C': 8.990747263258001, 'penalty': 'l1', 'max_iter': 808}. Best is trial 61 with value: 0.7646403245222796.\n",
      "[I 2025-06-11 23:30:34,142] Trial 65 finished with value: 0.7644462095140463 and parameters: {'C': 4.219909659167438, 'penalty': 'l1', 'max_iter': 816}. Best is trial 61 with value: 0.7646403245222796.\n",
      "[I 2025-06-11 23:31:18,449] Trial 66 finished with value: 0.7645823771260857 and parameters: {'C': 2.188035019866504, 'penalty': 'l1', 'max_iter': 702}. Best is trial 61 with value: 0.7646403245222796.\n",
      "[I 2025-06-11 23:32:03,703] Trial 67 finished with value: 0.7644678277039259 and parameters: {'C': 2.458813357742988, 'penalty': 'l1', 'max_iter': 711}. Best is trial 61 with value: 0.7646403245222796.\n",
      "[I 2025-06-11 23:32:30,549] Trial 68 finished with value: 0.7646262328200033 and parameters: {'C': 0.9659465259243176, 'penalty': 'l1', 'max_iter': 841}. Best is trial 61 with value: 0.7646403245222796.\n",
      "[I 2025-06-11 23:32:54,985] Trial 69 finished with value: 0.7643700254579514 and parameters: {'C': 0.6876380006897519, 'penalty': 'l1', 'max_iter': 892}. Best is trial 61 with value: 0.7646403245222796.\n",
      "[I 2025-06-11 23:33:13,288] Trial 70 finished with value: 0.7641352935470022 and parameters: {'C': 0.36461530540438253, 'penalty': 'l1', 'max_iter': 838}. Best is trial 61 with value: 0.7646403245222796.\n",
      "[I 2025-06-11 23:33:39,482] Trial 71 finished with value: 0.7646262328200033 and parameters: {'C': 0.9746207063509678, 'penalty': 'l1', 'max_iter': 341}. Best is trial 61 with value: 0.7646403245222796.\n",
      "[I 2025-06-11 23:34:03,286] Trial 72 finished with value: 0.764498107145541 and parameters: {'C': 0.8534645795329713, 'penalty': 'l1', 'max_iter': 265}. Best is trial 61 with value: 0.7646403245222796.\n",
      "[I 2025-06-11 23:34:19,283] Trial 73 finished with value: 0.7637523004854312 and parameters: {'C': 0.20417268160043045, 'penalty': 'l1', 'max_iter': 382}. Best is trial 61 with value: 0.7646403245222796.\n",
      "[I 2025-06-11 23:34:56,467] Trial 74 finished with value: 0.7644463974155324 and parameters: {'C': 5.754121278278494, 'penalty': 'l1', 'max_iter': 344}. Best is trial 61 with value: 0.7646403245222796.\n",
      "[I 2025-06-11 23:35:17,962] Trial 75 finished with value: 0.7640531668163766 and parameters: {'C': 0.4568578804851503, 'penalty': 'l1', 'max_iter': 337}. Best is trial 61 with value: 0.7646403245222796.\n",
      "[I 2025-06-11 23:36:03,355] Trial 76 finished with value: 0.764505829940978 and parameters: {'C': 9.935724349719884, 'penalty': 'l1', 'max_iter': 426}. Best is trial 61 with value: 0.7646403245222796.\n",
      "[I 2025-06-11 23:36:48,526] Trial 77 finished with value: 0.764276269983647 and parameters: {'C': 17.333801134145506, 'penalty': 'l1', 'max_iter': 869}. Best is trial 61 with value: 0.7646403245222796.\n",
      "[I 2025-06-11 23:37:08,904] Trial 78 finished with value: 0.7646262328200033 and parameters: {'C': 0.9191953319456039, 'penalty': 'l1', 'max_iter': 407}. Best is trial 61 with value: 0.7646403245222796.\n",
      "[I 2025-06-11 23:37:38,369] Trial 79 finished with value: 0.7646262328200033 and parameters: {'C': 1.0231117232818798, 'penalty': 'l1', 'max_iter': 905}. Best is trial 61 with value: 0.7646403245222796.\n",
      "[I 2025-06-11 23:38:04,543] Trial 80 finished with value: 0.7643700254579514 and parameters: {'C': 0.602948127023471, 'penalty': 'l1', 'max_iter': 740}. Best is trial 61 with value: 0.7646403245222796.\n",
      "[I 2025-06-11 23:38:31,382] Trial 81 finished with value: 0.7645686030690323 and parameters: {'C': 1.104385674240725, 'penalty': 'l1', 'max_iter': 899}. Best is trial 61 with value: 0.7646403245222796.\n",
      "[I 2025-06-11 23:39:10,332] Trial 82 finished with value: 0.7644462095140463 and parameters: {'C': 3.1423696578734917, 'penalty': 'l1', 'max_iter': 795}. Best is trial 61 with value: 0.7646403245222796.\n",
      "[I 2025-06-11 23:39:34,398] Trial 83 finished with value: 0.7646262328200033 and parameters: {'C': 0.9515004365318227, 'penalty': 'l1', 'max_iter': 860}. Best is trial 61 with value: 0.7646403245222796.\n",
      "[I 2025-06-11 23:39:59,930] Trial 84 finished with value: 0.7643700254579514 and parameters: {'C': 0.5967274816919477, 'penalty': 'l1', 'max_iter': 920}. Best is trial 61 with value: 0.7646403245222796.\n",
      "[I 2025-06-11 23:40:33,397] Trial 85 finished with value: 0.7646403245222796 and parameters: {'C': 2.035203394101948, 'penalty': 'l1', 'max_iter': 903}. Best is trial 61 with value: 0.7646403245222796.\n",
      "[I 2025-06-11 23:41:06,090] Trial 86 finished with value: 0.7645823771260857 and parameters: {'C': 1.7388482295959697, 'penalty': 'l1', 'max_iter': 824}. Best is trial 61 with value: 0.7646403245222796.\n",
      "[I 2025-06-11 23:41:39,349] Trial 87 finished with value: 0.7645823771260857 and parameters: {'C': 2.2007828233781175, 'penalty': 'l1', 'max_iter': 466}. Best is trial 61 with value: 0.7646403245222796.\n",
      "[I 2025-06-11 23:41:53,065] Trial 88 finished with value: 0.7639163918001788 and parameters: {'C': 0.2584961837475664, 'penalty': 'l1', 'max_iter': 857}. Best is trial 61 with value: 0.7646403245222796.\n",
      "[I 2025-06-11 23:42:04,168] Trial 89 finished with value: 0.7635759222277481 and parameters: {'C': 0.13188884861084366, 'penalty': 'l1', 'max_iter': 539}. Best is trial 61 with value: 0.7646403245222796.\n",
      "[I 2025-06-11 23:42:36,220] Trial 90 finished with value: 0.7644462095140463 and parameters: {'C': 3.5660707872721185, 'penalty': 'l1', 'max_iter': 401}. Best is trial 61 with value: 0.7646403245222796.\n",
      "[I 2025-06-11 23:42:54,270] Trial 91 finished with value: 0.7646262328200033 and parameters: {'C': 1.025622531945069, 'penalty': 'l1', 'max_iter': 905}. Best is trial 61 with value: 0.7646403245222796.\n",
      "[I 2025-06-11 23:43:10,641] Trial 92 finished with value: 0.7640531668163766 and parameters: {'C': 0.446496984149683, 'penalty': 'l1', 'max_iter': 942}. Best is trial 61 with value: 0.7646403245222796.\n",
      "[I 2025-06-11 23:43:52,807] Trial 93 finished with value: 0.7645823771260857 and parameters: {'C': 2.0875587408836918, 'penalty': 'l1', 'max_iter': 835}. Best is trial 61 with value: 0.7646403245222796.\n",
      "[I 2025-06-11 23:44:23,669] Trial 94 finished with value: 0.7645686030690323 and parameters: {'C': 1.5070241633261612, 'penalty': 'l1', 'max_iter': 799}. Best is trial 61 with value: 0.7646403245222796.\n",
      "[I 2025-06-11 23:44:45,582] Trial 95 finished with value: 0.7643700254579514 and parameters: {'C': 0.7193470045720549, 'penalty': 'l1', 'max_iter': 751}. Best is trial 61 with value: 0.7646403245222796.\n",
      "[I 2025-06-11 23:45:02,539] Trial 96 finished with value: 0.7640180451363788 and parameters: {'C': 0.33270661448330036, 'penalty': 'l1', 'max_iter': 965}. Best is trial 61 with value: 0.7646403245222796.\n",
      "[I 2025-06-11 23:45:12,649] Trial 97 finished with value: 0.7623499991892189 and parameters: {'C': 0.059171801402896074, 'penalty': 'l1', 'max_iter': 875}. Best is trial 61 with value: 0.7646403245222796.\n",
      "[I 2025-06-11 23:45:35,874] Trial 98 finished with value: 0.7639964492193984 and parameters: {'C': 0.5268936450527643, 'penalty': 'l1', 'max_iter': 303}. Best is trial 61 with value: 0.7646403245222796.\n",
      "[I 2025-06-11 23:46:02,708] Trial 99 finished with value: 0.7645686030690323 and parameters: {'C': 1.1421229771995591, 'penalty': 'l1', 'max_iter': 525}. Best is trial 61 with value: 0.7646403245222796.\n"
     ]
    },
    {
     "name": "stdout",
     "output_type": "stream",
     "text": [
      "Best hyperparameters (LogisticRegression):  {'C': 1.993327899763547, 'penalty': 'l1', 'max_iter': 812}\n",
      "Best validation F1-score (LogisticRegression):  0.7646403245222796\n",
      "...Done.\n"
     ]
    }
   ],
   "source": [
    "# Train model\n",
    "print(\"Train model...\")\n",
    "\n",
    "def objective_simplified(trial):\n",
    "    # Fixed solver for simplicity, as it supports both l1 and l2 penalties\n",
    "    solver = 'liblinear'\n",
    "\n",
    "    # Define the hyperparameter search space\n",
    "    # C: Inverse of regularization strength; must be a positive float.\n",
    "    C = trial.suggest_float('C', 1e-4, 1e2, log = True)\n",
    "\n",
    "    # penalty: Used to specify the norm of the penalty. 'liblinear' supports 'l1' and 'l2'.\n",
    "    penalty = trial.suggest_categorical('penalty', ['l1', 'l2'])\n",
    "\n",
    "    # max_iter: Maximum number of iterations taken for the solvers to converge.\n",
    "    max_iter = trial.suggest_int('max_iter', 200, 1000) # 'liblinear' is generally faster, so lower max_iter is fine\n",
    "\n",
    "    # Create the Logistic Regression model\n",
    "    model = LogisticRegression(\n",
    "        C=C,\n",
    "        solver=solver,\n",
    "        penalty=penalty,\n",
    "        max_iter=max_iter,\n",
    "        random_state=42, # For reproducibility\n",
    "    )\n",
    "\n",
    "    # Use cross-validation to get a more robust estimate of model performance\n",
    "    kf = StratifiedKFold(n_splits=5, shuffle=True, random_state=42)\n",
    "    \n",
    "    # We will maximize ROC AUC as our objective metric\n",
    "    scores = cross_val_score(model, X_train, Y_train, cv=kf, scoring='f1', n_jobs=-1)\n",
    "\n",
    "    # Return the mean ROC AUC score\n",
    "    return scores.mean()\n",
    "\n",
    "study_rf = optuna.create_study(direction='maximize', pruner=optuna.pruners.MedianPruner(\n",
    "    n_startup_trials=5, # Number of trials to run without pruning\n",
    "    n_warmup_steps=0,   # Number of intermediate reports to wait for before starting pruning\n",
    "    interval_steps=1    # Check for pruning at every 'interval_steps' intermediate reports\n",
    "))\n",
    "\n",
    "study_rf.optimize(objective_simplified, n_trials=100) \n",
    "\n",
    "print(\"Best hyperparameters (LogisticRegression): \", study_rf.best_params)\n",
    "print(\"Best validation F1-score (LogisticRegression): \", study_rf.best_value)\n",
    "\n",
    "classifier = LogisticRegression(**study_rf.best_params, solver='liblinear', random_state=42)\n",
    "classifier.fit(X_train, Y_train)\n",
    "print(\"...Done.\")"
   ]
  },
  {
   "cell_type": "code",
   "execution_count": 8,
   "metadata": {
    "colab": {
     "base_uri": "https://localhost:8080/",
     "height": 84
    },
    "colab_type": "code",
    "id": "Au2TK_vw7rD-",
    "outputId": "702789a8-4631-4c29-f297-e4b2901f3195"
   },
   "outputs": [
    {
     "name": "stdout",
     "output_type": "stream",
     "text": [
      "Predictions on training set...\n",
      "...Done.\n",
      "[0 0 0 ... 0 0 0]\n",
      "\n"
     ]
    }
   ],
   "source": [
    "# Predictions on training set\n",
    "print(\"Predictions on training set...\")\n",
    "Y_train_pred = classifier.predict(X_train)\n",
    "print(\"...Done.\")\n",
    "print(Y_train_pred)\n",
    "print()"
   ]
  },
  {
   "cell_type": "markdown",
   "metadata": {
    "colab_type": "text",
    "id": "7TY_v9uH_CE7"
   },
   "source": [
    "## Test pipeline"
   ]
  },
  {
   "cell_type": "code",
   "execution_count": 9,
   "metadata": {
    "colab": {
     "base_uri": "https://localhost:8080/",
     "height": 134
    },
    "colab_type": "code",
    "id": "ngOSdG6-_Cvb",
    "outputId": "1e19e8ee-222f-413b-9bc0-e9f41dcca1c0"
   },
   "outputs": [
    {
     "name": "stdout",
     "output_type": "stream",
     "text": [
      "Encoding categorical features and standardizing numerical features...\n",
      "Performing preprocessings on test set...\n",
      "       country  age  new_user  source  total_pages_visited  \\\n",
      "35367    China   30         1  Direct                    8   \n",
      "236725      US   41         1     Seo                    1   \n",
      "41000       UK   29         0     Seo                    2   \n",
      "41435       US   45         1     Seo                    2   \n",
      "18633    China   33         1     Seo                    8   \n",
      "\n",
      "        total_pages_visited_x2  total_pages_visited_age  \\\n",
      "35367                       64                      240   \n",
      "236725                       1                       41   \n",
      "41000                        4                       58   \n",
      "41435                        4                       90   \n",
      "18633                       64                      264   \n",
      "\n",
      "        total_pages_visited_age_x2  \n",
      "35367                        57600  \n",
      "236725                        1681  \n",
      "41000                         3364  \n",
      "41435                         8100  \n",
      "18633                        69696  \n",
      "...Done.\n",
      "[[-0.0672634   0.67684511  0.93437855  0.55174519  0.8552852   0.44681186\n",
      "   0.          0.          0.          1.          0.        ]\n",
      " [ 1.26455078  0.67684511 -1.15894645 -0.64490638 -0.98933368 -0.58832099\n",
      "   0.          0.          1.          0.          1.        ]\n",
      " [-0.18833742 -1.47744289 -0.85990002 -0.58792297 -0.83175317 -0.55716649\n",
      "   0.          1.          0.          0.          1.        ]\n",
      " [ 1.74884684  0.67684511 -0.85990002 -0.58792297 -0.53513104 -0.46949702\n",
      "   0.          0.          1.          0.          1.        ]\n",
      " [ 0.29595865  0.67684511  0.93437855  0.55174519  1.07775179  0.67072442\n",
      "   0.          0.          0.          0.          1.        ]]\n",
      "\n"
     ]
    }
   ],
   "source": [
    "# Use X_test, and the same preprocessings as in training pipeline, \n",
    "# but call \"transform()\" instead of \"fit_transform\" methods (see example below)\n",
    "\n",
    "print(\"Encoding categorical features and standardizing numerical features...\")\n",
    "\n",
    "# Preprocessings on test set\n",
    "print(\"Performing preprocessings on test set...\")\n",
    "print(X_test.head())\n",
    "X_test = preprocessor.transform(\n",
    "    X_test\n",
    ")  # Don't fit again !! The test set is used for validating decisions\n",
    "# we made based on the training set, therefore we can only apply transformations that were parametered using the training set.\n",
    "# Otherwise this creates what is called a leak from the test set which will introduce a bias in all your results.\n",
    "print(\"...Done.\")\n",
    "print(\n",
    "    X_test[0:5, :]\n",
    ")  # MUST use this syntax because X_test is a numpy array and not a pandas DataFrame anymore\n",
    "print()"
   ]
  },
  {
   "cell_type": "code",
   "execution_count": 10,
   "metadata": {
    "colab": {
     "base_uri": "https://localhost:8080/",
     "height": 84
    },
    "colab_type": "code",
    "id": "QS1XrzzE_jQI",
    "outputId": "866a96d2-4180-4bd1-ce54-ba052e75d485"
   },
   "outputs": [
    {
     "name": "stdout",
     "output_type": "stream",
     "text": [
      "Predictions on test set...\n",
      "...Done.\n",
      "[0 0 0 ... 0 0 1]\n",
      "\n"
     ]
    }
   ],
   "source": [
    "# Predictions on test set\n",
    "print(\"Predictions on test set...\")\n",
    "Y_test_pred = classifier.predict(X_test)\n",
    "print(\"...Done.\")\n",
    "print(Y_test_pred)\n",
    "print()"
   ]
  },
  {
   "cell_type": "markdown",
   "metadata": {
    "colab_type": "text",
    "id": "zxJCTlz0_2it"
   },
   "source": [
    "## Performance assessment"
   ]
  },
  {
   "cell_type": "code",
   "execution_count": 11,
   "metadata": {},
   "outputs": [
    {
     "name": "stdout",
     "output_type": "stream",
     "text": [
      "Names of columns corresponding to each coefficient:  ['age', 'new_user', 'total_pages_visited', 'total_pages_visited_x2', 'total_pages_visited_age', 'total_pages_visited_age_x2', 'country_Germany', 'country_UK', 'country_US', 'source_Direct', 'source_Seo']\n"
     ]
    },
    {
     "data": {
      "application/vnd.plotly.v1+json": {
       "config": {
        "plotlyServerURL": "https://plot.ly"
       },
       "data": [
        {
         "hovertemplate": "variable=coefficients<br>value=%{x}<br>index=%{y}<extra></extra>",
         "legendgroup": "coefficients",
         "marker": {
          "color": "#636efa",
          "pattern": {
           "shape": ""
          }
         },
         "name": "coefficients",
         "orientation": "h",
         "showlegend": true,
         "textposition": "auto",
         "type": "bar",
         "x": {
          "bdata": "goMDE1odkD/ozPgttZOeP6SPVwz5R7A/rGYBoGe5uD8CLSbljxLFPx+Y9gzAQeI/n6Sxo/lK6j83nFzFBgEEQI0P6J7PEAlA+3hX9fThC0BuFUfl/YMNQA==",
          "dtype": "f8"
         },
         "xaxis": "x",
         "y": [
          "source_Seo",
          "total_pages_visited_age_x2",
          "total_pages_visited_x2",
          "total_pages_visited_age",
          "source_Direct",
          "age",
          "new_user",
          "total_pages_visited",
          "country_US",
          "country_UK",
          "country_Germany"
         ],
         "yaxis": "y"
        }
       ],
       "layout": {
        "barmode": "relative",
        "legend": {
         "title": {
          "text": "variable"
         },
         "tracegroupgap": 0
        },
        "margin": {
         "l": 120,
         "t": 60
        },
        "showlegend": false,
        "template": {
         "data": {
          "bar": [
           {
            "error_x": {
             "color": "#2a3f5f"
            },
            "error_y": {
             "color": "#2a3f5f"
            },
            "marker": {
             "line": {
              "color": "#E5ECF6",
              "width": 0.5
             },
             "pattern": {
              "fillmode": "overlay",
              "size": 10,
              "solidity": 0.2
             }
            },
            "type": "bar"
           }
          ],
          "barpolar": [
           {
            "marker": {
             "line": {
              "color": "#E5ECF6",
              "width": 0.5
             },
             "pattern": {
              "fillmode": "overlay",
              "size": 10,
              "solidity": 0.2
             }
            },
            "type": "barpolar"
           }
          ],
          "carpet": [
           {
            "aaxis": {
             "endlinecolor": "#2a3f5f",
             "gridcolor": "white",
             "linecolor": "white",
             "minorgridcolor": "white",
             "startlinecolor": "#2a3f5f"
            },
            "baxis": {
             "endlinecolor": "#2a3f5f",
             "gridcolor": "white",
             "linecolor": "white",
             "minorgridcolor": "white",
             "startlinecolor": "#2a3f5f"
            },
            "type": "carpet"
           }
          ],
          "choropleth": [
           {
            "colorbar": {
             "outlinewidth": 0,
             "ticks": ""
            },
            "type": "choropleth"
           }
          ],
          "contour": [
           {
            "colorbar": {
             "outlinewidth": 0,
             "ticks": ""
            },
            "colorscale": [
             [
              0,
              "#0d0887"
             ],
             [
              0.1111111111111111,
              "#46039f"
             ],
             [
              0.2222222222222222,
              "#7201a8"
             ],
             [
              0.3333333333333333,
              "#9c179e"
             ],
             [
              0.4444444444444444,
              "#bd3786"
             ],
             [
              0.5555555555555556,
              "#d8576b"
             ],
             [
              0.6666666666666666,
              "#ed7953"
             ],
             [
              0.7777777777777778,
              "#fb9f3a"
             ],
             [
              0.8888888888888888,
              "#fdca26"
             ],
             [
              1,
              "#f0f921"
             ]
            ],
            "type": "contour"
           }
          ],
          "contourcarpet": [
           {
            "colorbar": {
             "outlinewidth": 0,
             "ticks": ""
            },
            "type": "contourcarpet"
           }
          ],
          "heatmap": [
           {
            "colorbar": {
             "outlinewidth": 0,
             "ticks": ""
            },
            "colorscale": [
             [
              0,
              "#0d0887"
             ],
             [
              0.1111111111111111,
              "#46039f"
             ],
             [
              0.2222222222222222,
              "#7201a8"
             ],
             [
              0.3333333333333333,
              "#9c179e"
             ],
             [
              0.4444444444444444,
              "#bd3786"
             ],
             [
              0.5555555555555556,
              "#d8576b"
             ],
             [
              0.6666666666666666,
              "#ed7953"
             ],
             [
              0.7777777777777778,
              "#fb9f3a"
             ],
             [
              0.8888888888888888,
              "#fdca26"
             ],
             [
              1,
              "#f0f921"
             ]
            ],
            "type": "heatmap"
           }
          ],
          "histogram": [
           {
            "marker": {
             "pattern": {
              "fillmode": "overlay",
              "size": 10,
              "solidity": 0.2
             }
            },
            "type": "histogram"
           }
          ],
          "histogram2d": [
           {
            "colorbar": {
             "outlinewidth": 0,
             "ticks": ""
            },
            "colorscale": [
             [
              0,
              "#0d0887"
             ],
             [
              0.1111111111111111,
              "#46039f"
             ],
             [
              0.2222222222222222,
              "#7201a8"
             ],
             [
              0.3333333333333333,
              "#9c179e"
             ],
             [
              0.4444444444444444,
              "#bd3786"
             ],
             [
              0.5555555555555556,
              "#d8576b"
             ],
             [
              0.6666666666666666,
              "#ed7953"
             ],
             [
              0.7777777777777778,
              "#fb9f3a"
             ],
             [
              0.8888888888888888,
              "#fdca26"
             ],
             [
              1,
              "#f0f921"
             ]
            ],
            "type": "histogram2d"
           }
          ],
          "histogram2dcontour": [
           {
            "colorbar": {
             "outlinewidth": 0,
             "ticks": ""
            },
            "colorscale": [
             [
              0,
              "#0d0887"
             ],
             [
              0.1111111111111111,
              "#46039f"
             ],
             [
              0.2222222222222222,
              "#7201a8"
             ],
             [
              0.3333333333333333,
              "#9c179e"
             ],
             [
              0.4444444444444444,
              "#bd3786"
             ],
             [
              0.5555555555555556,
              "#d8576b"
             ],
             [
              0.6666666666666666,
              "#ed7953"
             ],
             [
              0.7777777777777778,
              "#fb9f3a"
             ],
             [
              0.8888888888888888,
              "#fdca26"
             ],
             [
              1,
              "#f0f921"
             ]
            ],
            "type": "histogram2dcontour"
           }
          ],
          "mesh3d": [
           {
            "colorbar": {
             "outlinewidth": 0,
             "ticks": ""
            },
            "type": "mesh3d"
           }
          ],
          "parcoords": [
           {
            "line": {
             "colorbar": {
              "outlinewidth": 0,
              "ticks": ""
             }
            },
            "type": "parcoords"
           }
          ],
          "pie": [
           {
            "automargin": true,
            "type": "pie"
           }
          ],
          "scatter": [
           {
            "fillpattern": {
             "fillmode": "overlay",
             "size": 10,
             "solidity": 0.2
            },
            "type": "scatter"
           }
          ],
          "scatter3d": [
           {
            "line": {
             "colorbar": {
              "outlinewidth": 0,
              "ticks": ""
             }
            },
            "marker": {
             "colorbar": {
              "outlinewidth": 0,
              "ticks": ""
             }
            },
            "type": "scatter3d"
           }
          ],
          "scattercarpet": [
           {
            "marker": {
             "colorbar": {
              "outlinewidth": 0,
              "ticks": ""
             }
            },
            "type": "scattercarpet"
           }
          ],
          "scattergeo": [
           {
            "marker": {
             "colorbar": {
              "outlinewidth": 0,
              "ticks": ""
             }
            },
            "type": "scattergeo"
           }
          ],
          "scattergl": [
           {
            "marker": {
             "colorbar": {
              "outlinewidth": 0,
              "ticks": ""
             }
            },
            "type": "scattergl"
           }
          ],
          "scattermap": [
           {
            "marker": {
             "colorbar": {
              "outlinewidth": 0,
              "ticks": ""
             }
            },
            "type": "scattermap"
           }
          ],
          "scattermapbox": [
           {
            "marker": {
             "colorbar": {
              "outlinewidth": 0,
              "ticks": ""
             }
            },
            "type": "scattermapbox"
           }
          ],
          "scatterpolar": [
           {
            "marker": {
             "colorbar": {
              "outlinewidth": 0,
              "ticks": ""
             }
            },
            "type": "scatterpolar"
           }
          ],
          "scatterpolargl": [
           {
            "marker": {
             "colorbar": {
              "outlinewidth": 0,
              "ticks": ""
             }
            },
            "type": "scatterpolargl"
           }
          ],
          "scatterternary": [
           {
            "marker": {
             "colorbar": {
              "outlinewidth": 0,
              "ticks": ""
             }
            },
            "type": "scatterternary"
           }
          ],
          "surface": [
           {
            "colorbar": {
             "outlinewidth": 0,
             "ticks": ""
            },
            "colorscale": [
             [
              0,
              "#0d0887"
             ],
             [
              0.1111111111111111,
              "#46039f"
             ],
             [
              0.2222222222222222,
              "#7201a8"
             ],
             [
              0.3333333333333333,
              "#9c179e"
             ],
             [
              0.4444444444444444,
              "#bd3786"
             ],
             [
              0.5555555555555556,
              "#d8576b"
             ],
             [
              0.6666666666666666,
              "#ed7953"
             ],
             [
              0.7777777777777778,
              "#fb9f3a"
             ],
             [
              0.8888888888888888,
              "#fdca26"
             ],
             [
              1,
              "#f0f921"
             ]
            ],
            "type": "surface"
           }
          ],
          "table": [
           {
            "cells": {
             "fill": {
              "color": "#EBF0F8"
             },
             "line": {
              "color": "white"
             }
            },
            "header": {
             "fill": {
              "color": "#C8D4E3"
             },
             "line": {
              "color": "white"
             }
            },
            "type": "table"
           }
          ]
         },
         "layout": {
          "annotationdefaults": {
           "arrowcolor": "#2a3f5f",
           "arrowhead": 0,
           "arrowwidth": 1
          },
          "autotypenumbers": "strict",
          "coloraxis": {
           "colorbar": {
            "outlinewidth": 0,
            "ticks": ""
           }
          },
          "colorscale": {
           "diverging": [
            [
             0,
             "#8e0152"
            ],
            [
             0.1,
             "#c51b7d"
            ],
            [
             0.2,
             "#de77ae"
            ],
            [
             0.3,
             "#f1b6da"
            ],
            [
             0.4,
             "#fde0ef"
            ],
            [
             0.5,
             "#f7f7f7"
            ],
            [
             0.6,
             "#e6f5d0"
            ],
            [
             0.7,
             "#b8e186"
            ],
            [
             0.8,
             "#7fbc41"
            ],
            [
             0.9,
             "#4d9221"
            ],
            [
             1,
             "#276419"
            ]
           ],
           "sequential": [
            [
             0,
             "#0d0887"
            ],
            [
             0.1111111111111111,
             "#46039f"
            ],
            [
             0.2222222222222222,
             "#7201a8"
            ],
            [
             0.3333333333333333,
             "#9c179e"
            ],
            [
             0.4444444444444444,
             "#bd3786"
            ],
            [
             0.5555555555555556,
             "#d8576b"
            ],
            [
             0.6666666666666666,
             "#ed7953"
            ],
            [
             0.7777777777777778,
             "#fb9f3a"
            ],
            [
             0.8888888888888888,
             "#fdca26"
            ],
            [
             1,
             "#f0f921"
            ]
           ],
           "sequentialminus": [
            [
             0,
             "#0d0887"
            ],
            [
             0.1111111111111111,
             "#46039f"
            ],
            [
             0.2222222222222222,
             "#7201a8"
            ],
            [
             0.3333333333333333,
             "#9c179e"
            ],
            [
             0.4444444444444444,
             "#bd3786"
            ],
            [
             0.5555555555555556,
             "#d8576b"
            ],
            [
             0.6666666666666666,
             "#ed7953"
            ],
            [
             0.7777777777777778,
             "#fb9f3a"
            ],
            [
             0.8888888888888888,
             "#fdca26"
            ],
            [
             1,
             "#f0f921"
            ]
           ]
          },
          "colorway": [
           "#636efa",
           "#EF553B",
           "#00cc96",
           "#ab63fa",
           "#FFA15A",
           "#19d3f3",
           "#FF6692",
           "#B6E880",
           "#FF97FF",
           "#FECB52"
          ],
          "font": {
           "color": "#2a3f5f"
          },
          "geo": {
           "bgcolor": "white",
           "lakecolor": "white",
           "landcolor": "#E5ECF6",
           "showlakes": true,
           "showland": true,
           "subunitcolor": "white"
          },
          "hoverlabel": {
           "align": "left"
          },
          "hovermode": "closest",
          "mapbox": {
           "style": "light"
          },
          "paper_bgcolor": "white",
          "plot_bgcolor": "#E5ECF6",
          "polar": {
           "angularaxis": {
            "gridcolor": "white",
            "linecolor": "white",
            "ticks": ""
           },
           "bgcolor": "#E5ECF6",
           "radialaxis": {
            "gridcolor": "white",
            "linecolor": "white",
            "ticks": ""
           }
          },
          "scene": {
           "xaxis": {
            "backgroundcolor": "#E5ECF6",
            "gridcolor": "white",
            "gridwidth": 2,
            "linecolor": "white",
            "showbackground": true,
            "ticks": "",
            "zerolinecolor": "white"
           },
           "yaxis": {
            "backgroundcolor": "#E5ECF6",
            "gridcolor": "white",
            "gridwidth": 2,
            "linecolor": "white",
            "showbackground": true,
            "ticks": "",
            "zerolinecolor": "white"
           },
           "zaxis": {
            "backgroundcolor": "#E5ECF6",
            "gridcolor": "white",
            "gridwidth": 2,
            "linecolor": "white",
            "showbackground": true,
            "ticks": "",
            "zerolinecolor": "white"
           }
          },
          "shapedefaults": {
           "line": {
            "color": "#2a3f5f"
           }
          },
          "ternary": {
           "aaxis": {
            "gridcolor": "white",
            "linecolor": "white",
            "ticks": ""
           },
           "baxis": {
            "gridcolor": "white",
            "linecolor": "white",
            "ticks": ""
           },
           "bgcolor": "#E5ECF6",
           "caxis": {
            "gridcolor": "white",
            "linecolor": "white",
            "ticks": ""
           }
          },
          "title": {
           "x": 0.05
          },
          "xaxis": {
           "automargin": true,
           "gridcolor": "white",
           "linecolor": "white",
           "ticks": "",
           "title": {
            "standoff": 15
           },
           "zerolinecolor": "white",
           "zerolinewidth": 2
          },
          "yaxis": {
           "automargin": true,
           "gridcolor": "white",
           "linecolor": "white",
           "ticks": "",
           "title": {
            "standoff": 15
           },
           "zerolinecolor": "white",
           "zerolinewidth": 2
          }
         }
        },
        "xaxis": {
         "anchor": "y",
         "domain": [
          0,
          1
         ],
         "title": {
          "text": "value"
         }
        },
        "yaxis": {
         "anchor": "x",
         "domain": [
          0,
          1
         ],
         "title": {
          "text": "index"
         }
        }
       }
      }
     },
     "metadata": {},
     "output_type": "display_data"
    }
   ],
   "source": [
    "import plotly.express as px\n",
    "\n",
    "column_names = [col.split('__')[1] for col in preprocessor.get_feature_names_out()]\n",
    "print(\"Names of columns corresponding to each coefficient: \", column_names)\n",
    "coefs = pd.DataFrame(index = column_names, data = classifier.coef_[0].transpose(), columns=[\"coefficients\"])\n",
    "coefs\n",
    "feature_importance = abs(coefs).sort_values(by = 'coefficients')\n",
    "feature_importance\n",
    "fig = px.bar(feature_importance, orientation = 'h')\n",
    "fig.update_layout(showlegend = False, \n",
    "                  margin = {'l': 120} # to avoid cropping of column names\n",
    "                 )\n",
    "fig.show()"
   ]
  },
  {
   "cell_type": "code",
   "execution_count": 12,
   "metadata": {},
   "outputs": [
    {
     "name": "stdout",
     "output_type": "stream",
     "text": [
      "f1-score:\n",
      "\n",
      "* f1-score on training set:  0.764319673986869\n",
      "* f1-score on test set:  0.7588717015468608\n",
      "\n",
      "accuracy:\n",
      "\n",
      "* accuracy on training set :  0.9862822956839525\n",
      "* accuracy on test set :  0.9860320472274932\n",
      "\n",
      "recall:\n",
      "\n",
      "* recall-score on training set:  0.6897303187142468\n",
      "* recall-score on training set:  0.6813725490196079\n",
      "\n",
      "precision:\n",
      "\n",
      "* precision-score on training set:  0.8569977999661533\n",
      "* precision-score on test set:  0.8562628336755647\n"
     ]
    }
   ],
   "source": [
    "print(\"f1-score:\")\n",
    "print()\n",
    "print(\"* f1-score on training set: \", f1_score(Y_train, Y_train_pred))\n",
    "print(\"* f1-score on test set: \", f1_score(Y_test,Y_test_pred))\n",
    "print()\n",
    "\n",
    "print(\"accuracy:\")\n",
    "print()\n",
    "print(\"* accuracy on training set : \", accuracy_score(Y_train, Y_train_pred))\n",
    "print(\"* accuracy on test set : \", accuracy_score(Y_test, Y_test_pred))\n",
    "print()\n",
    "\n",
    "print(\"recall:\")\n",
    "print()\n",
    "print(\"* recall-score on training set: \", recall_score(Y_train, Y_train_pred))\n",
    "print(\"* recall-score on training set: \", recall_score(Y_test, Y_test_pred))\n",
    "print()\n",
    "\n",
    "print(\"precision:\")\n",
    "print()\n",
    "print(\"* precision-score on training set: \", precision_score(Y_train, Y_train_pred))\n",
    "print(\"* precision-score on test set: \", precision_score(Y_test, Y_test_pred))"
   ]
  },
  {
   "cell_type": "code",
   "execution_count": 13,
   "metadata": {
    "colab": {
     "base_uri": "https://localhost:8080/",
     "height": 151
    },
    "colab_type": "code",
    "id": "KhDTCeBy__JK",
    "outputId": "72c82d66-d765-437e-e9ef-4ccc80e7183f"
   },
   "outputs": [
    {
     "name": "stdout",
     "output_type": "stream",
     "text": [
      "Confusion matrix on train set : \n",
      "[[219475    845]\n",
      " [  2278   5064]]\n",
      "\n",
      "Confusion matrix on test set : \n",
      "[[54870   210]\n",
      " [  585  1251]]\n",
      "\n"
     ]
    }
   ],
   "source": [
    "# You can also check more performance metrics to better understand what your model is doing\n",
    "print(\"Confusion matrix on train set : \")\n",
    "print(confusion_matrix(Y_train, Y_train_pred))\n",
    "print()\n",
    "print(\"Confusion matrix on test set : \")\n",
    "print(confusion_matrix(Y_test, Y_test_pred))\n",
    "print()"
   ]
  },
  {
   "cell_type": "code",
   "execution_count": 14,
   "metadata": {},
   "outputs": [
    {
     "data": {
      "image/png": "[encoded data removed]",
      "text/plain": [
       "<Figure size 640x480 with 1 Axes>"
      ]
     },
     "metadata": {},
     "output_type": "display_data"
    },
    {
     "data": {
      "image/png": "[encoded data removed]",
      "text/plain": [
       "<Figure size 640x480 with 1 Axes>"
      ]
     },
     "metadata": {},
     "output_type": "display_data"
    }
   ],
   "source": [
    "_, ax = plt.subplots()\n",
    "ax.set(\n",
    "    title=\"ROC Curve on Train set\"\n",
    ")  # Set a title that we will add into ConfusionMatrixDisplay\n",
    "RocCurveDisplay.from_estimator(\n",
    "    classifier, X_train, Y_train, ax=ax\n",
    ")  # RocCurveDisplay from sklearn\n",
    "plt.show()\n",
    "\n",
    "_, ax = plt.subplots()  # Get subplot from matplotlib\n",
    "ax.set(\n",
    "    title=\"ROC Curve on Test set\"\n",
    ")  # Set a title that we will add into ConfusionMatrixDisplay\n",
    "RocCurveDisplay.from_estimator(\n",
    "    classifier, X_test, Y_test, ax=ax\n",
    ")  # RocCurveDisplay from sklearn\n",
    "plt.show()"
   ]
  },
  {
   "cell_type": "markdown",
   "metadata": {},
   "source": [
    "**We improved our f1-score at 76% on the test and train sets. 🚀🚀**"
   ]
  },
  {
   "cell_type": "markdown",
   "metadata": {
    "colab_type": "text",
    "id": "6tVVDRABv91O"
   },
   "source": [
    "# Train best classifier on all data and use it to make predictions on X_without_labels\n",
    "**Before making predictions on the file conversion_data_test.csv, let's train our model on ALL the data that was in conversion_data_train.csv. Sometimes, this allows to make tiny improvements in the score because we're using more examples to train the model.**"
   ]
  },
  {
   "cell_type": "code",
   "execution_count": 15,
   "metadata": {
    "colab": {
     "base_uri": "https://localhost:8080/",
     "height": 154
    },
    "colab_type": "code",
    "id": "M14RHUadzE2p",
    "outputId": "abcfcfec-9461-4579-adbd-f23270f984eb"
   },
   "outputs": [
    {
     "data": {
      "text/html": [
       "<style>#sk-container-id-1 {\n",
       "  /* Definition of color scheme common for light and dark mode */\n",
       "  --sklearn-color-text: #000;\n",
       "  --sklearn-color-text-muted: #666;\n",
       "  --sklearn-color-line: gray;\n",
       "  /* Definition of color scheme for unfitted estimators */\n",
       "  --sklearn-color-unfitted-level-0: #fff5e6;\n",
       "  --sklearn-color-unfitted-level-1: #f6e4d2;\n",
       "  --sklearn-color-unfitted-level-2: #ffe0b3;\n",
       "  --sklearn-color-unfitted-level-3: chocolate;\n",
       "  /* Definition of color scheme for fitted estimators */\n",
       "  --sklearn-color-fitted-level-0: #f0f8ff;\n",
       "  --sklearn-color-fitted-level-1: #d4ebff;\n",
       "  --sklearn-color-fitted-level-2: #b3dbfd;\n",
       "  --sklearn-color-fitted-level-3: cornflowerblue;\n",
       "\n",
       "  /* Specific color for light theme */\n",
       "  --sklearn-color-text-on-default-background: var(--sg-text-color, var(--theme-code-foreground, var(--jp-content-font-color1, black)));\n",
       "  --sklearn-color-background: var(--sg-background-color, var(--theme-background, var(--jp-layout-color0, white)));\n",
       "  --sklearn-color-border-box: var(--sg-text-color, var(--theme-code-foreground, var(--jp-content-font-color1, black)));\n",
       "  --sklearn-color-icon: #696969;\n",
       "\n",
       "  @media (prefers-color-scheme: dark) {\n",
       "    /* Redefinition of color scheme for dark theme */\n",
       "    --sklearn-color-text-on-default-background: var(--sg-text-color, var(--theme-code-foreground, var(--jp-content-font-color1, white)));\n",
       "    --sklearn-color-background: var(--sg-background-color, var(--theme-background, var(--jp-layout-color0, #111)));\n",
       "    --sklearn-color-border-box: var(--sg-text-color, var(--theme-code-foreground, var(--jp-content-font-color1, white)));\n",
       "    --sklearn-color-icon: #878787;\n",
       "  }\n",
       "}\n",
       "\n",
       "#sk-container-id-1 {\n",
       "  color: var(--sklearn-color-text);\n",
       "}\n",
       "\n",
       "#sk-container-id-1 pre {\n",
       "  padding: 0;\n",
       "}\n",
       "\n",
       "#sk-container-id-1 input.sk-hidden--visually {\n",
       "  border: 0;\n",
       "  clip: rect(1px 1px 1px 1px);\n",
       "  clip: rect(1px, 1px, 1px, 1px);\n",
       "  height: 1px;\n",
       "  margin: -1px;\n",
       "  overflow: hidden;\n",
       "  padding: 0;\n",
       "  position: absolute;\n",
       "  width: 1px;\n",
       "}\n",
       "\n",
       "#sk-container-id-1 div.sk-dashed-wrapped {\n",
       "  border: 1px dashed var(--sklearn-color-line);\n",
       "  margin: 0 0.4em 0.5em 0.4em;\n",
       "  box-sizing: border-box;\n",
       "  padding-bottom: 0.4em;\n",
       "  background-color: var(--sklearn-color-background);\n",
       "}\n",
       "\n",
       "#sk-container-id-1 div.sk-container {\n",
       "  /* jupyter's `normalize.less` sets `[hidden] { display: none; }`\n",
       "     but bootstrap.min.css set `[hidden] { display: none !important; }`\n",
       "     so we also need the `!important` here to be able to override the\n",
       "     default hidden behavior on the sphinx rendered scikit-learn.org.\n",
       "     See: https://github.com/scikit-learn/scikit-learn/issues/21755 */\n",
       "  display: inline-block !important;\n",
       "  position: relative;\n",
       "}\n",
       "\n",
       "#sk-container-id-1 div.sk-text-repr-fallback {\n",
       "  display: none;\n",
       "}\n",
       "\n",
       "div.sk-parallel-item,\n",
       "div.sk-serial,\n",
       "div.sk-item {\n",
       "  /* draw centered vertical line to link estimators */\n",
       "  background-image: linear-gradient(var(--sklearn-color-text-on-default-background), var(--sklearn-color-text-on-default-background));\n",
       "  background-size: 2px 100%;\n",
       "  background-repeat: no-repeat;\n",
       "  background-position: center center;\n",
       "}\n",
       "\n",
       "/* Parallel-specific style estimator block */\n",
       "\n",
       "#sk-container-id-1 div.sk-parallel-item::after {\n",
       "  content: \"\";\n",
       "  width: 100%;\n",
       "  border-bottom: 2px solid var(--sklearn-color-text-on-default-background);\n",
       "  flex-grow: 1;\n",
       "}\n",
       "\n",
       "#sk-container-id-1 div.sk-parallel {\n",
       "  display: flex;\n",
       "  align-items: stretch;\n",
       "  justify-content: center;\n",
       "  background-color: var(--sklearn-color-background);\n",
       "  position: relative;\n",
       "}\n",
       "\n",
       "#sk-container-id-1 div.sk-parallel-item {\n",
       "  display: flex;\n",
       "  flex-direction: column;\n",
       "}\n",
       "\n",
       "#sk-container-id-1 div.sk-parallel-item:first-child::after {\n",
       "  align-self: flex-end;\n",
       "  width: 50%;\n",
       "}\n",
       "\n",
       "#sk-container-id-1 div.sk-parallel-item:last-child::after {\n",
       "  align-self: flex-start;\n",
       "  width: 50%;\n",
       "}\n",
       "\n",
       "#sk-container-id-1 div.sk-parallel-item:only-child::after {\n",
       "  width: 0;\n",
       "}\n",
       "\n",
       "/* Serial-specific style estimator block */\n",
       "\n",
       "#sk-container-id-1 div.sk-serial {\n",
       "  display: flex;\n",
       "  flex-direction: column;\n",
       "  align-items: center;\n",
       "  background-color: var(--sklearn-color-background);\n",
       "  padding-right: 1em;\n",
       "  padding-left: 1em;\n",
       "}\n",
       "\n",
       "\n",
       "/* Toggleable style: style used for estimator/Pipeline/ColumnTransformer box that is\n",
       "clickable and can be expanded/collapsed.\n",
       "- Pipeline and ColumnTransformer use this feature and define the default style\n",
       "- Estimators will overwrite some part of the style using the `sk-estimator` class\n",
       "*/\n",
       "\n",
       "/* Pipeline and ColumnTransformer style (default) */\n",
       "\n",
       "#sk-container-id-1 div.sk-toggleable {\n",
       "  /* Default theme specific background. It is overwritten whether we have a\n",
       "  specific estimator or a Pipeline/ColumnTransformer */\n",
       "  background-color: var(--sklearn-color-background);\n",
       "}\n",
       "\n",
       "/* Toggleable label */\n",
       "#sk-container-id-1 label.sk-toggleable__label {\n",
       "  cursor: pointer;\n",
       "  display: flex;\n",
       "  width: 100%;\n",
       "  margin-bottom: 0;\n",
       "  padding: 0.5em;\n",
       "  box-sizing: border-box;\n",
       "  text-align: center;\n",
       "  align-items: start;\n",
       "  justify-content: space-between;\n",
       "  gap: 0.5em;\n",
       "}\n",
       "\n",
       "#sk-container-id-1 label.sk-toggleable__label .caption {\n",
       "  font-size: 0.6rem;\n",
       "  font-weight: lighter;\n",
       "  color: var(--sklearn-color-text-muted);\n",
       "}\n",
       "\n",
       "#sk-container-id-1 label.sk-toggleable__label-arrow:before {\n",
       "  /* Arrow on the left of the label */\n",
       "  content: \"▸\";\n",
       "  float: left;\n",
       "  margin-right: 0.25em;\n",
       "  color: var(--sklearn-color-icon);\n",
       "}\n",
       "\n",
       "#sk-container-id-1 label.sk-toggleable__label-arrow:hover:before {\n",
       "  color: var(--sklearn-color-text);\n",
       "}\n",
       "\n",
       "/* Toggleable content - dropdown */\n",
       "\n",
       "#sk-container-id-1 div.sk-toggleable__content {\n",
       "  max-height: 0;\n",
       "  max-width: 0;\n",
       "  overflow: hidden;\n",
       "  text-align: left;\n",
       "  /* unfitted */\n",
       "  background-color: var(--sklearn-color-unfitted-level-0);\n",
       "}\n",
       "\n",
       "#sk-container-id-1 div.sk-toggleable__content.fitted {\n",
       "  /* fitted */\n",
       "  background-color: var(--sklearn-color-fitted-level-0);\n",
       "}\n",
       "\n",
       "#sk-container-id-1 div.sk-toggleable__content pre {\n",
       "  margin: 0.2em;\n",
       "  border-radius: 0.25em;\n",
       "  color: var(--sklearn-color-text);\n",
       "  /* unfitted */\n",
       "  background-color: var(--sklearn-color-unfitted-level-0);\n",
       "}\n",
       "\n",
       "#sk-container-id-1 div.sk-toggleable__content.fitted pre {\n",
       "  /* unfitted */\n",
       "  background-color: var(--sklearn-color-fitted-level-0);\n",
       "}\n",
       "\n",
       "#sk-container-id-1 input.sk-toggleable__control:checked~div.sk-toggleable__content {\n",
       "  /* Expand drop-down */\n",
       "  max-height: 200px;\n",
       "  max-width: 100%;\n",
       "  overflow: auto;\n",
       "}\n",
       "\n",
       "#sk-container-id-1 input.sk-toggleable__control:checked~label.sk-toggleable__label-arrow:before {\n",
       "  content: \"▾\";\n",
       "}\n",
       "\n",
       "/* Pipeline/ColumnTransformer-specific style */\n",
       "\n",
       "#sk-container-id-1 div.sk-label input.sk-toggleable__control:checked~label.sk-toggleable__label {\n",
       "  color: var(--sklearn-color-text);\n",
       "  background-color: var(--sklearn-color-unfitted-level-2);\n",
       "}\n",
       "\n",
       "#sk-container-id-1 div.sk-label.fitted input.sk-toggleable__control:checked~label.sk-toggleable__label {\n",
       "  background-color: var(--sklearn-color-fitted-level-2);\n",
       "}\n",
       "\n",
       "/* Estimator-specific style */\n",
       "\n",
       "/* Colorize estimator box */\n",
       "#sk-container-id-1 div.sk-estimator input.sk-toggleable__control:checked~label.sk-toggleable__label {\n",
       "  /* unfitted */\n",
       "  background-color: var(--sklearn-color-unfitted-level-2);\n",
       "}\n",
       "\n",
       "#sk-container-id-1 div.sk-estimator.fitted input.sk-toggleable__control:checked~label.sk-toggleable__label {\n",
       "  /* fitted */\n",
       "  background-color: var(--sklearn-color-fitted-level-2);\n",
       "}\n",
       "\n",
       "#sk-container-id-1 div.sk-label label.sk-toggleable__label,\n",
       "#sk-container-id-1 div.sk-label label {\n",
       "  /* The background is the default theme color */\n",
       "  color: var(--sklearn-color-text-on-default-background);\n",
       "}\n",
       "\n",
       "/* On hover, darken the color of the background */\n",
       "#sk-container-id-1 div.sk-label:hover label.sk-toggleable__label {\n",
       "  color: var(--sklearn-color-text);\n",
       "  background-color: var(--sklearn-color-unfitted-level-2);\n",
       "}\n",
       "\n",
       "/* Label box, darken color on hover, fitted */\n",
       "#sk-container-id-1 div.sk-label.fitted:hover label.sk-toggleable__label.fitted {\n",
       "  color: var(--sklearn-color-text);\n",
       "  background-color: var(--sklearn-color-fitted-level-2);\n",
       "}\n",
       "\n",
       "/* Estimator label */\n",
       "\n",
       "#sk-container-id-1 div.sk-label label {\n",
       "  font-family: monospace;\n",
       "  font-weight: bold;\n",
       "  display: inline-block;\n",
       "  line-height: 1.2em;\n",
       "}\n",
       "\n",
       "#sk-container-id-1 div.sk-label-container {\n",
       "  text-align: center;\n",
       "}\n",
       "\n",
       "/* Estimator-specific */\n",
       "#sk-container-id-1 div.sk-estimator {\n",
       "  font-family: monospace;\n",
       "  border: 1px dotted var(--sklearn-color-border-box);\n",
       "  border-radius: 0.25em;\n",
       "  box-sizing: border-box;\n",
       "  margin-bottom: 0.5em;\n",
       "  /* unfitted */\n",
       "  background-color: var(--sklearn-color-unfitted-level-0);\n",
       "}\n",
       "\n",
       "#sk-container-id-1 div.sk-estimator.fitted {\n",
       "  /* fitted */\n",
       "  background-color: var(--sklearn-color-fitted-level-0);\n",
       "}\n",
       "\n",
       "/* on hover */\n",
       "#sk-container-id-1 div.sk-estimator:hover {\n",
       "  /* unfitted */\n",
       "  background-color: var(--sklearn-color-unfitted-level-2);\n",
       "}\n",
       "\n",
       "#sk-container-id-1 div.sk-estimator.fitted:hover {\n",
       "  /* fitted */\n",
       "  background-color: var(--sklearn-color-fitted-level-2);\n",
       "}\n",
       "\n",
       "/* Specification for estimator info (e.g. \"i\" and \"?\") */\n",
       "\n",
       "/* Common style for \"i\" and \"?\" */\n",
       "\n",
       ".sk-estimator-doc-link,\n",
       "a:link.sk-estimator-doc-link,\n",
       "a:visited.sk-estimator-doc-link {\n",
       "  float: right;\n",
       "  font-size: smaller;\n",
       "  line-height: 1em;\n",
       "  font-family: monospace;\n",
       "  background-color: var(--sklearn-color-background);\n",
       "  border-radius: 1em;\n",
       "  height: 1em;\n",
       "  width: 1em;\n",
       "  text-decoration: none !important;\n",
       "  margin-left: 0.5em;\n",
       "  text-align: center;\n",
       "  /* unfitted */\n",
       "  border: var(--sklearn-color-unfitted-level-1) 1pt solid;\n",
       "  color: var(--sklearn-color-unfitted-level-1);\n",
       "}\n",
       "\n",
       ".sk-estimator-doc-link.fitted,\n",
       "a:link.sk-estimator-doc-link.fitted,\n",
       "a:visited.sk-estimator-doc-link.fitted {\n",
       "  /* fitted */\n",
       "  border: var(--sklearn-color-fitted-level-1) 1pt solid;\n",
       "  color: var(--sklearn-color-fitted-level-1);\n",
       "}\n",
       "\n",
       "/* On hover */\n",
       "div.sk-estimator:hover .sk-estimator-doc-link:hover,\n",
       ".sk-estimator-doc-link:hover,\n",
       "div.sk-label-container:hover .sk-estimator-doc-link:hover,\n",
       ".sk-estimator-doc-link:hover {\n",
       "  /* unfitted */\n",
       "  background-color: var(--sklearn-color-unfitted-level-3);\n",
       "  color: var(--sklearn-color-background);\n",
       "  text-decoration: none;\n",
       "}\n",
       "\n",
       "div.sk-estimator.fitted:hover .sk-estimator-doc-link.fitted:hover,\n",
       ".sk-estimator-doc-link.fitted:hover,\n",
       "div.sk-label-container:hover .sk-estimator-doc-link.fitted:hover,\n",
       ".sk-estimator-doc-link.fitted:hover {\n",
       "  /* fitted */\n",
       "  background-color: var(--sklearn-color-fitted-level-3);\n",
       "  color: var(--sklearn-color-background);\n",
       "  text-decoration: none;\n",
       "}\n",
       "\n",
       "/* Span, style for the box shown on hovering the info icon */\n",
       ".sk-estimator-doc-link span {\n",
       "  display: none;\n",
       "  z-index: 9999;\n",
       "  position: relative;\n",
       "  font-weight: normal;\n",
       "  right: .2ex;\n",
       "  padding: .5ex;\n",
       "  margin: .5ex;\n",
       "  width: min-content;\n",
       "  min-width: 20ex;\n",
       "  max-width: 50ex;\n",
       "  color: var(--sklearn-color-text);\n",
       "  box-shadow: 2pt 2pt 4pt #999;\n",
       "  /* unfitted */\n",
       "  background: var(--sklearn-color-unfitted-level-0);\n",
       "  border: .5pt solid var(--sklearn-color-unfitted-level-3);\n",
       "}\n",
       "\n",
       ".sk-estimator-doc-link.fitted span {\n",
       "  /* fitted */\n",
       "  background: var(--sklearn-color-fitted-level-0);\n",
       "  border: var(--sklearn-color-fitted-level-3);\n",
       "}\n",
       "\n",
       ".sk-estimator-doc-link:hover span {\n",
       "  display: block;\n",
       "}\n",
       "\n",
       "/* \"?\"-specific style due to the `<a>` HTML tag */\n",
       "\n",
       "#sk-container-id-1 a.estimator_doc_link {\n",
       "  float: right;\n",
       "  font-size: 1rem;\n",
       "  line-height: 1em;\n",
       "  font-family: monospace;\n",
       "  background-color: var(--sklearn-color-background);\n",
       "  border-radius: 1rem;\n",
       "  height: 1rem;\n",
       "  width: 1rem;\n",
       "  text-decoration: none;\n",
       "  /* unfitted */\n",
       "  color: var(--sklearn-color-unfitted-level-1);\n",
       "  border: var(--sklearn-color-unfitted-level-1) 1pt solid;\n",
       "}\n",
       "\n",
       "#sk-container-id-1 a.estimator_doc_link.fitted {\n",
       "  /* fitted */\n",
       "  border: var(--sklearn-color-fitted-level-1) 1pt solid;\n",
       "  color: var(--sklearn-color-fitted-level-1);\n",
       "}\n",
       "\n",
       "/* On hover */\n",
       "#sk-container-id-1 a.estimator_doc_link:hover {\n",
       "  /* unfitted */\n",
       "  background-color: var(--sklearn-color-unfitted-level-3);\n",
       "  color: var(--sklearn-color-background);\n",
       "  text-decoration: none;\n",
       "}\n",
       "\n",
       "#sk-container-id-1 a.estimator_doc_link.fitted:hover {\n",
       "  /* fitted */\n",
       "  background-color: var(--sklearn-color-fitted-level-3);\n",
       "}\n",
       "</style><div id=\"sk-container-id-1\" class=\"sk-top-container\"><div class=\"sk-text-repr-fallback\"><pre>LogisticRegression(C=1.993327899763547, max_iter=812, penalty=&#x27;l1&#x27;,\n",
       "                   random_state=42, solver=&#x27;liblinear&#x27;)</pre><b>In a Jupyter environment, please rerun this cell to show the HTML representation or trust the notebook. <br />On GitHub, the HTML representation is unable to render, please try loading this page with nbviewer.org.</b></div><div class=\"sk-container\" hidden><div class=\"sk-item\"><div class=\"sk-estimator fitted sk-toggleable\"><input class=\"sk-toggleable__control sk-hidden--visually\" id=\"sk-estimator-id-1\" type=\"checkbox\" checked><label for=\"sk-estimator-id-1\" class=\"sk-toggleable__label fitted sk-toggleable__label-arrow\"><div><div>LogisticRegression</div></div><div><a class=\"sk-estimator-doc-link fitted\" rel=\"noreferrer\" target=\"_blank\" href=\"https://scikit-learn.org/1.6/modules/generated/sklearn.linear_model.LogisticRegression.html\">?<span>Documentation for LogisticRegression</span></a><span class=\"sk-estimator-doc-link fitted\">i<span>Fitted</span></span></div></label><div class=\"sk-toggleable__content fitted\"><pre>LogisticRegression(C=1.993327899763547, max_iter=812, penalty=&#x27;l1&#x27;,\n",
       "                   random_state=42, solver=&#x27;liblinear&#x27;)</pre></div> </div></div></div></div>"
      ],
      "text/plain": [
       "LogisticRegression(C=1.993327899763547, max_iter=812, penalty='l1',\n",
       "                   random_state=42, solver='liblinear')"
      ]
     },
     "execution_count": 15,
     "metadata": {},
     "output_type": "execute_result"
    }
   ],
   "source": [
    "# Concatenate our train and test set to train your best classifier on all data with labels\n",
    "X = np.append(X_train,X_test, axis=0)\n",
    "Y = np.append(Y_train,Y_test)\n",
    "\n",
    "classifier.fit(X,Y)"
   ]
  },
  {
   "cell_type": "code",
   "execution_count": 16,
   "metadata": {
    "colab": {
     "base_uri": "https://localhost:8080/",
     "height": 151
    },
    "colab_type": "code",
    "id": "Tr4CEaPzzbP-",
    "outputId": "f0d1c8ed-be4b-4974-d7b9-f23a49344d9d"
   },
   "outputs": [
    {
     "name": "stdout",
     "output_type": "stream",
     "text": [
      "Prediction set (without labels) : (31620, 5)\n"
     ]
    }
   ],
   "source": [
    "# Read data without labels\n",
    "data_without_labels = pd.read_csv('../data/raw/conversion_data_test.csv')\n",
    "print('Prediction set (without labels) :', data_without_labels.shape)"
   ]
  },
  {
   "cell_type": "code",
   "execution_count": 17,
   "metadata": {},
   "outputs": [],
   "source": [
    "data_without_labels['total_pages_visited_x2'] = data_without_labels['total_pages_visited'] ** 2\n",
    "data_without_labels['total_pages_visited_age'] = data_without_labels['total_pages_visited'] * data_without_labels['age']\n",
    "data_without_labels['total_pages_visited_age_x2'] = (data_without_labels['total_pages_visited'] * data_without_labels['age']) ** 2 "
   ]
  },
  {
   "cell_type": "code",
   "execution_count": 18,
   "metadata": {
    "colab": {
     "base_uri": "https://localhost:8080/",
     "height": 134
    },
    "colab_type": "code",
    "id": "LoUISfsT0HMR",
    "outputId": "e42dc389-5e77-4e13-ccbc-1fef4aa2c0ca"
   },
   "outputs": [
    {
     "name": "stdout",
     "output_type": "stream",
     "text": [
      "Encoding categorical features and standardizing numerical features...\n",
      "...Done\n",
      "[[-0.30941143 -1.47744289  3.32674998  4.1986833   2.78332904  3.09585156\n",
      "   0.          1.          0.          0.          1.        ]\n",
      " [-1.03585553  0.67684511  0.03723927 -0.18903911 -0.34974221 -0.39545186\n",
      "   0.          1.          0.          1.          0.        ]\n",
      " [ 0.17488463  0.67684511 -1.15894645 -0.64490638 -1.07275865 -0.60048291\n",
      "   0.          0.          0.          0.          1.        ]\n",
      " [ 0.17488463  0.67684511  0.3362857   0.01990005  0.410352    0.06296174\n",
      "   0.          0.          1.          0.          0.        ]\n",
      " [-0.67263348 -1.47744289 -0.56085359 -0.49295062 -0.67417266 -0.51531246\n",
      "   0.          0.          0.          0.          1.        ]]\n"
     ]
    }
   ],
   "source": [
    "# WARNING : PUT HERE THE SAME PREPROCESSING AS FOR YOUR TEST SET\n",
    "# CHECK YOU ARE USING X_without_labels\n",
    "print(\"Encoding categorical features and standardizing numerical features...\")\n",
    "\n",
    "X_without_labels = preprocessor.transform(data_without_labels)\n",
    "print(\"...Done\")\n",
    "print(X_without_labels[0:5,:])"
   ]
  },
  {
   "cell_type": "code",
   "execution_count": 19,
   "metadata": {
    "colab": {},
    "colab_type": "code",
    "id": "7DuWSEHuwEQJ"
   },
   "outputs": [],
   "source": [
    "# Make predictions and dump to file\n",
    "# WARNING : MAKE SURE THE FILE IS A CSV WITH ONE COLUMN NAMED 'converted' AND NO INDEX !\n",
    "# WARNING : FILE NAME MUST HAVE FORMAT 'conversion_data_test_predictions_[name].csv'\n",
    "# where [name] is the name of your team/model separated by a '-'\n",
    "# For example : [name] = AURELIE-model1\n",
    "data = {\n",
    "    'converted': classifier.predict(X_without_labels)\n",
    "}\n",
    "\n",
    "Y_predictions = pd.DataFrame(columns=['converted'],data=data)\n",
    "Y_predictions.to_csv('../data/processed/conversion_data_test_predictions_Nicolas-Optuna-LogReg-fe.csv', index=False)\n"
   ]
  }
 ],
 "metadata": {
  "colab": {
   "collapsed_sections": [],
   "name": "Projets_template.ipynb",
   "provenance": []
  },
  "kernelspec": {
   "display_name": "conversion-rate-challenge",
   "language": "python",
   "name": "python3"
  },
  "language_info": {
   "codemirror_mode": {
    "name": "ipython",
    "version": 3
   },
   "file_extension": ".py",
   "mimetype": "text/x-python",
   "name": "python",
   "nbconvert_exporter": "python",
   "pygments_lexer": "ipython3",
   "version": "3.13.3"
  }
 },
 "nbformat": 4,
 "nbformat_minor": 4
}
